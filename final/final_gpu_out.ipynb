{
 "cells": [
  {
   "cell_type": "code",
   "execution_count": null,
   "id": "1abe37e6",
   "metadata": {
    "id": "g6-eJ7_mLeme",
    "papermill": {
     "duration": null,
     "end_time": null,
     "exception": false,
     "start_time": "2024-12-02T15:48:44.246110",
     "status": "running"
    },
    "tags": []
   },
   "outputs": [],
   "source": [
    "#Setup the google drive\n",
    "import os\n",
    "#from google.colab import drive\n",
    "#drive.mount('/content/gdrive')\n",
    "#os.listdir('/content/gdrive/MyDrive')\n",
    "#Basic packages\n",
    "import pandas as pd\n",
    "import matplotlib.pyplot as plt\n",
    "import numpy as np\n",
    "np.random.seed(1)\n",
    "import tensorflow as tf\n",
    "tf.random.set_seed(2)\n",
    "#Keras/TensorFlow\n",
    "from tensorflow.keras.layers import Conv2D, MaxPooling2D, Conv2DTranspose, Input, Concatenate, Dense, Add\n",
    "from tensorflow.keras.models import load_model, Model\n",
    "from tensorflow.keras.optimizers import Adam\n",
    "from tensorflow.keras.callbacks import ModelCheckpoint\n",
    "#Keras image processing\n",
    "from tensorflow.keras.preprocessing.image import ImageDataGenerator\n",
    "from tensorflow.keras.preprocessing import image\n",
    "#Seaborn\n",
    "import seaborn as sns #"
   ]
  },
  {
   "cell_type": "code",
   "execution_count": null,
   "id": "c11c373d",
   "metadata": {
    "id": "YcOETLDKQi9W",
    "papermill": {
     "duration": null,
     "end_time": null,
     "exception": null,
     "start_time": null,
     "status": "pending"
    },
    "tags": []
   },
   "outputs": [],
   "source": [
    "# can replace wit full trainPath and TestPath\n",
    "curPath = os.getcwd()\n",
    "trainPath = curPath + '/TRAIN'\n",
    "testPath = curPath + '/TEST'\n",
    "\n",
    "\n",
    "trainIDs = next(os.walk(trainPath))[1]  # IDs, refers to 6-digit identifier (ie 000000)\n",
    "train_x = []\n",
    "train_y = []\n",
    "\n",
    "for id in trainIDs:\n",
    "    imPath = trainPath + '/' + id\n",
    "    imNames = next(os.walk(imPath))[2]  # this will break if there are not at least 3 images in each subdir\n",
    "    train_x.append([tf.keras.utils.load_img(imPath + '/' + imNames[0], target_size=(256,256)), \\\n",
    "                    tf.keras.utils.load_img(imPath + '/' + imNames[1], target_size=(256,256))])\n",
    "    train_y.append(tf.keras.utils.load_img(imPath + '/' + imNames[2], target_size=(256,256)))\n",
    "\n",
    "train_x = np.array(train_x)\n",
    "train_y = np.array(train_y)\n",
    "\n",
    "testIDs = next(os.walk(testPath))[1]  # IDs, refers to 6-digit identifier (ie 000000)\n",
    "test_x = []\n",
    "test_y = []\n",
    "\n",
    "for id in testIDs:\n",
    "    imPath = testPath + '/' + id\n",
    "    imNames = next(os.walk(imPath))[2]  # this will break if there are not at least 3 images in each subdir\n",
    "    test_x.append([tf.keras.utils.load_img(imPath + '/' + imNames[0], target_size=(256,256)), \\\n",
    "                    tf.keras.utils.load_img(imPath + '/' + imNames[1], target_size=(256,256))])\n",
    "    test_y.append(tf.keras.utils.load_img(imPath + '/' + imNames[2], target_size=(256,256)))\n",
    "\n",
    "test_x = np.array(test_x)\n",
    "test_y = np.array(test_y)"
   ]
  },
  {
   "cell_type": "code",
   "execution_count": null,
   "id": "479951aa",
   "metadata": {
    "id": "Z72YvUYNQi9Y",
    "outputId": "02d0a438-b5d8-4a36-d6ce-ee763e6ae00e",
    "papermill": {
     "duration": null,
     "end_time": null,
     "exception": null,
     "start_time": null,
     "status": "pending"
    },
    "tags": []
   },
   "outputs": [],
   "source": [
    "# x shape (bs, 2)\n",
    "# y shape (bs)\n",
    "# images are three channels, but only one is needed since grayscale\n",
    "fig, ax = plt.subplots(1)\n",
    "\n",
    "pos = ax.imshow(train_y[0][:,:,0], cmap='plasma')\n",
    "fig.colorbar(pos, ax=ax)\n",
    "print(train_y[:,:,:,0].shape)"
   ]
  },
  {
   "cell_type": "code",
   "execution_count": null,
   "id": "966bd648",
   "metadata": {
    "id": "D3LFsgoBQi9h",
    "outputId": "2ec67b6b-96fb-494c-8a84-246b572c6d68",
    "papermill": {
     "duration": null,
     "end_time": null,
     "exception": null,
     "start_time": null,
     "status": "pending"
    },
    "tags": []
   },
   "outputs": [],
   "source": [
    "# kernel = (4,4)\n",
    "# pool_size = (2,2)\n",
    "# filters = 32\n",
    "# loss_rate = 1e-4\n",
    "# epochs = 2\n",
    "# batch_size = 128\n",
    "# val_split = 0.15\n",
    "# hyperparameters = [kernel,pool_size]\n",
    "\n",
    "# class customModel(tf.keras.Model):\n",
    "#     def __init__(self, hyperparameters):\n",
    "#         super().__init__()\n",
    "#         self.inp1 = Input(shape=(1024,1024,1))\n",
    "#         self.inp2 = Input(shape=(1024,1024,1))\n",
    "#         self.cat = Concatenate(axis=1)\n",
    "#         self.conv1 = Conv2D(filters, kernel, padding = 'same', activation='relu')\n",
    "#         self.pool1 = MaxPooling2D(pool_size=pool_size)\n",
    "#         self.conv2 = Conv2D(filters,kernel, padding = 'same',activation='relu')\n",
    "#         self.pool2 = MaxPooling2D(pool_size=pool_size)\n",
    "#         self.tconv1 = Conv2DTranspose(filters, kernel, strides=pool_size, padding = 'same') #Upsampling to get back to 1024x1024\n",
    "#         self.tconv2 = Conv2DTranspose(1, kernel, strides=pool_size, padding = 'same')\n",
    "#     def call(self, inputs):\n",
    "#         x1 = inputs[0]\n",
    "#         x2 = inputs[1]\n",
    "#         x = self.cat([x1,x2])\n",
    "#         x = self.conv1(x)\n",
    "#         x = self.pool1(x)\n",
    "#         x = self.conv2(x)\n",
    "#         x = self.pool2(x)\n",
    "#         x = self.tconv1(x)\n",
    "#         return self.tconv2(x)\n",
    "\n",
    "\n",
    "# model = customModel('dum')\n",
    "# model.compile(optimizer=Adam(loss_rate),loss='mean_squared_error',metrics=['accuracy'])\n",
    "# checkpoint = ModelCheckpoint('best_model.keras', monitor='val_accuracy', save_best_only=True, mode='min')\n",
    "# history=model.fit([train_x[:,0], train_x[:,1]], train_y, epochs=epochs, batch_size=batch_size, callbacks=checkpoint)"
   ]
  },
  {
   "cell_type": "code",
   "execution_count": null,
   "id": "398c1345",
   "metadata": {
    "id": "-jcl_l0DQi9k",
    "outputId": "76e777c2-cc46-4246-f2ed-52dbaec5170b",
    "papermill": {
     "duration": null,
     "end_time": null,
     "exception": null,
     "start_time": null,
     "status": "pending"
    },
    "tags": []
   },
   "outputs": [],
   "source": [
    "kernel = (4,4)\n",
    "pool_size = (2,2)\n",
    "filters = [4, 8]\n",
    "loss_rate = 1e-4\n",
    "epochs = 10\n",
    "batch_size = 128\n",
    "val_split = 0.15\n",
    "\n",
    "x1 = Input(shape=(256,256,1))\n",
    "x2 = Input(shape=(256,256,1))\n",
    "x = Add()([x1,x2])\n",
    "x = Conv2D(filters[0], kernel, padding = 'same', activation='relu')(x)\n",
    "x = MaxPooling2D(pool_size=pool_size)(x)\n",
    "x = Conv2D(filters[0],kernel, padding = 'same',activation='relu')(x)\n",
    "x = Dense(1, activation='relu')(x)\n",
    "x = MaxPooling2D(pool_size=(2,2))(x)    # editted this line to change dimension sizes\n",
    "x = Conv2DTranspose(filters[0], kernel, strides=pool_size, padding = 'same')(x) #Upsampling to get back to 1024x1024\n",
    "x = Conv2DTranspose(1, kernel, strides=pool_size, padding = 'same')(x)\n",
    "\n",
    "# # Alternative to MSE loss\n",
    "# def SSIMLoss(y_true, y_pred):\n",
    "#   return 1 - tf.reduce_mean(tf.image.ssim(y_true, y_pred, 1.0))\n",
    "\n",
    "\n",
    "model = Model(inputs=[x1,x2], outputs=x)\n",
    "model.compile(optimizer=Adam(loss_rate),loss='MAE')\n",
    "model.summary()\n",
    "checkpoint = ModelCheckpoint('best_model.keras', monitor='val_loss', save_best_only=True, mode='min')\n",
    "history=model.fit([train_x[:,0,:,:,0], train_x[:,1,:,:,0]], train_y[:,:,:,0], epochs=epochs, verbose=True, batch_size=batch_size, validation_split = val_split, callbacks=checkpoint)"
   ]
  },
  {
   "cell_type": "code",
   "execution_count": null,
   "id": "168ff634",
   "metadata": {
    "id": "Ol2Zn_7uWQiG",
    "outputId": "74fb801c-78a7-4cac-a6ff-1fa3879cb9ba",
    "papermill": {
     "duration": null,
     "end_time": null,
     "exception": null,
     "start_time": null,
     "status": "pending"
    },
    "tags": []
   },
   "outputs": [],
   "source": [
    "mae = history.history['loss']\n",
    "vmae = history.history['val_loss']\n",
    "plt.figure()\n",
    "plt.plot(mae, label='Training-LSTM',color='blue',linestyle='-')\n",
    "plt.plot(vmae, label='Validation-LSTM',color='blue',linestyle='--')\n",
    "plt.xlabel('Epoch')\n",
    "plt.ylabel('Value')\n",
    "plt.legend()"
   ]
  },
  {
   "cell_type": "code",
   "execution_count": null,
   "id": "77e6aff9",
   "metadata": {
    "id": "ViHIGxxbXsEs",
    "outputId": "ca17bc87-777e-49f8-b03d-cb95a8fb9bad",
    "papermill": {
     "duration": null,
     "end_time": null,
     "exception": null,
     "start_time": null,
     "status": "pending"
    },
    "tags": []
   },
   "outputs": [],
   "source": [
    "model_best = load_model('best_model.keras')\n",
    "best_eval = model_best.evaluate([test_x[:,0,:,:,0], test_x[:,1,:,:,0]], test_y,verbose=2)\n",
    "new_images = model_best.predict([test_x[:,0,:,:,0], test_x[:,1,:,:,0]])"
   ]
  },
  {
   "cell_type": "code",
   "execution_count": null,
   "id": "ed6d306d",
   "metadata": {
    "id": "PDlm31FJQi-6",
    "outputId": "01efedc9-85d9-4abd-ae29-d620d731da3c",
    "papermill": {
     "duration": null,
     "end_time": null,
     "exception": null,
     "start_time": null,
     "status": "pending"
    },
    "tags": []
   },
   "outputs": [],
   "source": [
    "plt.imshow(new_images[0], cmap='plasma')\n",
    "plt.colorbar()"
   ]
  },
  {
   "cell_type": "code",
   "execution_count": null,
   "id": "919b833e",
   "metadata": {
    "id": "thO2zB0RaYRU",
    "papermill": {
     "duration": null,
     "end_time": null,
     "exception": null,
     "start_time": null,
     "status": "pending"
    },
    "tags": []
   },
   "outputs": [],
   "source": [
    "diff = []\n",
    "image_mean = []\n",
    "image_std = []\n",
    "\n",
    "for i in new_images:\n",
    "  diff.append(np.array(new_images[i]) - np.array(test_y[i]))\n",
    "  image_mean.append(np.mean(diff[i]))\n",
    "  image_std.append(np.std(diff[i]))\n",
    "\n",
    "total_mean = np.mean(image_mean)\n",
    "total_std = np.std(image_std)\n",
    "print(\"The mean of the pixel differences is \", total_mean, \" +/- \", total_std)"
   ]
  },
  {
   "cell_type": "code",
   "execution_count": null,
   "id": "b161406e",
   "metadata": {
    "id": "kAIuMUCzcn2S",
    "papermill": {
     "duration": null,
     "end_time": null,
     "exception": null,
     "start_time": null,
     "status": "pending"
    },
    "tags": []
   },
   "outputs": [],
   "source": [
    "n = 10\n",
    "for i in range(n):\n",
    "        i = np.random.randint(0,diff.shape[0]) # choose a random number between 0 and len(X_te)\n",
    "        plt.figure()\n",
    "        plt.imshow(diff[i], cmap='gray')\n",
    "        plt.title('Difference between true image and predicted image for the ' + str(i) + 'th image')\n",
    "        plt.colorbar()\n",
    "\n",
    "        plt.show()"
   ]
  },
  {
   "cell_type": "code",
   "execution_count": null,
   "id": "b689f5ca",
   "metadata": {
    "id": "ZcfwgWq0blwU",
    "papermill": {
     "duration": null,
     "end_time": null,
     "exception": null,
     "start_time": null,
     "status": "pending"
    },
    "tags": []
   },
   "outputs": [],
   "source": []
  }
 ],
 "metadata": {
  "colab": {
   "provenance": []
  },
  "kernelspec": {
   "display_name": "ners590",
   "language": "python",
   "name": "python3"
  },
  "language_info": {
   "codemirror_mode": {
    "name": "ipython",
    "version": 3
   },
   "file_extension": ".py",
   "mimetype": "text/x-python",
   "name": "python",
   "nbconvert_exporter": "python",
   "pygments_lexer": "ipython3",
   "version": "3.12.4"
  },
  "papermill": {
   "default_parameters": {},
   "duration": null,
   "end_time": null,
   "environment_variables": {},
   "exception": null,
   "input_path": "Final_Project_Adam_Friday.ipynb",
   "output_path": "final_gpu_out.ipynb",
   "parameters": {},
   "start_time": "2024-12-02T15:48:42.445235",
   "version": "2.6.0"
  }
 },
 "nbformat": 4,
 "nbformat_minor": 5
}