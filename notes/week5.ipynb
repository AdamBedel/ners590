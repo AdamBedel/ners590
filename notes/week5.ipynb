{
 "cells": [
  {
   "cell_type": "markdown",
   "metadata": {},
   "source": [
    "<h3> Lecture Notes 9/23/2024"
   ]
  },
  {
   "cell_type": "markdown",
   "metadata": {},
   "source": [
    "<h4> Hyperparameter Tuning"
   ]
  },
  {
   "cell_type": "markdown",
   "metadata": {},
   "source": [
    "Optimization and building a hyperparameter cost function\n",
    "- For multi-objective optimization, we find a pareto optimability front rather than a global minimum\n",
    "- We can also convert multi-objective to single objective- add weights and sum the objectives (weights sum to 1)"
   ]
  }
 ],
 "metadata": {
  "language_info": {
   "name": "python"
  }
 },
 "nbformat": 4,
 "nbformat_minor": 2
}
