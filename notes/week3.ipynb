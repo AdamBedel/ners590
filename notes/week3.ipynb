{
 "cells": [
  {
   "cell_type": "markdown",
   "metadata": {},
   "source": [
    "<h3> Week 3 <h3>"
   ]
  },
  {
   "cell_type": "markdown",
   "metadata": {},
   "source": [
    "Car Price (revisited)\n",
    "- len, wid, height, engine-size, horsepower, peak-rpm, city-mpg, hw-mpg, price\n",
    "- sklearn.metrics does MAE, MAPE, R^2, RMSE "
   ]
  },
  {
   "cell_type": "markdown",
   "metadata": {},
   "source": [
    "Permutation Feature Importance\n",
    "- decrease in model score (eg R^2) when a single feature value is randomly shuffled"
   ]
  },
  {
   "cell_type": "markdown",
   "metadata": {},
   "source": [
    "Classification v Regression Problems\n",
    "- Classification is discrete, Regression is continuous (over outputs)\n",
    "- Both aim to predict an outcome based on inputs\n",
    "- Performance metrics have to do with false positives / negatives, etc. (precision, recall, accuracy, f1 score)"
   ]
  },
  {
   "cell_type": "markdown",
   "metadata": {},
   "source": [
    "k-fold cross-validation: what if your dataset is too small to split?\n",
    "- instead of an 80:20 split, you do 5 different 80:20 splits (for 5-fold)\n",
    "- shuffle first, split into k groups, train and compare all models"
   ]
  },
  {
   "cell_type": "markdown",
   "metadata": {},
   "source": [
    "Linear Regression v Support Vector Regression\n",
    "- Allow fitting to within a threshold margin (called decision boundaries)\n",
    "- Simply find the line that has the highest number of points within the decision boundaries (also called the hyperplane)\n",
    "- Biggest difference - only care about support vectors (points from the data within the margin) and there is a kernel transformation"
   ]
  },
  {
   "cell_type": "markdown",
   "metadata": {},
   "source": [
    "SVR Hyperparameters\n",
    "- Regularization (C): How much tolerence you want to apply for the points outside of the margin (high C probably means overfitting)\n",
    "- gamma: has to do with kernal transformations, high gamme means only nearby points matter to the model\n",
    "- Margin (squiggly E): a good margin will find a line right inbetween the two data groups"
   ]
  },
  {
   "cell_type": "markdown",
   "metadata": {},
   "source": [
    "The Kernel Trick\n",
    "- Find a linearly seperable data in a higher dimensional space - transform the data into higher dimensional feature space"
   ]
  },
  {
   "cell_type": "markdown",
   "metadata": {},
   "source": [
    "SVR can be very efficient and work for small datasets, but works poorly for noisy data and very large data sets"
   ]
  },
  {
   "cell_type": "markdown",
   "metadata": {},
   "source": [
    "Decision Trees\n",
    "- series of sequential decisions, great for visualization\n",
    "- Cost function that weights by num of stuff on LHS * H + num of stuff on RHS * H\n",
    "- H here is a loss function, for clasification use the Gini index or Entropy Index\n",
    "- for regression, use MSE or MAE (MSE is much faster)"
   ]
  },
  {
   "cell_type": "markdown",
   "metadata": {},
   "source": [
    "Gini v Entropy:\n",
    "- Gini: the degree of probability of a paticular variable being wrongly classified when it is randomly chosen. We want to decrease entropy\n",
    "- Entropy: starts at 1, but should be reduced down to 0 each step (slower than Gini)\n",
    "- Fundamentally a greedy algorithm"
   ]
  },
  {
   "cell_type": "markdown",
   "metadata": {},
   "source": [
    "Random forest, make multiple decision trees \\ In general, tend to overfit"
   ]
  },
  {
   "cell_type": "markdown",
   "metadata": {},
   "source": [
    "Gradient boosting - feed output of 1 tree into next tree, then find an ensemble prediction from whole forest\n",
    "- more prone to overfitting and slower than random forest, but perhaps better predictions"
   ]
  },
  {
   "cell_type": "markdown",
   "metadata": {},
   "source": [
    "Bayesian Learning (skipped?)"
   ]
  },
  {
   "cell_type": "code",
   "execution_count": null,
   "metadata": {
    "vscode": {
     "languageId": "plaintext"
    }
   },
   "outputs": [],
   "source": [
    "url='http://raw.githubusercontent.com/aims-umich/ners590data/main/cars.csv\n",
    "data = pd.read_csv(url)\n",
    "data = data.dropna()\n",
    "npdata=data.values"
   ]
  }
 ],
 "metadata": {
  "language_info": {
   "name": "python"
  }
 },
 "nbformat": 4,
 "nbformat_minor": 2
}
