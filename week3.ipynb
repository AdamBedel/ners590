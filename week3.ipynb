{
 "cells": [
  {
   "cell_type": "markdown",
   "metadata": {},
   "source": [
    "<h3> Week 3 <h3>"
   ]
  },
  {
   "cell_type": "markdown",
   "metadata": {},
   "source": [
    "Car Price (revisited)\n",
    "- len, wid, height, engine-size, horsepower, peak-rpm, city-mpg, hw-mpg, price\n",
    "- sklearn.metrics does MAE, MAPE, R^2, RMSE "
   ]
  },
  {
   "cell_type": "markdown",
   "metadata": {},
   "source": [
    "Permutation Feature Importance\n",
    "- decrease in model score (eg R^2) when a single feature value is randomly shuffled"
   ]
  },
  {
   "cell_type": "markdown",
   "metadata": {},
   "source": [
    "Classification v Regression Problems\n",
    "- Classification is discrete, Regression is continuous (over outputs)\n",
    "- Both aim to predict an outcome based on inputs\n",
    "- Performance metrics have to do with false positives / negatives, etc. (precision, recall, accuracy, f1 score)"
   ]
  },
  {
   "cell_type": "markdown",
   "metadata": {},
   "source": [
    "k-fold cross-validation: what if your dataset is too small to split?\n",
    "- instead of an 80:20 split, you do 5 different 80:20 splits (for 5-fold)\n",
    "- shuffle first, split into k groups, train and compare all models"
   ]
  },
  {
   "cell_type": "markdown",
   "metadata": {},
   "source": [
    "Linear Regression v Support Vector Regression\n",
    "- Allow fitting to within a threshold margin (called decision boundaries)\n",
    "- Simply find the line that has the highest number of points within the decision boundaries (also called the hyperplane)"
   ]
  }
 ],
 "metadata": {
  "language_info": {
   "name": "python"
  }
 },
 "nbformat": 4,
 "nbformat_minor": 2
}
