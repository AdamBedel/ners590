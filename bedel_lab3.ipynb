{
 "cells": [
  {
   "cell_type": "markdown",
   "metadata": {},
   "source": [
    "<h1> Lab 3"
   ]
  },
  {
   "cell_type": "code",
   "execution_count": 3,
   "metadata": {},
   "outputs": [],
   "source": [
    "#Basic packages\n",
    "import numpy as np\n",
    "np.random.seed(1)\n",
    "import pandas as pd\n",
    "import matplotlib.pyplot as plt\n",
    "import warnings     #Supress warnings\n",
    "warnings.filterwarnings(\"ignore\")\n",
    "#sklearn basics\n",
    "from sklearn.preprocessing import MinMaxScaler, StandardScaler\n",
    "from sklearn.model_selection import train_test_split, cross_val_score\n",
    "from sklearn.metrics import r2_score, mean_absolute_error\n",
    "from sklearn.metrics import mean_absolute_percentage_error, mean_squared_error\n",
    "from sklearn.inspection import permutation_importance\n",
    "#GP imports\n",
    "from sklearn.gaussian_process import GaussianProcessRegressor\n",
    "from sklearn.gaussian_process.kernels import Matern, WhiteKernel, ConstantKernel\n",
    "#other clasical regressors\n",
    "from sklearn.tree import DecisionTreeRegressor\n",
    "from sklearn.ensemble import RandomForestRegressor, GradientBoostingRegressor\n",
    "from sklearn.linear_model import LinearRegression\n",
    "from sklearn.multioutput import MultiOutputRegressor\n",
    "#for Bayesian plotting\n",
    "from scipy.stats import norm\n",
    "#handy function to return RMSE\n",
    "def root_mean_squared_error(y, yhat):\n",
    "    return np.sqrt(mean_squared_error(y, yhat))"
   ]
  },
  {
   "cell_type": "markdown",
   "metadata": {},
   "source": [
    "<h3> Exercise Set 1: Bayesian Updating"
   ]
  },
  {
   "cell_type": "markdown",
   "metadata": {},
   "source": [
    "Our prior is:\n",
    "$$\n",
    "    p(\\theta) = \\frac 1 {\\tau_0\\sqrt{2\\pi}}e^{-\\frac {(\\theta-\\theta_0)^2} {2\\tau_0^2}}\n",
    "$$\n",
    "\n",
    "Our single-draw likelihood is:\n",
    "$$\n",
    "    p(x_i|\\theta) = \\frac 1 {\\sigma\\sqrt{2\\pi}}e^{-\\frac {(x_i-\\theta)^2} {2\\sigma^2}}\n",
    "$$\n",
    "\n",
    "So our likelihood function is:\n",
    "$$\n",
    "    p(x|\\theta) = \\prod_{i}p(x_i|\\theta) = \\frac 1 {\\sigma\\sqrt{2\\pi}}e^{-\\frac 1 {2\\sigma^2}\\sum_{i}(x_i-\\theta)^2}\n",
    "$$\n",
    "\n",
    "By Bayes' Theorem this implies our posterior is:\n",
    "$$\n",
    "    p(\\theta|x) = \\frac 1 {\\tau_0\\sqrt{2\\pi}}e^{-\\frac {(\\theta-\\theta_0)^2} {2\\tau_0^2}}\\frac 1 {\\sigma\\sqrt{2\\pi}}e^{-\\frac 1 {2\\sigma^2}\\sum_{i}(x_i-\\theta)^2}\n",
    "$$"
   ]
  },
  {
   "attachments": {
    "image.png": {
     "image/png": "[encoded data removed]"
    }
   },
   "cell_type": "markdown",
   "metadata": {},
   "source": [
    "![image.png](attachment:image.png)\n"
   ]
  }
 ],
 "metadata": {
  "kernelspec": {
   "display_name": "ners590",
   "language": "python",
   "name": "python3"
  },
  "language_info": {
   "codemirror_mode": {
    "name": "ipython",
    "version": 3
   },
   "file_extension": ".py",
   "mimetype": "text/x-python",
   "name": "python",
   "nbconvert_exporter": "python",
   "pygments_lexer": "ipython3",
   "version": "3.12.4"
  }
 },
 "nbformat": 4,
 "nbformat_minor": 2
}
