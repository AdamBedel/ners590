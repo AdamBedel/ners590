{
 "cells": [
  {
   "cell_type": "markdown",
   "id": "f9cac638",
   "metadata": {
    "papermill": {
     "duration": 0.0063,
     "end_time": "2024-10-24T22:12:26.355032",
     "exception": false,
     "start_time": "2024-10-24T22:12:26.348732",
     "status": "completed"
    },
    "tags": []
   },
   "source": [
    "<h2> Lab 8"
   ]
  },
  {
   "cell_type": "markdown",
   "id": "44d468ce",
   "metadata": {
    "papermill": {
     "duration": 0.005082,
     "end_time": "2024-10-24T22:12:26.365452",
     "exception": false,
     "start_time": "2024-10-24T22:12:26.360370",
     "status": "completed"
    },
    "tags": []
   },
   "source": [
    "<h3> Exercise Set 1"
   ]
  },
  {
   "cell_type": "markdown",
   "id": "b2e59a3c",
   "metadata": {
    "papermill": {
     "duration": 0.005563,
     "end_time": "2024-10-24T22:12:26.376630",
     "exception": false,
     "start_time": "2024-10-24T22:12:26.371067",
     "status": "completed"
    },
    "tags": []
   },
   "source": [
    "(a) Scenario 1: You have a dataset of 300 documents containing numerical and text records of different nuclear units. Your task is to develop a model that can process similar documents and classify the data based on reactor design (PWR or BWR) and the length of the reactor life (< 40 years, > 40 years but < 60 years, > 60 years).\n",
    "\n",
    "Needs to handle binary and continuous classification, small sample size, loss could be categorical crossentropy, how to rectify the two outputs?\n"
   ]
  },
  {
   "cell_type": "markdown",
   "id": "73aad806",
   "metadata": {
    "papermill": {
     "duration": 0.005353,
     "end_time": "2024-10-24T22:12:26.387186",
     "exception": false,
     "start_time": "2024-10-24T22:12:26.381833",
     "status": "completed"
    },
    "tags": []
   },
   "source": [
    "(b) Scenario 2: You have a dataset of 5000 images of different pipes in a nuclear power plant unit. Your task is to develop a model that can predict the health of similar pipes and classify them into different grades: High, medium, low, or about to break.\n",
    "\n",
    "Handles image classification, loss could be categorical crossentropy"
   ]
  },
  {
   "cell_type": "markdown",
   "id": "7122ec10",
   "metadata": {
    "papermill": {
     "duration": 0.005184,
     "end_time": "2024-10-24T22:12:26.397831",
     "exception": false,
     "start_time": "2024-10-24T22:12:26.392647",
     "status": "completed"
    },
    "tags": []
   },
   "source": [
    "(c) Scenario 3: You have a dataset of 100,000 time-dependent measurements of reactor pressure (MPa), fuel temperature (Kelvin), and mass flow rate of coolant (kg/s). Your task is to develop a model that predicts the coolant (water) level in the core in meters as a function of time\n",
    "\n",
    "large dataset of time-dependent measurements, loss could be absolute squared error"
   ]
  },
  {
   "cell_type": "markdown",
   "id": "b580f317",
   "metadata": {
    "papermill": {
     "duration": 0.005024,
     "end_time": "2024-10-24T22:12:26.408433",
     "exception": false,
     "start_time": "2024-10-24T22:12:26.403409",
     "status": "completed"
    },
    "tags": []
   },
   "source": [
    "(d) Scenario 4: You have a dataset of static nuclear data (cross-section) measurements taken from a nuclear laboratory for isotopes like U-235, U-238, Pu-239, Pu-240, and other actinides (Am, Cm) and fission products (Cs, Sm). Your task is to develop a model that can predict the value of $ k_{eff} $ based on these cross-section data.\n",
    "\n",
    "\n"
   ]
  },
  {
   "cell_type": "markdown",
   "id": "638a6365",
   "metadata": {
    "papermill": {
     "duration": 0.004977,
     "end_time": "2024-10-24T22:12:26.418461",
     "exception": false,
     "start_time": "2024-10-24T22:12:26.413484",
     "status": "completed"
    },
    "tags": []
   },
   "source": [
    "<h3> Exercise Set 2"
   ]
  },
  {
   "cell_type": "markdown",
   "id": "f780d88a",
   "metadata": {
    "papermill": {
     "duration": 0.005129,
     "end_time": "2024-10-24T22:12:26.428436",
     "exception": false,
     "start_time": "2024-10-24T22:12:26.423307",
     "status": "completed"
    },
    "tags": []
   },
   "source": [
    "<h4>----------- Cut File -----------"
   ]
  },
  {
   "cell_type": "markdown",
   "id": "d1cfb2b4",
   "metadata": {
    "papermill": {
     "duration": 0.004947,
     "end_time": "2024-10-24T22:12:26.438758",
     "exception": false,
     "start_time": "2024-10-24T22:12:26.433811",
     "status": "completed"
    },
    "tags": []
   },
   "source": [
    "(a) The correlation matrices of the input data (between the input themselves) and output data\n",
    "(between the output themselves).\n",
    "(b) The datafarme that shows the model ranking after tuning.\n",
    "(c) The diagonal validation plot for an output of your choice (first output by default).\n",
    "(d) The percent error plot for five outputs of your choice.\n",
    "(e) The convergence of the Bayesian optimizer for the neural network.\n",
    "(f) The neural network loss curve for the best neural network model.\n",
    "(g) Discuss your observations of the performance of the methods and the results you\n",
    "found.\n"
   ]
  },
  {
   "cell_type": "code",
   "execution_count": 1,
   "id": "4c53294b",
   "metadata": {
    "execution": {
     "iopub.execute_input": "2024-10-24T22:12:26.449697Z",
     "iopub.status.busy": "2024-10-24T22:12:26.449468Z",
     "iopub.status.idle": "2024-10-24T22:12:36.708746Z",
     "shell.execute_reply": "2024-10-24T22:12:36.708256Z"
    },
    "papermill": {
     "duration": 10.266352,
     "end_time": "2024-10-24T22:12:36.709996",
     "exception": false,
     "start_time": "2024-10-24T22:12:26.443644",
     "status": "completed"
    },
    "tags": []
   },
   "outputs": [],
   "source": [
    "import xarray as xr\n",
    "import numpy as np\n",
    "import pandas as pd\n",
    "import matplotlib.pyplot as plt\n",
    "from datetime import datetime\n",
    "from scipy.stats import uniform, randint\n",
    "from sklearn.preprocessing import MinMaxScaler\n",
    "\n",
    "# Plot settings\n",
    "matplotlib_settings = {\n",
    "    \"font.size\": 12,\n",
    "    \"legend.fontsize\": 11,\n",
    "    \"figure.figsize\": (8, 8)\n",
    "}\n",
    "plt.rcParams.update(**matplotlib_settings)"
   ]
  },
  {
   "cell_type": "code",
   "execution_count": null,
   "id": "b09476da",
   "metadata": {
    "execution": {
     "iopub.execute_input": "2024-10-23T14:33:51.571621Z",
     "iopub.status.busy": "2024-10-23T14:33:51.570909Z",
     "iopub.status.idle": "2024-10-23T14:35:58.374617Z",
     "shell.execute_reply": "2024-10-23T14:35:58.374191Z"
    },
    "papermill": {
     "duration": null,
     "end_time": null,
     "exception": null,
     "start_time": null,
     "status": "pending"
    },
    "tags": []
   },
   "outputs": [],
   "source": [
    "from pyMAISE.preprocessing import correlation_matrix, train_test_split, scale_data\n",
    "import pyMAISE as mai"
   ]
  },
  {
   "cell_type": "code",
   "execution_count": null,
   "id": "61fda767",
   "metadata": {
    "execution": {
     "iopub.execute_input": "2024-10-23T14:35:58.385797Z",
     "iopub.status.busy": "2024-10-23T14:35:58.385036Z",
     "iopub.status.idle": "2024-10-23T14:35:58.388166Z",
     "shell.execute_reply": "2024-10-23T14:35:58.387817Z"
    },
    "papermill": {
     "duration": null,
     "end_time": null,
     "exception": null,
     "start_time": null,
     "status": "pending"
    },
    "tags": []
   },
   "outputs": [],
   "source": [
    "global_settings = mai.init(\n",
    "    problem_type=mai.ProblemType.REGRESSION,   # Define a regression problem\n",
    "    cuda_visible_devices=\"-1\"                  # Use CPU only\n",
    ")"
   ]
  },
  {
   "cell_type": "code",
   "execution_count": null,
   "id": "3a3f4aee",
   "metadata": {
    "execution": {
     "iopub.execute_input": "2024-10-23T14:35:58.398081Z",
     "iopub.status.busy": "2024-10-23T14:35:58.397516Z",
     "iopub.status.idle": "2024-10-23T14:35:59.074668Z",
     "shell.execute_reply": "2024-10-23T14:35:59.074249Z"
    },
    "papermill": {
     "duration": null,
     "end_time": null,
     "exception": null,
     "start_time": null,
     "status": "pending"
    },
    "tags": []
   },
   "outputs": [],
   "source": [
    "#load the input and output dataframes from github\n",
    "xdf=pd.read_csv('https://raw.githubusercontent.com/aims-umich/ners590data/main/teds_x.csv')\n",
    "ydf=pd.read_csv('https://raw.githubusercontent.com/aims-umich/ners590data/main/teds_y.csv')\n",
    "\n",
    "xnames=xdf.columns\n",
    "ynames=ydf.columns\n",
    "\n",
    "# Convert np arrays into xarrays\n",
    "x = xr.DataArray(xdf, name=\"Input data\", dims=[\"Samples\", \"Features\"], coords={\"Features\":xnames})\n",
    "y = xr.DataArray(ydf, name=\"Target data\",dims=[\"Samples\", \"Features\"], coords={\"Features\":ynames})"
   ]
  },
  {
   "cell_type": "markdown",
   "id": "164d500f",
   "metadata": {
    "papermill": {
     "duration": null,
     "end_time": null,
     "exception": null,
     "start_time": null,
     "status": "pending"
    },
    "tags": []
   },
   "source": [
    "<h3>----------- Cut File -----------"
   ]
  },
  {
   "cell_type": "code",
   "execution_count": null,
   "id": "82267593",
   "metadata": {
    "execution": {
     "iopub.execute_input": "2024-10-23T14:35:59.093835Z",
     "iopub.status.busy": "2024-10-23T14:35:59.093215Z",
     "iopub.status.idle": "2024-10-23T14:36:00.734628Z",
     "shell.execute_reply": "2024-10-23T14:36:00.734228Z"
    },
    "papermill": {
     "duration": null,
     "end_time": null,
     "exception": null,
     "start_time": null,
     "status": "pending"
    },
    "tags": []
   },
   "outputs": [],
   "source": [
    "fig, ax = plt.subplots(1,2)\n",
    "ax[0].set_title(\"Input Data Correlation\")\n",
    "ax[1].set_title(\"Output Data Correlation\")\n",
    "correlation_matrix(x, ax=ax[0], fig=fig)\n",
    "correlation_matrix(y, ax=ax[1], fig=fig)\n",
    "fig.set_figwidth(20)"
   ]
  },
  {
   "cell_type": "code",
   "execution_count": null,
   "id": "6d1c8b64",
   "metadata": {
    "execution": {
     "iopub.execute_input": "2024-10-23T14:36:00.752691Z",
     "iopub.status.busy": "2024-10-23T14:36:00.752527Z",
     "iopub.status.idle": "2024-10-23T14:36:00.763404Z",
     "shell.execute_reply": "2024-10-23T14:36:00.763047Z"
    },
    "papermill": {
     "duration": null,
     "end_time": null,
     "exception": null,
     "start_time": null,
     "status": "pending"
    },
    "tags": []
   },
   "outputs": [],
   "source": [
    "xtrain, xtest, ytrain, ytest = train_test_split(data=[x, y], test_size=0.3)\n",
    "xtrain, xtest, xscaler = scale_data(xtrain, xtest, scaler=MinMaxScaler())\n",
    "ytrain, ytest, yscaler = scale_data(ytrain, ytest, scaler=MinMaxScaler())\n",
    "\n",
    "model_settings = {\n",
    "    \"models\": [\"Linear\", \"Lasso\", \"DT\", \"RF\", \"KN\", \"FNN\"],\n",
    "    \"FNN\": {\n",
    "        \"structural_params\": {\n",
    "            \"Dense_input\": {\n",
    "                \"units\": mai.Int(min_value=50, max_value=400),\n",
    "                \"input_dim\": xtrain.shape[-1],\n",
    "                \"activation\": \"relu\",\n",
    "                \"kernel_initializer\": \"normal\",\n",
    "                \"sublayer\": mai.Choice([\"Dropout\", \"None\"]),\n",
    "                \"Dropout\": {\n",
    "                    \"rate\": mai.Float(min_value=0.4, max_value=0.6),\n",
    "                },\n",
    "            },\n",
    "            \"Dense_hidden\": {\n",
    "                \"num_layers\": mai.Int(min_value=0, max_value=3),\n",
    "                \"units\": mai.Int(min_value=25, max_value=250),\n",
    "                \"activation\": \"relu\",\n",
    "                \"kernel_initializer\": \"normal\",\n",
    "                \"sublayer\": mai.Choice([\"Dropout_hidden\", \"None\"]),\n",
    "                \"Dropout_hidden\": {\n",
    "                    \"rate\": mai.Float(min_value=0.4, max_value=0.6),\n",
    "                },\n",
    "            },\n",
    "            \"Dense_output\": {\n",
    "                \"units\": ytrain.shape[-1],\n",
    "                \"activation\": \"linear\",\n",
    "                \"kernel_initializer\": \"normal\",\n",
    "            },\n",
    "        },\n",
    "        \"optimizer\": \"Adam\",\n",
    "        \"Adam\": {\n",
    "            \"learning_rate\": mai.Float(min_value=1e-5, max_value=0.001),\n",
    "        },\n",
    "        \"compile_params\": {\n",
    "            \"loss\": \"mean_absolute_error\",\n",
    "            \"metrics\": [\"mean_absolute_error\"],\n",
    "        },\n",
    "        \"fitting_params\": {\n",
    "            \"batch_size\": mai.Choice([8, 16, 32]),\n",
    "            \"epochs\": 50,\n",
    "            \"validation_split\": 0.15,\n",
    "        },\n",
    "    },\n",
    "}\n",
    "tuner = mai.Tuner(xtrain, ytrain, model_settings=model_settings)"
   ]
  },
  {
   "cell_type": "code",
   "execution_count": null,
   "id": "be35dc10",
   "metadata": {
    "execution": {
     "iopub.execute_input": "2024-10-23T14:36:00.816659Z",
     "iopub.status.busy": "2024-10-23T14:36:00.816355Z",
     "iopub.status.idle": "2024-10-23T14:37:59.037614Z",
     "shell.execute_reply": "2024-10-23T14:37:59.037080Z"
    },
    "papermill": {
     "duration": null,
     "end_time": null,
     "exception": null,
     "start_time": null,
     "status": "pending"
    },
    "tags": []
   },
   "outputs": [],
   "source": [
    "random_search_spaces = {\n",
    "    \"Linear\": {\n",
    "        \"alpha\": uniform(loc=0.0001, scale=0.0099), # 0.0001 - 0.01\n",
    "    },\n",
    "    \"Lasso\": {\n",
    "        \"alpha\": uniform(loc=0.0001, scale=0.0099), # 0.0001 - 0.01\n",
    "    },\n",
    "    \"DT\": {\n",
    "        \"max_depth\": randint(low=5, high=50), # 5 - 50\n",
    "        \"max_features\": [None, \"sqrt\", \"log2\", 2, 4, 6],\n",
    "        \"min_samples_split\": randint(low=2, high=20), # 2 - 20\n",
    "        \"min_samples_leaf\": randint(low=1, high=20), # 1 - 20\n",
    "    },\n",
    "    \"RF\": {\n",
    "        \"n_estimators\": randint(low=50, high=200), # 50 - 200\n",
    "        \"criterion\": [\"squared_error\", \"absolute_error\", \"poisson\"],\n",
    "        \"min_samples_split\": randint(low=2, high=20), # 2 - 20\n",
    "        \"min_samples_leaf\": randint(low=1, high=20), # 1 - 20\n",
    "        \"max_features\": [None, \"sqrt\", \"log2\", 2, 4, 6],\n",
    "    },\n",
    "    \"KN\": {\n",
    "        \"n_neighbors\": randint(low=1, high=20), # 1 - 20\n",
    "        \"weights\": [\"uniform\", \"distance\"],\n",
    "        \"leaf_size\": randint(low=1, high=30), # 1 - 30\n",
    "        \"p\": randint(low=1, high=10), # 1 - 10\n",
    "    },\n",
    "}\n",
    "\n",
    "random_search_configs = tuner.random_search(\n",
    "    param_spaces=random_search_spaces, \n",
    "    #n_iter=200, \n",
    "    n_iter=3, \n",
    "    cv=5,\n",
    ")\n",
    "bayesian_search_configs = tuner.nn_bayesian_search(\n",
    "    objective=\"r2_score\",\n",
    "    #max_trials=50,\n",
    "    max_trials=3,\n",
    "    cv=5,\n",
    ")"
   ]
  },
  {
   "cell_type": "code",
   "execution_count": null,
   "id": "bb31bb62",
   "metadata": {
    "execution": {
     "iopub.execute_input": "2024-10-23T14:37:59.056197Z",
     "iopub.status.busy": "2024-10-23T14:37:59.055585Z",
     "iopub.status.idle": "2024-10-23T14:37:59.198143Z",
     "shell.execute_reply": "2024-10-23T14:37:59.197711Z"
    },
    "papermill": {
     "duration": null,
     "end_time": null,
     "exception": null,
     "start_time": null,
     "status": "pending"
    },
    "tags": []
   },
   "outputs": [],
   "source": [
    "ax = tuner.convergence_plot(model_types=\"FNN\")\n",
    "ax.set_ylim([0, 1])\n",
    "plt.show()"
   ]
  },
  {
   "cell_type": "code",
   "execution_count": null,
   "id": "2f97fe12",
   "metadata": {
    "papermill": {
     "duration": null,
     "end_time": null,
     "exception": null,
     "start_time": null,
     "status": "pending"
    },
    "tags": []
   },
   "outputs": [],
   "source": [
    "postprocessor = mai.PostProcessor(\n",
    "    data=(xtrain, xtest, ytrain, ytest),\n",
    "    model_configs=[random_search_configs, bayesian_search_configs],\n",
    "    new_model_settings={\n",
    "        \"FNN\": {\"fitting_params\": {\"epochs\": 300}},\n",
    "    },\n",
    "    yscaler=yscaler,\n",
    ")\n",
    "\n",
    "postprocessor.metrics().drop(\"Parameter Configurations\", axis=1)"
   ]
  },
  {
   "cell_type": "code",
   "execution_count": null,
   "id": "599ed671",
   "metadata": {
    "papermill": {
     "duration": null,
     "end_time": null,
     "exception": null,
     "start_time": null,
     "status": "pending"
    },
    "tags": []
   },
   "outputs": [],
   "source": [
    "ax = postprocessor.diagonal_validation_plot(model_type='Linear')\n",
    "plt.show()"
   ]
  },
  {
   "cell_type": "code",
   "execution_count": null,
   "id": "e2c31fc0",
   "metadata": {
    "papermill": {
     "duration": null,
     "end_time": null,
     "exception": null,
     "start_time": null,
     "status": "pending"
    },
    "tags": []
   },
   "outputs": [],
   "source": [
    "models = [\"Linear\", \"Lasso\", \"DT\", \"RF\", \"KN\"]\n",
    "gs = fig.add_gridspec(5, 1)\n",
    "for i in range(5):\n",
    "    ax = fig.add_subplot(gs[i])\n",
    "    ax = postprocessor.validation_plot(model_type=models[i])\n",
    "    ax.set_title(models[i])\n",
    "plt.show()"
   ]
  },
  {
   "cell_type": "code",
   "execution_count": null,
   "id": "f5ec3520",
   "metadata": {
    "papermill": {
     "duration": null,
     "end_time": null,
     "exception": null,
     "start_time": null,
     "status": "pending"
    },
    "tags": []
   },
   "outputs": [],
   "source": [
    "postprocessor.nn_learning_plot()\n",
    "plt.show()"
   ]
  },
  {
   "cell_type": "markdown",
   "id": "7a0f4764",
   "metadata": {
    "papermill": {
     "duration": null,
     "end_time": null,
     "exception": null,
     "start_time": null,
     "status": "pending"
    },
    "tags": []
   },
   "source": [
    "<h3> Exercise Set 3"
   ]
  }
 ],
 "metadata": {
  "kernelspec": {
   "display_name": "Python 3 (ipykernel)",
   "language": "python",
   "name": "python3"
  },
  "language_info": {
   "codemirror_mode": {
    "name": "ipython",
    "version": 3
   },
   "file_extension": ".py",
   "mimetype": "text/x-python",
   "name": "python",
   "nbconvert_exporter": "python",
   "pygments_lexer": "ipython3",
   "version": "3.9.7"
  },
  "papermill": {
   "default_parameters": {},
   "duration": null,
   "end_time": null,
   "environment_variables": {},
   "exception": null,
   "input_path": "abedel_lab8.ipynb",
   "output_path": "abedel_lab8_out.ipynb",
   "parameters": {},
   "start_time": "2024-10-24T22:12:22.467259",
   "version": "2.6.0"
  }
 },
 "nbformat": 4,
 "nbformat_minor": 5
}