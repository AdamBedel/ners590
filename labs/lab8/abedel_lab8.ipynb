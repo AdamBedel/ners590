{
 "cells": [
  {
   "cell_type": "markdown",
   "id": "f9cac638",
   "metadata": {
    "papermill": {
     "duration": 0.005627,
     "end_time": "2024-10-23T14:33:11.626935",
     "exception": false,
     "start_time": "2024-10-23T14:33:11.621308",
     "status": "completed"
    },
    "tags": []
   },
   "source": [
    "<h2> Lab 8"
   ]
  },
  {
   "cell_type": "markdown",
   "id": "44d468ce",
   "metadata": {
    "papermill": {
     "duration": 0.004002,
     "end_time": "2024-10-23T14:33:11.635240",
     "exception": false,
     "start_time": "2024-10-23T14:33:11.631238",
     "status": "completed"
    },
    "tags": []
   },
   "source": [
    "<h3> Exercise Set 1"
   ]
  },
  {
   "cell_type": "markdown",
   "id": "b2e59a3c",
   "metadata": {
    "papermill": {
     "duration": 0.004042,
     "end_time": "2024-10-23T14:33:11.643270",
     "exception": false,
     "start_time": "2024-10-23T14:33:11.639228",
     "status": "completed"
    },
    "tags": []
   },
   "source": [
    "**(a) Scenario 1**: You have a dataset of 300 documents containing numerical and text records of different nuclear units. Your task is to develop a model that can process similar documents and classify the data based on reactor design (PWR or BWR) and the length of the reactor life (< 40 years, > 40 years but < 60 years, > 60 years).\n",
    "\n",
    "This is a simply classification problem, although it may be challenging due to a small sample size. I will go with a FNN.\n",
    "\n",
    "Input layer: All number and text fields from the document are encoded and inputted here. <br>\n",
    "Dense layers: At least 5, with decreasing nodes from the size of the input layer down to 20 or so. relu activation <br>\n",
    "Dropout layer: A modest dropout layer would be inserted between the 1st and 2nd dense layer with a dropout rate of 0.1 <br>\n",
    "Output layer: two outputs, with a softmax activation function.\n",
    "\n",
    "Loss could be categorical crossentropy with Adam as the optimizer and accuracy as an evaulation metric. I would also utilize k-fold cross validation (k=10) to help make up for the small training size.\n"
   ]
  },
  {
   "cell_type": "markdown",
   "id": "73aad806",
   "metadata": {
    "papermill": {
     "duration": 0.004097,
     "end_time": "2024-10-23T14:33:11.651285",
     "exception": false,
     "start_time": "2024-10-23T14:33:11.647188",
     "status": "completed"
    },
    "tags": []
   },
   "source": [
    "**(b) Scenario 2**: You have a dataset of 5000 images of different pipes in a nuclear power plant unit. Your task is to develop a model that can predict the health of similar pipes and classify them into different grades: High, medium, low, or about to break.\n",
    "\n",
    "This is an image classification problem, so I would use a Convolutional Neural Network. Since the health of the pipe is important rather than the general shape, I would be conservative with pooling, but would add it in as needed due to memory or training limitations using filters of size (2,2) through size (5,5). \n",
    "\n",
    "Input layer: shape is (image height, image width, image channels) <br>\n",
    "Convolutional Layer 1-5: increasing number of filters from 16-128, relu activation <br>\n",
    "Flattening Layer: to get vector <br>\n",
    "Dense Layer: Fully connected to all flattened nodes, relu activation <br>\n",
    "Output Layer: Outputs 4 values for classification (one hot encoded), so softmax activation <br>\n",
    "\n",
    "Loss could be categorical crossentropy (Since we will one-hot encode our categories) with Adam as the optimizer and Accuracy as an evaluation metric. "
   ]
  },
  {
   "cell_type": "markdown",
   "id": "7122ec10",
   "metadata": {
    "papermill": {
     "duration": 0.004017,
     "end_time": "2024-10-23T14:33:11.659216",
     "exception": false,
     "start_time": "2024-10-23T14:33:11.655199",
     "status": "completed"
    },
    "tags": []
   },
   "source": [
    "**(c) Scenario 3**: You have a dataset of 100,000 time-dependent measurements of reactor pressure (MPa), fuel temperature (Kelvin), and mass flow rate of coolant (kg/s). Your task is to develop a model that predicts the coolant (water) level in the core in meters as a function of time\n",
    "\n",
    "We have a large dataset of time-dependent measurements for performing a regression problem. I would utilize a recurrent neural network. Since the dataset is large, I will use an LSTM to control exploding gradients. Since this is not a continuous classification problem, bidirectional LSTM is not needed.\n",
    "\n",
    "Input layer: size of time series data x 3 (1 for pressure, 1 for temp, 1 for flow) <br>\n",
    "LSTM layers: three layers of decreasing number of nodes, ending with num_timesteps nodes. Look-back would also be used, starting with look-back=1 <br>\n",
    "Output layer: A fully-connected dense layer before prediction of size num_timesteps <br>\n",
    "\n",
    "Loss could be root mean squared error with Adam as the optimizer and RMSE as an evaluation metric as well. "
   ]
  },
  {
   "cell_type": "markdown",
   "id": "b580f317",
   "metadata": {
    "papermill": {
     "duration": 0.003865,
     "end_time": "2024-10-23T14:33:11.666878",
     "exception": false,
     "start_time": "2024-10-23T14:33:11.663013",
     "status": "completed"
    },
    "tags": []
   },
   "source": [
    "**(d) Scenario 4**: You have a dataset of static nuclear data (cross-section) measurements taken from a nuclear laboratory for isotopes like U-235, U-238, Pu-239, Pu-240, and other actinides (Am, Cm) and fission products (Cs, Sm). Your task is to develop a model that can predict the value of $ k_{eff} $ based on these cross-section data.\n",
    "\n",
    "This feels like a trick question. Does $ k_{eff} $ not depend on many factors (like the geometry of the fuel element), of which the cross section is only one? I am not familiar with fission, but it seems like there would be more information required to make a predictive model. If $ k_{eff} $ is truly determined by material alone, then this is possible. In this case, it would be a simple regression problem, so a FNN should work. \n",
    "\n",
    "Input layer: Size the same as the fidelity of nuclear cross section measurements <br>\n",
    "Dense layers: At least 3, with 25 nodes per layer. relu activation <br>\n",
    "Dropout layer: A modest dropout layer would be inserted between the 1st and 2nd dense layer with a dropout rate of 0.1 <br>\n",
    "Output layer: Single output, with a relu activation function for a continuous output \n",
    "\n",
    "Loss could be MAE and MAE could be used as an evaluation metric. Adam could be the optimizer. Sorry if I misunderstood this question.\n",
    "\n",
    "\n"
   ]
  },
  {
   "cell_type": "markdown",
   "id": "638a6365",
   "metadata": {
    "papermill": {
     "duration": 0.003816,
     "end_time": "2024-10-23T14:33:11.674520",
     "exception": false,
     "start_time": "2024-10-23T14:33:11.670704",
     "status": "completed"
    },
    "tags": []
   },
   "source": [
    "<h3> Exercise Set 2"
   ]
  },
  {
   "cell_type": "markdown",
   "id": "f780d88a",
   "metadata": {
    "papermill": {
     "duration": 0.00373,
     "end_time": "2024-10-23T14:33:11.682166",
     "exception": false,
     "start_time": "2024-10-23T14:33:11.678436",
     "status": "completed"
    },
    "tags": []
   },
   "source": [
    "<h4>----------- Cut File -----------"
   ]
  },
  {
   "cell_type": "markdown",
   "id": "d1cfb2b4",
   "metadata": {
    "papermill": {
     "duration": 0.003851,
     "end_time": "2024-10-23T14:33:11.690024",
     "exception": false,
     "start_time": "2024-10-23T14:33:11.686173",
     "status": "completed"
    },
    "tags": []
   },
   "source": [
    "(a) The correlation matrices of the input data (between the input themselves) and output data\n",
    "(between the output themselves).\n",
    "(b) The datafarme that shows the model ranking after tuning.\n",
    "(c) The diagonal validation plot for an output of your choice (first output by default).\n",
    "(d) The percent error plot for five outputs of your choice.\n",
    "(e) The convergence of the Bayesian optimizer for the neural network.\n",
    "(f) The neural network loss curve for the best neural network model.\n",
    "(g) Discuss your observations of the performance of the methods and the results you\n",
    "found.\n"
   ]
  },
  {
   "cell_type": "code",
   "execution_count": null,
   "id": "4c53294b",
   "metadata": {
    "execution": {
     "iopub.execute_input": "2024-10-23T14:33:11.698450Z",
     "iopub.status.busy": "2024-10-23T14:33:11.698303Z",
     "iopub.status.idle": "2024-10-23T14:33:51.560775Z",
     "shell.execute_reply": "2024-10-23T14:33:51.560184Z"
    },
    "papermill": {
     "duration": 39.868005,
     "end_time": "2024-10-23T14:33:51.561923",
     "exception": false,
     "start_time": "2024-10-23T14:33:11.693918",
     "status": "completed"
    },
    "tags": []
   },
   "outputs": [],
   "source": [
    "import xarray as xr\n",
    "import numpy as np\n",
    "import pandas as pd\n",
    "import matplotlib.pyplot as plt\n",
    "from datetime import datetime\n",
    "from scipy.stats import uniform, randint\n",
    "from sklearn.preprocessing import MinMaxScaler\n",
    "\n",
    "# Plot settings\n",
    "matplotlib_settings = {\n",
    "    \"font.size\": 12,\n",
    "    \"legend.fontsize\": 11,\n",
    "    \"figure.figsize\": (8, 8)\n",
    "}\n",
    "plt.rcParams.update(**matplotlib_settings)"
   ]
  },
  {
   "cell_type": "code",
   "execution_count": null,
   "id": "b09476da",
   "metadata": {
    "execution": {
     "iopub.execute_input": "2024-10-23T14:33:51.571621Z",
     "iopub.status.busy": "2024-10-23T14:33:51.570909Z",
     "iopub.status.idle": "2024-10-23T14:35:58.374617Z",
     "shell.execute_reply": "2024-10-23T14:35:58.374191Z"
    },
    "papermill": {
     "duration": 126.809717,
     "end_time": "2024-10-23T14:35:58.375583",
     "exception": false,
     "start_time": "2024-10-23T14:33:51.565866",
     "status": "completed"
    },
    "tags": []
   },
   "outputs": [],
   "source": [
    "from pyMAISE.preprocessing import correlation_matrix, train_test_split, scale_data\n",
    "import pyMAISE as mai"
   ]
  },
  {
   "cell_type": "code",
   "execution_count": 3,
   "id": "61fda767",
   "metadata": {
    "execution": {
     "iopub.execute_input": "2024-10-23T14:35:58.385797Z",
     "iopub.status.busy": "2024-10-23T14:35:58.385036Z",
     "iopub.status.idle": "2024-10-23T14:35:58.388166Z",
     "shell.execute_reply": "2024-10-23T14:35:58.387817Z"
    },
    "papermill": {
     "duration": 0.008623,
     "end_time": "2024-10-23T14:35:58.388951",
     "exception": false,
     "start_time": "2024-10-23T14:35:58.380328",
     "status": "completed"
    },
    "tags": []
   },
   "outputs": [],
   "source": [
    "global_settings = mai.init(\n",
    "    problem_type=mai.ProblemType.REGRESSION,   # Define a regression problem\n",
    "    cuda_visible_devices=\"-1\"                  # Use CPU only\n",
    ")"
   ]
  },
  {
   "cell_type": "code",
   "execution_count": null,
   "id": "3a3f4aee",
   "metadata": {
    "execution": {
     "iopub.execute_input": "2024-10-23T14:35:58.398081Z",
     "iopub.status.busy": "2024-10-23T14:35:58.397516Z",
     "iopub.status.idle": "2024-10-23T14:35:59.074668Z",
     "shell.execute_reply": "2024-10-23T14:35:59.074249Z"
    },
    "papermill": {
     "duration": 0.682782,
     "end_time": "2024-10-23T14:35:59.075717",
     "exception": false,
     "start_time": "2024-10-23T14:35:58.392935",
     "status": "completed"
    },
    "tags": []
   },
   "outputs": [],
   "source": [
    "#load the input and output dataframes from github\n",
    "xdf=pd.read_csv('https://raw.githubusercontent.com/aims-umich/ners590data/main/teds_x.csv')\n",
    "ydf=pd.read_csv('https://raw.githubusercontent.com/aims-umich/ners590data/main/teds_y.csv')\n",
    "\n",
    "xnames=xdf.columns\n",
    "ynames=ydf.columns\n",
    "\n",
    "# Convert np arrays into xarrays\n",
    "x = xr.DataArray(xdf, name=\"Input data\", dims=[\"Samples\", \"Features\"], coords={\"Features\":xnames})\n",
    "y = xr.DataArray(ydf, name=\"Target data\",dims=[\"Samples\", \"Features\"], coords={\"Features\":ynames})"
   ]
  },
  {
   "cell_type": "markdown",
   "id": "164d500f",
   "metadata": {
    "papermill": {
     "duration": 0.004224,
     "end_time": "2024-10-23T14:35:59.084529",
     "exception": false,
     "start_time": "2024-10-23T14:35:59.080305",
     "status": "completed"
    },
    "tags": []
   },
   "source": [
    "<h3>----------- Cut File -----------"
   ]
  },
  {
   "cell_type": "code",
   "execution_count": null,
   "id": "82267593",
   "metadata": {
    "execution": {
     "iopub.execute_input": "2024-10-23T14:35:59.093835Z",
     "iopub.status.busy": "2024-10-23T14:35:59.093215Z",
     "iopub.status.idle": "2024-10-23T14:36:00.734628Z",
     "shell.execute_reply": "2024-10-23T14:36:00.734228Z"
    },
    "papermill": {
     "duration": 1.647129,
     "end_time": "2024-10-23T14:36:00.735657",
     "exception": false,
     "start_time": "2024-10-23T14:35:59.088528",
     "status": "completed"
    },
    "tags": []
   },
   "outputs": [],
   "source": [
    "fig, ax = plt.subplots(1,2)\n",
    "ax[0].set_title(\"Input Data Correlation\")\n",
    "ax[1].set_title(\"Output Data Correlation\")\n",
    "correlation_matrix(x, ax=ax[0], fig=fig)\n",
    "correlation_matrix(y, ax=ax[1], fig=fig)\n",
    "fig.set_figwidth(20)"
   ]
  },
  {
   "cell_type": "code",
   "execution_count": 6,
   "id": "6d1c8b64",
   "metadata": {
    "execution": {
     "iopub.execute_input": "2024-10-23T14:36:00.752691Z",
     "iopub.status.busy": "2024-10-23T14:36:00.752527Z",
     "iopub.status.idle": "2024-10-23T14:36:00.763404Z",
     "shell.execute_reply": "2024-10-23T14:36:00.763047Z"
    },
    "papermill": {
     "duration": 0.021121,
     "end_time": "2024-10-23T14:36:00.764319",
     "exception": false,
     "start_time": "2024-10-23T14:36:00.743198",
     "status": "completed"
    },
    "tags": []
   },
   "outputs": [],
   "source": [
    "xtrain, xtest, ytrain, ytest = train_test_split(data=[x, y], test_size=0.3)\n",
    "xtrain, xtest, xscaler = scale_data(xtrain, xtest, scaler=MinMaxScaler())\n",
    "ytrain, ytest, yscaler = scale_data(ytrain, ytest, scaler=MinMaxScaler())\n",
    "\n",
    "model_settings = {\n",
    "    \"models\": [\"Linear\", \"Lasso\", \"DT\", \"RF\", \"KN\", \"FNN\"],\n",
    "    \"FNN\": {\n",
    "        \"structural_params\": {\n",
    "            \"Dense_input\": {\n",
    "                \"units\": mai.Int(min_value=50, max_value=400),\n",
    "                \"input_dim\": xtrain.shape[-1],\n",
    "                \"activation\": \"relu\",\n",
    "                \"kernel_initializer\": \"normal\",\n",
    "                \"sublayer\": mai.Choice([\"Dropout\", \"None\"]),\n",
    "                \"Dropout\": {\n",
    "                    \"rate\": mai.Float(min_value=0.4, max_value=0.6),\n",
    "                },\n",
    "            },\n",
    "            \"Dense_hidden\": {\n",
    "                \"num_layers\": mai.Int(min_value=0, max_value=3),\n",
    "                \"units\": mai.Int(min_value=25, max_value=250),\n",
    "                \"activation\": \"relu\",\n",
    "                \"kernel_initializer\": \"normal\",\n",
    "                \"sublayer\": mai.Choice([\"Dropout_hidden\", \"None\"]),\n",
    "                \"Dropout_hidden\": {\n",
    "                    \"rate\": mai.Float(min_value=0.4, max_value=0.6),\n",
    "                },\n",
    "            },\n",
    "            \"Dense_output\": {\n",
    "                \"units\": ytrain.shape[-1],\n",
    "                \"activation\": \"linear\",\n",
    "                \"kernel_initializer\": \"normal\",\n",
    "            },\n",
    "        },\n",
    "        \"optimizer\": \"Adam\",\n",
    "        \"Adam\": {\n",
    "            \"learning_rate\": mai.Float(min_value=1e-5, max_value=0.001),\n",
    "        },\n",
    "        \"compile_params\": {\n",
    "            \"loss\": \"mean_absolute_error\",\n",
    "            \"metrics\": [\"mean_absolute_error\"],\n",
    "        },\n",
    "        \"fitting_params\": {\n",
    "            \"batch_size\": mai.Choice([8, 16, 32]),\n",
    "            \"epochs\": 50,\n",
    "            \"validation_split\": 0.15,\n",
    "        },\n",
    "    },\n",
    "}\n",
    "tuner = mai.Tuner(xtrain, ytrain, model_settings=model_settings)"
   ]
  },
  {
   "cell_type": "code",
   "execution_count": null,
   "id": "be35dc10",
   "metadata": {
    "execution": {
     "iopub.execute_input": "2024-10-23T14:36:00.816659Z",
     "iopub.status.busy": "2024-10-23T14:36:00.816355Z",
     "iopub.status.idle": "2024-10-23T14:37:59.037614Z",
     "shell.execute_reply": "2024-10-23T14:37:59.037080Z"
    },
    "papermill": {
     "duration": 118.231303,
     "end_time": "2024-10-23T14:37:59.038490",
     "exception": false,
     "start_time": "2024-10-23T14:36:00.807187",
     "status": "completed"
    },
    "tags": []
   },
   "outputs": [],
   "source": [
    "random_search_spaces = {\n",
    "    \"Lasso\": {\n",
    "        \"alpha\": uniform(loc=0.0001, scale=0.0099), # 0.0001 - 0.01\n",
    "    },\n",
    "    \"DT\": {\n",
    "        \"max_depth\": randint(low=5, high=50), # 5 - 50\n",
    "        \"max_features\": [None, \"sqrt\", \"log2\", 2, 4, 6],\n",
    "        \"min_samples_split\": randint(low=2, high=20), # 2 - 20\n",
    "        \"min_samples_leaf\": randint(low=1, high=20), # 1 - 20\n",
    "    },\n",
    "    \"RF\": {\n",
    "        \"n_estimators\": randint(low=50, high=200), # 50 - 200\n",
    "        \"criterion\": [\"squared_error\", \"absolute_error\", \"poisson\"],\n",
    "        \"min_samples_split\": randint(low=2, high=20), # 2 - 20\n",
    "        \"min_samples_leaf\": randint(low=1, high=20), # 1 - 20\n",
    "        \"max_features\": [None, \"sqrt\", \"log2\", 2, 4, 6],\n",
    "    },\n",
    "    \"KN\": {\n",
    "        \"n_neighbors\": randint(low=1, high=20), # 1 - 20\n",
    "        \"weights\": [\"uniform\", \"distance\"],\n",
    "        \"leaf_size\": randint(low=1, high=30), # 1 - 30\n",
    "        \"p\": randint(low=1, high=10), # 1 - 10\n",
    "    },\n",
    "}\n",
    "\n",
    "random_search_configs = tuner.random_search(\n",
    "    param_spaces=random_search_spaces, \n",
    "    n_iter=200, \n",
    "    #n_iter=3, \n",
    "    cv=5,\n",
    ")\n",
    "bayesian_search_configs = tuner.nn_bayesian_search(\n",
    "    objective=\"r2_score\",\n",
    "    max_trials=50,\n",
    "    #max_trials=3,\n",
    "    cv=5,\n",
    ")"
   ]
  },
  {
   "cell_type": "code",
   "execution_count": null,
   "id": "bb31bb62",
   "metadata": {
    "execution": {
     "iopub.execute_input": "2024-10-23T14:37:59.056197Z",
     "iopub.status.busy": "2024-10-23T14:37:59.055585Z",
     "iopub.status.idle": "2024-10-23T14:37:59.198143Z",
     "shell.execute_reply": "2024-10-23T14:37:59.197711Z"
    },
    "papermill": {
     "duration": 0.15334,
     "end_time": "2024-10-23T14:37:59.199093",
     "exception": false,
     "start_time": "2024-10-23T14:37:59.045753",
     "status": "completed"
    },
    "tags": []
   },
   "outputs": [],
   "source": [
    "ax = tuner.convergence_plot(model_types=\"FNN\")\n",
    "ax.set_ylim([0, 1])\n",
    "plt.show()"
   ]
  },
  {
   "cell_type": "code",
   "execution_count": null,
   "id": "2f97fe12",
   "metadata": {},
   "outputs": [],
   "source": [
    "postprocessor = mai.PostProcessor(\n",
    "    data=(xtrain, xtest, ytrain, ytest),\n",
    "    model_configs=[random_search_configs, bayesian_search_configs],\n",
    "    new_model_settings={\n",
    "        \"FNN\": {\"fitting_params\": {\"epochs\": 300}},\n",
    "    },\n",
    "    yscaler=yscaler,\n",
    ")\n",
    "\n",
    "postprocessor.metrics().drop(\"Parameter Configurations\", axis=1)"
   ]
  },
  {
   "cell_type": "code",
   "execution_count": null,
   "id": "599ed671",
   "metadata": {},
   "outputs": [],
   "source": [
    "ax = postprocessor.diagonal_validation_plot(model_type='Linear')\n",
    "plt.show()"
   ]
  },
  {
   "cell_type": "code",
   "execution_count": null,
   "id": "e2c31fc0",
   "metadata": {},
   "outputs": [],
   "source": [
    "models = [\"Linear\", \"Lasso\", \"DT\", \"RF\", \"KN\"]\n",
    "i = 0\n",
    "ax = postprocessor.validation_plot(model_type=models[i])\n",
    "ax.set_title(models[i])\n",
    "plt.show()"
   ]
  },
  {
   "cell_type": "code",
   "execution_count": null,
   "id": "1b204f4e",
   "metadata": {},
   "outputs": [],
   "source": [
    "i += 1\n",
    "ax = postprocessor.validation_plot(model_type=models[i])\n",
    "ax.set_title(models[i])\n",
    "plt.show()"
   ]
  },
  {
   "cell_type": "code",
   "execution_count": null,
   "id": "0c960b94",
   "metadata": {},
   "outputs": [],
   "source": [
    "i += 1\n",
    "ax = postprocessor.validation_plot(model_type=models[i])\n",
    "ax.set_title(models[i])\n",
    "plt.show()"
   ]
  },
  {
   "cell_type": "code",
   "execution_count": null,
   "id": "a0d55fbd",
   "metadata": {},
   "outputs": [],
   "source": [
    "i += 1\n",
    "ax = postprocessor.validation_plot(model_type=models[i])\n",
    "ax.set_title(models[i])\n",
    "plt.show()"
   ]
  },
  {
   "cell_type": "code",
   "execution_count": null,
   "id": "2dae2842",
   "metadata": {},
   "outputs": [],
   "source": [
    "i += 1\n",
    "ax = postprocessor.validation_plot(model_type=models[i])\n",
    "ax.set_title(models[i])\n",
    "plt.show()"
   ]
  },
  {
   "cell_type": "code",
   "execution_count": null,
   "id": "f5ec3520",
   "metadata": {},
   "outputs": [],
   "source": [
    "postprocessor.nn_learning_plot()\n",
    "plt.show()"
   ]
  },
  {
   "cell_type": "code",
   "execution_count": null,
   "id": "8e38833d",
   "metadata": {},
   "outputs": [],
   "source": [
    "for model in [\"Lasso\", \"DT\", \"RF\", \"KN\", \"FNN\"]:\n",
    "    for key, value in postprocessor.get_params(model_type=model).to_dict().items():\n",
    "        print(f\"{key}: {value[0]}\")\n",
    "    print()"
   ]
  },
  {
   "cell_type": "markdown",
   "id": "7a0f4764",
   "metadata": {
    "papermill": {
     "duration": 0.009787,
     "end_time": "2024-10-23T14:37:59.228955",
     "exception": false,
     "start_time": "2024-10-23T14:37:59.219168",
     "status": "completed"
    },
    "tags": []
   },
   "source": [
    "<h3> Exercise Set 3"
   ]
  },
  {
   "cell_type": "code",
   "execution_count": 1,
   "id": "f55ab2c4",
   "metadata": {},
   "outputs": [
    {
     "name": "stderr",
     "output_type": "stream",
     "text": [
      "2024-10-25 10:09:55.490219: E external/local_xla/xla/stream_executor/cuda/cuda_fft.cc:485] Unable to register cuFFT factory: Attempting to register factory for plugin cuFFT when one has already been registered\n",
      "2024-10-25 10:09:55.609209: E external/local_xla/xla/stream_executor/cuda/cuda_dnn.cc:8454] Unable to register cuDNN factory: Attempting to register factory for plugin cuDNN when one has already been registered\n",
      "2024-10-25 10:09:55.650535: E external/local_xla/xla/stream_executor/cuda/cuda_blas.cc:1452] Unable to register cuBLAS factory: Attempting to register factory for plugin cuBLAS when one has already been registered\n",
      "2024-10-25 10:09:55.974766: I tensorflow/core/platform/cpu_feature_guard.cc:210] This TensorFlow binary is optimized to use available CPU instructions in performance-critical operations.\n",
      "To enable the following instructions: AVX2 FMA, in other operations, rebuild TensorFlow with the appropriate compiler flags.\n",
      "2024-10-25 10:10:11.655675: W tensorflow/compiler/tf2tensorrt/utils/py_utils.cc:38] TF-TRT Warning: Could not find TensorRT\n",
      "/home/adambedel/miniconda3/envs/ners590/lib/python3.12/site-packages/numpy/core/getlimits.py:542: UserWarning: Signature b'\\x00\\xd0\\xcc\\xcc\\xcc\\xcc\\xcc\\xcc\\xfb\\xbf\\x00\\x00\\x00\\x00\\x00\\x00' for <class 'numpy.longdouble'> does not match any known type: falling back to type probe function.\n",
      "This warnings indicates broken support for the dtype!\n",
      "  machar = _get_machar(dtype)\n"
     ]
    },
    {
     "data": {
      "text/html": [
       "<pre style=\"white-space:pre;overflow-x:auto;line-height:normal;font-family:Menlo,'DejaVu Sans Mono',consolas,'Courier New',monospace\"><span style=\"font-weight: bold\">Model: \"sequential\"</span>\n",
       "</pre>\n"
      ],
      "text/plain": [
       "\u001b[1mModel: \"sequential\"\u001b[0m\n"
      ]
     },
     "metadata": {},
     "output_type": "display_data"
    },
    {
     "data": {
      "text/html": [
       "<pre style=\"white-space:pre;overflow-x:auto;line-height:normal;font-family:Menlo,'DejaVu Sans Mono',consolas,'Courier New',monospace\">┏━━━━━━━━━━━━━━━━━━━━━━━━━━━━━━━━━┳━━━━━━━━━━━━━━━━━━━━━━━━┳━━━━━━━━━━━━━━━┓\n",
       "┃<span style=\"font-weight: bold\"> Layer (type)                    </span>┃<span style=\"font-weight: bold\"> Output Shape           </span>┃<span style=\"font-weight: bold\">       Param # </span>┃\n",
       "┡━━━━━━━━━━━━━━━━━━━━━━━━━━━━━━━━━╇━━━━━━━━━━━━━━━━━━━━━━━━╇━━━━━━━━━━━━━━━┩\n",
       "│ dense (<span style=\"color: #0087ff; text-decoration-color: #0087ff\">Dense</span>)                   │ (<span style=\"color: #00d7ff; text-decoration-color: #00d7ff\">None</span>, <span style=\"color: #00af00; text-decoration-color: #00af00\">50</span>)             │         <span style=\"color: #00af00; text-decoration-color: #00af00\">1,050</span> │\n",
       "├─────────────────────────────────┼────────────────────────┼───────────────┤\n",
       "│ dropout (<span style=\"color: #0087ff; text-decoration-color: #0087ff\">Dropout</span>)               │ (<span style=\"color: #00d7ff; text-decoration-color: #00d7ff\">None</span>, <span style=\"color: #00af00; text-decoration-color: #00af00\">50</span>)             │             <span style=\"color: #00af00; text-decoration-color: #00af00\">0</span> │\n",
       "├─────────────────────────────────┼────────────────────────┼───────────────┤\n",
       "│ dense_1 (<span style=\"color: #0087ff; text-decoration-color: #0087ff\">Dense</span>)                 │ (<span style=\"color: #00d7ff; text-decoration-color: #00d7ff\">None</span>, <span style=\"color: #00af00; text-decoration-color: #00af00\">200</span>)            │        <span style=\"color: #00af00; text-decoration-color: #00af00\">10,200</span> │\n",
       "├─────────────────────────────────┼────────────────────────┼───────────────┤\n",
       "│ dense_2 (<span style=\"color: #0087ff; text-decoration-color: #0087ff\">Dense</span>)                 │ (<span style=\"color: #00d7ff; text-decoration-color: #00d7ff\">None</span>, <span style=\"color: #00af00; text-decoration-color: #00af00\">200</span>)            │        <span style=\"color: #00af00; text-decoration-color: #00af00\">40,200</span> │\n",
       "├─────────────────────────────────┼────────────────────────┼───────────────┤\n",
       "│ dense_3 (<span style=\"color: #0087ff; text-decoration-color: #0087ff\">Dense</span>)                 │ (<span style=\"color: #00d7ff; text-decoration-color: #00d7ff\">None</span>, <span style=\"color: #00af00; text-decoration-color: #00af00\">200</span>)            │        <span style=\"color: #00af00; text-decoration-color: #00af00\">40,200</span> │\n",
       "├─────────────────────────────────┼────────────────────────┼───────────────┤\n",
       "│ dense_4 (<span style=\"color: #0087ff; text-decoration-color: #0087ff\">Dense</span>)                 │ (<span style=\"color: #00d7ff; text-decoration-color: #00d7ff\">None</span>, <span style=\"color: #00af00; text-decoration-color: #00af00\">200</span>)            │        <span style=\"color: #00af00; text-decoration-color: #00af00\">40,200</span> │\n",
       "├─────────────────────────────────┼────────────────────────┼───────────────┤\n",
       "│ dense_5 (<span style=\"color: #0087ff; text-decoration-color: #0087ff\">Dense</span>)                 │ (<span style=\"color: #00d7ff; text-decoration-color: #00d7ff\">None</span>, <span style=\"color: #00af00; text-decoration-color: #00af00\">30</span>)             │         <span style=\"color: #00af00; text-decoration-color: #00af00\">6,030</span> │\n",
       "└─────────────────────────────────┴────────────────────────┴───────────────┘\n",
       "</pre>\n"
      ],
      "text/plain": [
       "┏━━━━━━━━━━━━━━━━━━━━━━━━━━━━━━━━━┳━━━━━━━━━━━━━━━━━━━━━━━━┳━━━━━━━━━━━━━━━┓\n",
       "┃\u001b[1m \u001b[0m\u001b[1mLayer (type)                   \u001b[0m\u001b[1m \u001b[0m┃\u001b[1m \u001b[0m\u001b[1mOutput Shape          \u001b[0m\u001b[1m \u001b[0m┃\u001b[1m \u001b[0m\u001b[1m      Param #\u001b[0m\u001b[1m \u001b[0m┃\n",
       "┡━━━━━━━━━━━━━━━━━━━━━━━━━━━━━━━━━╇━━━━━━━━━━━━━━━━━━━━━━━━╇━━━━━━━━━━━━━━━┩\n",
       "│ dense (\u001b[38;5;33mDense\u001b[0m)                   │ (\u001b[38;5;45mNone\u001b[0m, \u001b[38;5;34m50\u001b[0m)             │         \u001b[38;5;34m1,050\u001b[0m │\n",
       "├─────────────────────────────────┼────────────────────────┼───────────────┤\n",
       "│ dropout (\u001b[38;5;33mDropout\u001b[0m)               │ (\u001b[38;5;45mNone\u001b[0m, \u001b[38;5;34m50\u001b[0m)             │             \u001b[38;5;34m0\u001b[0m │\n",
       "├─────────────────────────────────┼────────────────────────┼───────────────┤\n",
       "│ dense_1 (\u001b[38;5;33mDense\u001b[0m)                 │ (\u001b[38;5;45mNone\u001b[0m, \u001b[38;5;34m200\u001b[0m)            │        \u001b[38;5;34m10,200\u001b[0m │\n",
       "├─────────────────────────────────┼────────────────────────┼───────────────┤\n",
       "│ dense_2 (\u001b[38;5;33mDense\u001b[0m)                 │ (\u001b[38;5;45mNone\u001b[0m, \u001b[38;5;34m200\u001b[0m)            │        \u001b[38;5;34m40,200\u001b[0m │\n",
       "├─────────────────────────────────┼────────────────────────┼───────────────┤\n",
       "│ dense_3 (\u001b[38;5;33mDense\u001b[0m)                 │ (\u001b[38;5;45mNone\u001b[0m, \u001b[38;5;34m200\u001b[0m)            │        \u001b[38;5;34m40,200\u001b[0m │\n",
       "├─────────────────────────────────┼────────────────────────┼───────────────┤\n",
       "│ dense_4 (\u001b[38;5;33mDense\u001b[0m)                 │ (\u001b[38;5;45mNone\u001b[0m, \u001b[38;5;34m200\u001b[0m)            │        \u001b[38;5;34m40,200\u001b[0m │\n",
       "├─────────────────────────────────┼────────────────────────┼───────────────┤\n",
       "│ dense_5 (\u001b[38;5;33mDense\u001b[0m)                 │ (\u001b[38;5;45mNone\u001b[0m, \u001b[38;5;34m30\u001b[0m)             │         \u001b[38;5;34m6,030\u001b[0m │\n",
       "└─────────────────────────────────┴────────────────────────┴───────────────┘\n"
      ]
     },
     "metadata": {},
     "output_type": "display_data"
    },
    {
     "data": {
      "text/html": [
       "<pre style=\"white-space:pre;overflow-x:auto;line-height:normal;font-family:Menlo,'DejaVu Sans Mono',consolas,'Courier New',monospace\"><span style=\"font-weight: bold\"> Total params: </span><span style=\"color: #00af00; text-decoration-color: #00af00\">137,880</span> (538.59 KB)\n",
       "</pre>\n"
      ],
      "text/plain": [
       "\u001b[1m Total params: \u001b[0m\u001b[38;5;34m137,880\u001b[0m (538.59 KB)\n"
      ]
     },
     "metadata": {},
     "output_type": "display_data"
    },
    {
     "data": {
      "text/html": [
       "<pre style=\"white-space:pre;overflow-x:auto;line-height:normal;font-family:Menlo,'DejaVu Sans Mono',consolas,'Courier New',monospace\"><span style=\"font-weight: bold\"> Trainable params: </span><span style=\"color: #00af00; text-decoration-color: #00af00\">137,880</span> (538.59 KB)\n",
       "</pre>\n"
      ],
      "text/plain": [
       "\u001b[1m Trainable params: \u001b[0m\u001b[38;5;34m137,880\u001b[0m (538.59 KB)\n"
      ]
     },
     "metadata": {},
     "output_type": "display_data"
    },
    {
     "data": {
      "text/html": [
       "<pre style=\"white-space:pre;overflow-x:auto;line-height:normal;font-family:Menlo,'DejaVu Sans Mono',consolas,'Courier New',monospace\"><span style=\"font-weight: bold\"> Non-trainable params: </span><span style=\"color: #00af00; text-decoration-color: #00af00\">0</span> (0.00 B)\n",
       "</pre>\n"
      ],
      "text/plain": [
       "\u001b[1m Non-trainable params: \u001b[0m\u001b[38;5;34m0\u001b[0m (0.00 B)\n"
      ]
     },
     "metadata": {},
     "output_type": "display_data"
    },
    {
     "name": "stdout",
     "output_type": "stream",
     "text": [
      "Epoch 1/100\n",
      "\u001b[1m82/87\u001b[0m \u001b[32m━━━━━━━━━━━━━━━━━━\u001b[0m\u001b[37m━━\u001b[0m \u001b[1m0s\u001b[0m 4ms/step - loss: 0.4058 - mean_absolute_error: 0.4058\n",
      "Epoch 1: val_mean_absolute_error improved from inf to 0.11547, saving model to best_model_manual_tuning.keras\n",
      "\u001b[1m87/87\u001b[0m \u001b[32m━━━━━━━━━━━━━━━━━━━━\u001b[0m\u001b[37m\u001b[0m \u001b[1m4s\u001b[0m 11ms/step - loss: 0.3943 - mean_absolute_error: 0.3943 - val_loss: 0.1155 - val_mean_absolute_error: 0.1155\n",
      "Epoch 2/100\n",
      "\u001b[1m87/87\u001b[0m \u001b[32m━━━━━━━━━━━━━━━━━━━━\u001b[0m\u001b[37m\u001b[0m \u001b[1m0s\u001b[0m 5ms/step - loss: 0.1139 - mean_absolute_error: 0.1139\n",
      "Epoch 2: val_mean_absolute_error improved from 0.11547 to 0.10702, saving model to best_model_manual_tuning.keras\n",
      "\u001b[1m87/87\u001b[0m \u001b[32m━━━━━━━━━━━━━━━━━━━━\u001b[0m\u001b[37m\u001b[0m \u001b[1m1s\u001b[0m 7ms/step - loss: 0.1139 - mean_absolute_error: 0.1139 - val_loss: 0.1070 - val_mean_absolute_error: 0.1070\n",
      "Epoch 3/100\n",
      "\u001b[1m81/87\u001b[0m \u001b[32m━━━━━━━━━━━━━━━━━━\u001b[0m\u001b[37m━━\u001b[0m \u001b[1m0s\u001b[0m 5ms/step - loss: 0.1092 - mean_absolute_error: 0.1092\n",
      "Epoch 3: val_mean_absolute_error improved from 0.10702 to 0.10092, saving model to best_model_manual_tuning.keras\n",
      "\u001b[1m87/87\u001b[0m \u001b[32m━━━━━━━━━━━━━━━━━━━━\u001b[0m\u001b[37m\u001b[0m \u001b[1m1s\u001b[0m 8ms/step - loss: 0.1091 - mean_absolute_error: 0.1091 - val_loss: 0.1009 - val_mean_absolute_error: 0.1009\n",
      "Epoch 4/100\n",
      "\u001b[1m81/87\u001b[0m \u001b[32m━━━━━━━━━━━━━━━━━━\u001b[0m\u001b[37m━━\u001b[0m \u001b[1m0s\u001b[0m 5ms/step - loss: 0.1064 - mean_absolute_error: 0.1064\n",
      "Epoch 4: val_mean_absolute_error improved from 0.10092 to 0.10008, saving model to best_model_manual_tuning.keras\n",
      "\u001b[1m87/87\u001b[0m \u001b[32m━━━━━━━━━━━━━━━━━━━━\u001b[0m\u001b[37m\u001b[0m \u001b[1m1s\u001b[0m 8ms/step - loss: 0.1063 - mean_absolute_error: 0.1063 - val_loss: 0.1001 - val_mean_absolute_error: 0.1001\n",
      "Epoch 5/100\n",
      "\u001b[1m82/87\u001b[0m \u001b[32m━━━━━━━━━━━━━━━━━━\u001b[0m\u001b[37m━━\u001b[0m \u001b[1m0s\u001b[0m 5ms/step - loss: 0.0994 - mean_absolute_error: 0.0994\n",
      "Epoch 5: val_mean_absolute_error improved from 0.10008 to 0.09229, saving model to best_model_manual_tuning.keras\n",
      "\u001b[1m87/87\u001b[0m \u001b[32m━━━━━━━━━━━━━━━━━━━━\u001b[0m\u001b[37m\u001b[0m \u001b[1m1s\u001b[0m 7ms/step - loss: 0.0993 - mean_absolute_error: 0.0993 - val_loss: 0.0923 - val_mean_absolute_error: 0.0923\n",
      "Epoch 6/100\n",
      "\u001b[1m83/87\u001b[0m \u001b[32m━━━━━━━━━━━━━━━━━━━\u001b[0m\u001b[37m━\u001b[0m \u001b[1m0s\u001b[0m 4ms/step - loss: 0.0870 - mean_absolute_error: 0.0870\n",
      "Epoch 6: val_mean_absolute_error improved from 0.09229 to 0.08054, saving model to best_model_manual_tuning.keras\n",
      "\u001b[1m87/87\u001b[0m \u001b[32m━━━━━━━━━━━━━━━━━━━━\u001b[0m\u001b[37m\u001b[0m \u001b[1m1s\u001b[0m 5ms/step - loss: 0.0869 - mean_absolute_error: 0.0869 - val_loss: 0.0805 - val_mean_absolute_error: 0.0805\n",
      "Epoch 7/100\n",
      "\u001b[1m72/87\u001b[0m \u001b[32m━━━━━━━━━━━━━━━━\u001b[0m\u001b[37m━━━━\u001b[0m \u001b[1m0s\u001b[0m 3ms/step - loss: 0.0713 - mean_absolute_error: 0.0713\n",
      "Epoch 7: val_mean_absolute_error did not improve from 0.08054\n",
      "\u001b[1m87/87\u001b[0m \u001b[32m━━━━━━━━━━━━━━━━━━━━\u001b[0m\u001b[37m\u001b[0m \u001b[1m0s\u001b[0m 4ms/step - loss: 0.0709 - mean_absolute_error: 0.0709 - val_loss: 0.0825 - val_mean_absolute_error: 0.0825\n",
      "Epoch 8/100\n",
      "\u001b[1m85/87\u001b[0m \u001b[32m━━━━━━━━━━━━━━━━━━━\u001b[0m\u001b[37m━\u001b[0m \u001b[1m0s\u001b[0m 3ms/step - loss: 0.0631 - mean_absolute_error: 0.0631\n",
      "Epoch 8: val_mean_absolute_error improved from 0.08054 to 0.05160, saving model to best_model_manual_tuning.keras\n",
      "\u001b[1m87/87\u001b[0m \u001b[32m━━━━━━━━━━━━━━━━━━━━\u001b[0m\u001b[37m\u001b[0m \u001b[1m0s\u001b[0m 4ms/step - loss: 0.0631 - mean_absolute_error: 0.0631 - val_loss: 0.0516 - val_mean_absolute_error: 0.0516\n",
      "Epoch 9/100\n",
      "\u001b[1m75/87\u001b[0m \u001b[32m━━━━━━━━━━━━━━━━━\u001b[0m\u001b[37m━━━\u001b[0m \u001b[1m0s\u001b[0m 3ms/step - loss: 0.0621 - mean_absolute_error: 0.0621\n",
      "Epoch 9: val_mean_absolute_error did not improve from 0.05160\n",
      "\u001b[1m87/87\u001b[0m \u001b[32m━━━━━━━━━━━━━━━━━━━━\u001b[0m\u001b[37m\u001b[0m \u001b[1m0s\u001b[0m 3ms/step - loss: 0.0616 - mean_absolute_error: 0.0616 - val_loss: 0.0533 - val_mean_absolute_error: 0.0533\n",
      "Epoch 10/100\n",
      "\u001b[1m81/87\u001b[0m \u001b[32m━━━━━━━━━━━━━━━━━━\u001b[0m\u001b[37m━━\u001b[0m \u001b[1m0s\u001b[0m 5ms/step - loss: 0.0504 - mean_absolute_error: 0.0504\n",
      "Epoch 10: val_mean_absolute_error did not improve from 0.05160\n",
      "\u001b[1m87/87\u001b[0m \u001b[32m━━━━━━━━━━━━━━━━━━━━\u001b[0m\u001b[37m\u001b[0m \u001b[1m1s\u001b[0m 6ms/step - loss: 0.0504 - mean_absolute_error: 0.0504 - val_loss: 0.0783 - val_mean_absolute_error: 0.0783\n",
      "Epoch 11/100\n",
      "\u001b[1m82/87\u001b[0m \u001b[32m━━━━━━━━━━━━━━━━━━\u001b[0m\u001b[37m━━\u001b[0m \u001b[1m0s\u001b[0m 5ms/step - loss: 0.0491 - mean_absolute_error: 0.0491\n",
      "Epoch 11: val_mean_absolute_error did not improve from 0.05160\n",
      "\u001b[1m87/87\u001b[0m \u001b[32m━━━━━━━━━━━━━━━━━━━━\u001b[0m\u001b[37m\u001b[0m \u001b[1m1s\u001b[0m 6ms/step - loss: 0.0491 - mean_absolute_error: 0.0491 - val_loss: 0.0620 - val_mean_absolute_error: 0.0620\n",
      "Epoch 12/100\n",
      "\u001b[1m84/87\u001b[0m \u001b[32m━━━━━━━━━━━━━━━━━━━\u001b[0m\u001b[37m━\u001b[0m \u001b[1m0s\u001b[0m 10ms/step - loss: 0.0457 - mean_absolute_error: 0.0457\n",
      "Epoch 12: val_mean_absolute_error did not improve from 0.05160\n",
      "\u001b[1m87/87\u001b[0m \u001b[32m━━━━━━━━━━━━━━━━━━━━\u001b[0m\u001b[37m\u001b[0m \u001b[1m1s\u001b[0m 11ms/step - loss: 0.0457 - mean_absolute_error: 0.0457 - val_loss: 0.0607 - val_mean_absolute_error: 0.0607\n",
      "Epoch 13/100\n",
      "\u001b[1m87/87\u001b[0m \u001b[32m━━━━━━━━━━━━━━━━━━━━\u001b[0m\u001b[37m\u001b[0m \u001b[1m0s\u001b[0m 5ms/step - loss: 0.0469 - mean_absolute_error: 0.0469\n",
      "Epoch 13: val_mean_absolute_error did not improve from 0.05160\n",
      "\u001b[1m87/87\u001b[0m \u001b[32m━━━━━━━━━━━━━━━━━━━━\u001b[0m\u001b[37m\u001b[0m \u001b[1m1s\u001b[0m 6ms/step - loss: 0.0469 - mean_absolute_error: 0.0469 - val_loss: 0.0671 - val_mean_absolute_error: 0.0671\n",
      "Epoch 14/100\n",
      "\u001b[1m81/87\u001b[0m \u001b[32m━━━━━━━━━━━━━━━━━━\u001b[0m\u001b[37m━━\u001b[0m \u001b[1m0s\u001b[0m 3ms/step - loss: 0.0422 - mean_absolute_error: 0.0422\n",
      "Epoch 14: val_mean_absolute_error improved from 0.05160 to 0.04248, saving model to best_model_manual_tuning.keras\n",
      "\u001b[1m87/87\u001b[0m \u001b[32m━━━━━━━━━━━━━━━━━━━━\u001b[0m\u001b[37m\u001b[0m \u001b[1m0s\u001b[0m 5ms/step - loss: 0.0421 - mean_absolute_error: 0.0421 - val_loss: 0.0425 - val_mean_absolute_error: 0.0425\n",
      "Epoch 15/100\n",
      "\u001b[1m86/87\u001b[0m \u001b[32m━━━━━━━━━━━━━━━━━━━\u001b[0m\u001b[37m━\u001b[0m \u001b[1m0s\u001b[0m 5ms/step - loss: 0.0412 - mean_absolute_error: 0.0412\n",
      "Epoch 15: val_mean_absolute_error did not improve from 0.04248\n",
      "\u001b[1m87/87\u001b[0m \u001b[32m━━━━━━━━━━━━━━━━━━━━\u001b[0m\u001b[37m\u001b[0m \u001b[1m1s\u001b[0m 6ms/step - loss: 0.0411 - mean_absolute_error: 0.0411 - val_loss: 0.0631 - val_mean_absolute_error: 0.0631\n",
      "Epoch 16/100\n",
      "\u001b[1m87/87\u001b[0m \u001b[32m━━━━━━━━━━━━━━━━━━━━\u001b[0m\u001b[37m\u001b[0m \u001b[1m0s\u001b[0m 4ms/step - loss: 0.0392 - mean_absolute_error: 0.0392\n",
      "Epoch 16: val_mean_absolute_error did not improve from 0.04248\n",
      "\u001b[1m87/87\u001b[0m \u001b[32m━━━━━━━━━━━━━━━━━━━━\u001b[0m\u001b[37m\u001b[0m \u001b[1m1s\u001b[0m 5ms/step - loss: 0.0392 - mean_absolute_error: 0.0392 - val_loss: 0.0516 - val_mean_absolute_error: 0.0516\n",
      "Epoch 17/100\n",
      "\u001b[1m79/87\u001b[0m \u001b[32m━━━━━━━━━━━━━━━━━━\u001b[0m\u001b[37m━━\u001b[0m \u001b[1m0s\u001b[0m 5ms/step - loss: 0.0377 - mean_absolute_error: 0.0377\n",
      "Epoch 17: val_mean_absolute_error improved from 0.04248 to 0.04248, saving model to best_model_manual_tuning.keras\n",
      "\u001b[1m87/87\u001b[0m \u001b[32m━━━━━━━━━━━━━━━━━━━━\u001b[0m\u001b[37m\u001b[0m \u001b[1m1s\u001b[0m 8ms/step - loss: 0.0376 - mean_absolute_error: 0.0376 - val_loss: 0.0425 - val_mean_absolute_error: 0.0425\n",
      "Epoch 18/100\n",
      "\u001b[1m78/87\u001b[0m \u001b[32m━━━━━━━━━━━━━━━━━\u001b[0m\u001b[37m━━━\u001b[0m \u001b[1m0s\u001b[0m 5ms/step - loss: 0.0343 - mean_absolute_error: 0.0343\n",
      "Epoch 18: val_mean_absolute_error did not improve from 0.04248\n",
      "\u001b[1m87/87\u001b[0m \u001b[32m━━━━━━━━━━━━━━━━━━━━\u001b[0m\u001b[37m\u001b[0m \u001b[1m1s\u001b[0m 7ms/step - loss: 0.0344 - mean_absolute_error: 0.0344 - val_loss: 0.0469 - val_mean_absolute_error: 0.0469\n",
      "Epoch 19/100\n",
      "\u001b[1m80/87\u001b[0m \u001b[32m━━━━━━━━━━━━━━━━━━\u001b[0m\u001b[37m━━\u001b[0m \u001b[1m0s\u001b[0m 5ms/step - loss: 0.0341 - mean_absolute_error: 0.0341\n",
      "Epoch 19: val_mean_absolute_error improved from 0.04248 to 0.03773, saving model to best_model_manual_tuning.keras\n",
      "\u001b[1m87/87\u001b[0m \u001b[32m━━━━━━━━━━━━━━━━━━━━\u001b[0m\u001b[37m\u001b[0m \u001b[1m1s\u001b[0m 7ms/step - loss: 0.0342 - mean_absolute_error: 0.0342 - val_loss: 0.0377 - val_mean_absolute_error: 0.0377\n",
      "Epoch 20/100\n",
      "\u001b[1m85/87\u001b[0m \u001b[32m━━━━━━━━━━━━━━━━━━━\u001b[0m\u001b[37m━\u001b[0m \u001b[1m0s\u001b[0m 4ms/step - loss: 0.0340 - mean_absolute_error: 0.0340\n",
      "Epoch 20: val_mean_absolute_error did not improve from 0.03773\n",
      "\u001b[1m87/87\u001b[0m \u001b[32m━━━━━━━━━━━━━━━━━━━━\u001b[0m\u001b[37m\u001b[0m \u001b[1m0s\u001b[0m 5ms/step - loss: 0.0339 - mean_absolute_error: 0.0339 - val_loss: 0.0453 - val_mean_absolute_error: 0.0453\n",
      "Epoch 21/100\n",
      "\u001b[1m79/87\u001b[0m \u001b[32m━━━━━━━━━━━━━━━━━━\u001b[0m\u001b[37m━━\u001b[0m \u001b[1m0s\u001b[0m 4ms/step - loss: 0.0314 - mean_absolute_error: 0.0314\n",
      "Epoch 21: val_mean_absolute_error did not improve from 0.03773\n",
      "\u001b[1m87/87\u001b[0m \u001b[32m━━━━━━━━━━━━━━━━━━━━\u001b[0m\u001b[37m\u001b[0m \u001b[1m0s\u001b[0m 5ms/step - loss: 0.0314 - mean_absolute_error: 0.0314 - val_loss: 0.0621 - val_mean_absolute_error: 0.0621\n",
      "Epoch 22/100\n",
      "\u001b[1m77/87\u001b[0m \u001b[32m━━━━━━━━━━━━━━━━━\u001b[0m\u001b[37m━━━\u001b[0m \u001b[1m0s\u001b[0m 10ms/step - loss: 0.0302 - mean_absolute_error: 0.0302\n",
      "Epoch 22: val_mean_absolute_error did not improve from 0.03773\n",
      "\u001b[1m87/87\u001b[0m \u001b[32m━━━━━━━━━━━━━━━━━━━━\u001b[0m\u001b[37m\u001b[0m \u001b[1m1s\u001b[0m 10ms/step - loss: 0.0304 - mean_absolute_error: 0.0304 - val_loss: 0.0588 - val_mean_absolute_error: 0.0588\n",
      "Epoch 23/100\n",
      "\u001b[1m82/87\u001b[0m \u001b[32m━━━━━━━━━━━━━━━━━━\u001b[0m\u001b[37m━━\u001b[0m \u001b[1m0s\u001b[0m 5ms/step - loss: 0.0311 - mean_absolute_error: 0.0311\n",
      "Epoch 23: val_mean_absolute_error did not improve from 0.03773\n",
      "\u001b[1m87/87\u001b[0m \u001b[32m━━━━━━━━━━━━━━━━━━━━\u001b[0m\u001b[37m\u001b[0m \u001b[1m1s\u001b[0m 6ms/step - loss: 0.0310 - mean_absolute_error: 0.0310 - val_loss: 0.0454 - val_mean_absolute_error: 0.0454\n",
      "Epoch 24/100\n",
      "\u001b[1m73/87\u001b[0m \u001b[32m━━━━━━━━━━━━━━━━\u001b[0m\u001b[37m━━━━\u001b[0m \u001b[1m0s\u001b[0m 3ms/step - loss: 0.0290 - mean_absolute_error: 0.0290\n",
      "Epoch 24: val_mean_absolute_error did not improve from 0.03773\n",
      "\u001b[1m87/87\u001b[0m \u001b[32m━━━━━━━━━━━━━━━━━━━━\u001b[0m\u001b[37m\u001b[0m \u001b[1m0s\u001b[0m 4ms/step - loss: 0.0290 - mean_absolute_error: 0.0290 - val_loss: 0.0513 - val_mean_absolute_error: 0.0513\n",
      "Epoch 25/100\n",
      "\u001b[1m84/87\u001b[0m \u001b[32m━━━━━━━━━━━━━━━━━━━\u001b[0m\u001b[37m━\u001b[0m \u001b[1m0s\u001b[0m 5ms/step - loss: 0.0272 - mean_absolute_error: 0.0272\n",
      "Epoch 25: val_mean_absolute_error did not improve from 0.03773\n",
      "\u001b[1m87/87\u001b[0m \u001b[32m━━━━━━━━━━━━━━━━━━━━\u001b[0m\u001b[37m\u001b[0m \u001b[1m1s\u001b[0m 7ms/step - loss: 0.0273 - mean_absolute_error: 0.0273 - val_loss: 0.0613 - val_mean_absolute_error: 0.0613\n",
      "Epoch 26/100\n",
      "\u001b[1m81/87\u001b[0m \u001b[32m━━━━━━━━━━━━━━━━━━\u001b[0m\u001b[37m━━\u001b[0m \u001b[1m0s\u001b[0m 5ms/step - loss: 0.0295 - mean_absolute_error: 0.0295\n",
      "Epoch 26: val_mean_absolute_error improved from 0.03773 to 0.03572, saving model to best_model_manual_tuning.keras\n",
      "\u001b[1m87/87\u001b[0m \u001b[32m━━━━━━━━━━━━━━━━━━━━\u001b[0m\u001b[37m\u001b[0m \u001b[1m1s\u001b[0m 7ms/step - loss: 0.0295 - mean_absolute_error: 0.0295 - val_loss: 0.0357 - val_mean_absolute_error: 0.0357\n",
      "Epoch 27/100\n",
      "\u001b[1m68/87\u001b[0m \u001b[32m━━━━━━━━━━━━━━━\u001b[0m\u001b[37m━━━━━\u001b[0m \u001b[1m0s\u001b[0m 4ms/step - loss: 0.0274 - mean_absolute_error: 0.0274\n",
      "Epoch 27: val_mean_absolute_error did not improve from 0.03572\n",
      "\u001b[1m87/87\u001b[0m \u001b[32m━━━━━━━━━━━━━━━━━━━━\u001b[0m\u001b[37m\u001b[0m \u001b[1m0s\u001b[0m 5ms/step - loss: 0.0273 - mean_absolute_error: 0.0273 - val_loss: 0.0517 - val_mean_absolute_error: 0.0517\n",
      "Epoch 28/100\n",
      "\u001b[1m84/87\u001b[0m \u001b[32m━━━━━━━━━━━━━━━━━━━\u001b[0m\u001b[37m━\u001b[0m \u001b[1m0s\u001b[0m 5ms/step - loss: 0.0258 - mean_absolute_error: 0.0258\n",
      "Epoch 28: val_mean_absolute_error did not improve from 0.03572\n",
      "\u001b[1m87/87\u001b[0m \u001b[32m━━━━━━━━━━━━━━━━━━━━\u001b[0m\u001b[37m\u001b[0m \u001b[1m1s\u001b[0m 6ms/step - loss: 0.0259 - mean_absolute_error: 0.0259 - val_loss: 0.0592 - val_mean_absolute_error: 0.0592\n",
      "Epoch 29/100\n",
      "\u001b[1m87/87\u001b[0m \u001b[32m━━━━━━━━━━━━━━━━━━━━\u001b[0m\u001b[37m\u001b[0m \u001b[1m0s\u001b[0m 6ms/step - loss: 0.0264 - mean_absolute_error: 0.0264\n",
      "Epoch 29: val_mean_absolute_error did not improve from 0.03572\n",
      "\u001b[1m87/87\u001b[0m \u001b[32m━━━━━━━━━━━━━━━━━━━━\u001b[0m\u001b[37m\u001b[0m \u001b[1m1s\u001b[0m 7ms/step - loss: 0.0264 - mean_absolute_error: 0.0264 - val_loss: 0.0510 - val_mean_absolute_error: 0.0510\n",
      "Epoch 30/100\n",
      "\u001b[1m83/87\u001b[0m \u001b[32m━━━━━━━━━━━━━━━━━━━\u001b[0m\u001b[37m━\u001b[0m \u001b[1m0s\u001b[0m 5ms/step - loss: 0.0266 - mean_absolute_error: 0.0266\n",
      "Epoch 30: val_mean_absolute_error did not improve from 0.03572\n",
      "\u001b[1m87/87\u001b[0m \u001b[32m━━━━━━━━━━━━━━━━━━━━\u001b[0m\u001b[37m\u001b[0m \u001b[1m1s\u001b[0m 6ms/step - loss: 0.0267 - mean_absolute_error: 0.0267 - val_loss: 0.0421 - val_mean_absolute_error: 0.0421\n",
      "Epoch 31/100\n",
      "\u001b[1m82/87\u001b[0m \u001b[32m━━━━━━━━━━━━━━━━━━\u001b[0m\u001b[37m━━\u001b[0m \u001b[1m0s\u001b[0m 5ms/step - loss: 0.0271 - mean_absolute_error: 0.0271\n",
      "Epoch 31: val_mean_absolute_error did not improve from 0.03572\n",
      "\u001b[1m87/87\u001b[0m \u001b[32m━━━━━━━━━━━━━━━━━━━━\u001b[0m\u001b[37m\u001b[0m \u001b[1m1s\u001b[0m 7ms/step - loss: 0.0270 - mean_absolute_error: 0.0270 - val_loss: 0.0514 - val_mean_absolute_error: 0.0514\n",
      "Epoch 32/100\n",
      "\u001b[1m78/87\u001b[0m \u001b[32m━━━━━━━━━━━━━━━━━\u001b[0m\u001b[37m━━━\u001b[0m \u001b[1m0s\u001b[0m 9ms/step - loss: 0.0245 - mean_absolute_error: 0.0245\n",
      "Epoch 32: val_mean_absolute_error improved from 0.03572 to 0.03532, saving model to best_model_manual_tuning.keras\n",
      "\u001b[1m87/87\u001b[0m \u001b[32m━━━━━━━━━━━━━━━━━━━━\u001b[0m\u001b[37m\u001b[0m \u001b[1m1s\u001b[0m 10ms/step - loss: 0.0246 - mean_absolute_error: 0.0246 - val_loss: 0.0353 - val_mean_absolute_error: 0.0353\n",
      "Epoch 33/100\n",
      "\u001b[1m84/87\u001b[0m \u001b[32m━━━━━━━━━━━━━━━━━━━\u001b[0m\u001b[37m━\u001b[0m \u001b[1m0s\u001b[0m 3ms/step - loss: 0.0280 - mean_absolute_error: 0.0280\n",
      "Epoch 33: val_mean_absolute_error did not improve from 0.03532\n",
      "\u001b[1m87/87\u001b[0m \u001b[32m━━━━━━━━━━━━━━━━━━━━\u001b[0m\u001b[37m\u001b[0m \u001b[1m0s\u001b[0m 4ms/step - loss: 0.0279 - mean_absolute_error: 0.0279 - val_loss: 0.0543 - val_mean_absolute_error: 0.0543\n",
      "Epoch 34/100\n",
      "\u001b[1m75/87\u001b[0m \u001b[32m━━━━━━━━━━━━━━━━━\u001b[0m\u001b[37m━━━\u001b[0m \u001b[1m0s\u001b[0m 3ms/step - loss: 0.0224 - mean_absolute_error: 0.0224\n",
      "Epoch 34: val_mean_absolute_error did not improve from 0.03532\n",
      "\u001b[1m87/87\u001b[0m \u001b[32m━━━━━━━━━━━━━━━━━━━━\u001b[0m\u001b[37m\u001b[0m \u001b[1m0s\u001b[0m 4ms/step - loss: 0.0226 - mean_absolute_error: 0.0226 - val_loss: 0.0498 - val_mean_absolute_error: 0.0498\n",
      "Epoch 35/100\n",
      "\u001b[1m80/87\u001b[0m \u001b[32m━━━━━━━━━━━━━━━━━━\u001b[0m\u001b[37m━━\u001b[0m \u001b[1m0s\u001b[0m 3ms/step - loss: 0.0237 - mean_absolute_error: 0.0237\n",
      "Epoch 35: val_mean_absolute_error did not improve from 0.03532\n",
      "\u001b[1m87/87\u001b[0m \u001b[32m━━━━━━━━━━━━━━━━━━━━\u001b[0m\u001b[37m\u001b[0m \u001b[1m0s\u001b[0m 4ms/step - loss: 0.0238 - mean_absolute_error: 0.0238 - val_loss: 0.0594 - val_mean_absolute_error: 0.0594\n",
      "Epoch 36/100\n",
      "\u001b[1m82/87\u001b[0m \u001b[32m━━━━━━━━━━━━━━━━━━\u001b[0m\u001b[37m━━\u001b[0m \u001b[1m0s\u001b[0m 5ms/step - loss: 0.0250 - mean_absolute_error: 0.0250\n",
      "Epoch 36: val_mean_absolute_error did not improve from 0.03532\n",
      "\u001b[1m87/87\u001b[0m \u001b[32m━━━━━━━━━━━━━━━━━━━━\u001b[0m\u001b[37m\u001b[0m \u001b[1m1s\u001b[0m 6ms/step - loss: 0.0249 - mean_absolute_error: 0.0249 - val_loss: 0.0508 - val_mean_absolute_error: 0.0508\n",
      "Epoch 37/100\n",
      "\u001b[1m87/87\u001b[0m \u001b[32m━━━━━━━━━━━━━━━━━━━━\u001b[0m\u001b[37m\u001b[0m \u001b[1m0s\u001b[0m 5ms/step - loss: 0.0235 - mean_absolute_error: 0.0235\n",
      "Epoch 37: val_mean_absolute_error did not improve from 0.03532\n",
      "\u001b[1m87/87\u001b[0m \u001b[32m━━━━━━━━━━━━━━━━━━━━\u001b[0m\u001b[37m\u001b[0m \u001b[1m1s\u001b[0m 6ms/step - loss: 0.0235 - mean_absolute_error: 0.0235 - val_loss: 0.0517 - val_mean_absolute_error: 0.0517\n",
      "Epoch 38/100\n",
      "\u001b[1m82/87\u001b[0m \u001b[32m━━━━━━━━━━━━━━━━━━\u001b[0m\u001b[37m━━\u001b[0m \u001b[1m0s\u001b[0m 5ms/step - loss: 0.0242 - mean_absolute_error: 0.0242\n",
      "Epoch 38: val_mean_absolute_error did not improve from 0.03532\n",
      "\u001b[1m87/87\u001b[0m \u001b[32m━━━━━━━━━━━━━━━━━━━━\u001b[0m\u001b[37m\u001b[0m \u001b[1m1s\u001b[0m 7ms/step - loss: 0.0241 - mean_absolute_error: 0.0241 - val_loss: 0.0578 - val_mean_absolute_error: 0.0578\n",
      "Epoch 39/100\n",
      "\u001b[1m83/87\u001b[0m \u001b[32m━━━━━━━━━━━━━━━━━━━\u001b[0m\u001b[37m━\u001b[0m \u001b[1m0s\u001b[0m 2ms/step - loss: 0.0224 - mean_absolute_error: 0.0224\n",
      "Epoch 39: val_mean_absolute_error did not improve from 0.03532\n",
      "\u001b[1m87/87\u001b[0m \u001b[32m━━━━━━━━━━━━━━━━━━━━\u001b[0m\u001b[37m\u001b[0m \u001b[1m0s\u001b[0m 3ms/step - loss: 0.0225 - mean_absolute_error: 0.0225 - val_loss: 0.0453 - val_mean_absolute_error: 0.0453\n",
      "Epoch 40/100\n",
      "\u001b[1m72/87\u001b[0m \u001b[32m━━━━━━━━━━━━━━━━\u001b[0m\u001b[37m━━━━\u001b[0m \u001b[1m0s\u001b[0m 4ms/step - loss: 0.0221 - mean_absolute_error: 0.0221\n",
      "Epoch 40: val_mean_absolute_error did not improve from 0.03532\n",
      "\u001b[1m87/87\u001b[0m \u001b[32m━━━━━━━━━━━━━━━━━━━━\u001b[0m\u001b[37m\u001b[0m \u001b[1m0s\u001b[0m 4ms/step - loss: 0.0225 - mean_absolute_error: 0.0225 - val_loss: 0.0502 - val_mean_absolute_error: 0.0502\n",
      "Epoch 41/100\n",
      "\u001b[1m75/87\u001b[0m \u001b[32m━━━━━━━━━━━━━━━━━\u001b[0m\u001b[37m━━━\u001b[0m \u001b[1m0s\u001b[0m 4ms/step - loss: 0.0215 - mean_absolute_error: 0.0215\n",
      "Epoch 41: val_mean_absolute_error did not improve from 0.03532\n",
      "\u001b[1m87/87\u001b[0m \u001b[32m━━━━━━━━━━━━━━━━━━━━\u001b[0m\u001b[37m\u001b[0m \u001b[1m0s\u001b[0m 5ms/step - loss: 0.0216 - mean_absolute_error: 0.0216 - val_loss: 0.0538 - val_mean_absolute_error: 0.0538\n",
      "Epoch 42/100\n",
      "\u001b[1m83/87\u001b[0m \u001b[32m━━━━━━━━━━━━━━━━━━━\u001b[0m\u001b[37m━\u001b[0m \u001b[1m0s\u001b[0m 3ms/step - loss: 0.0206 - mean_absolute_error: 0.0206\n",
      "Epoch 42: val_mean_absolute_error improved from 0.03532 to 0.03481, saving model to best_model_manual_tuning.keras\n",
      "\u001b[1m87/87\u001b[0m \u001b[32m━━━━━━━━━━━━━━━━━━━━\u001b[0m\u001b[37m\u001b[0m \u001b[1m0s\u001b[0m 4ms/step - loss: 0.0206 - mean_absolute_error: 0.0206 - val_loss: 0.0348 - val_mean_absolute_error: 0.0348\n",
      "Epoch 43/100\n",
      "\u001b[1m85/87\u001b[0m \u001b[32m━━━━━━━━━━━━━━━━━━━\u001b[0m\u001b[37m━\u001b[0m \u001b[1m0s\u001b[0m 4ms/step - loss: 0.0204 - mean_absolute_error: 0.0204\n",
      "Epoch 43: val_mean_absolute_error did not improve from 0.03481\n",
      "\u001b[1m87/87\u001b[0m \u001b[32m━━━━━━━━━━━━━━━━━━━━\u001b[0m\u001b[37m\u001b[0m \u001b[1m1s\u001b[0m 6ms/step - loss: 0.0204 - mean_absolute_error: 0.0204 - val_loss: 0.0513 - val_mean_absolute_error: 0.0513\n",
      "Epoch 44/100\n",
      "\u001b[1m83/87\u001b[0m \u001b[32m━━━━━━━━━━━━━━━━━━━\u001b[0m\u001b[37m━\u001b[0m \u001b[1m0s\u001b[0m 9ms/step - loss: 0.0195 - mean_absolute_error: 0.0195\n",
      "Epoch 44: val_mean_absolute_error did not improve from 0.03481\n",
      "\u001b[1m87/87\u001b[0m \u001b[32m━━━━━━━━━━━━━━━━━━━━\u001b[0m\u001b[37m\u001b[0m \u001b[1m1s\u001b[0m 10ms/step - loss: 0.0195 - mean_absolute_error: 0.0195 - val_loss: 0.0490 - val_mean_absolute_error: 0.0490\n",
      "Epoch 45/100\n",
      "\u001b[1m77/87\u001b[0m \u001b[32m━━━━━━━━━━━━━━━━━\u001b[0m\u001b[37m━━━\u001b[0m \u001b[1m0s\u001b[0m 4ms/step - loss: 0.0211 - mean_absolute_error: 0.0211\n",
      "Epoch 45: val_mean_absolute_error did not improve from 0.03481\n",
      "\u001b[1m87/87\u001b[0m \u001b[32m━━━━━━━━━━━━━━━━━━━━\u001b[0m\u001b[37m\u001b[0m \u001b[1m1s\u001b[0m 5ms/step - loss: 0.0211 - mean_absolute_error: 0.0211 - val_loss: 0.0553 - val_mean_absolute_error: 0.0553\n",
      "Epoch 46/100\n",
      "\u001b[1m80/87\u001b[0m \u001b[32m━━━━━━━━━━━━━━━━━━\u001b[0m\u001b[37m━━\u001b[0m \u001b[1m0s\u001b[0m 5ms/step - loss: 0.0195 - mean_absolute_error: 0.0195\n",
      "Epoch 46: val_mean_absolute_error did not improve from 0.03481\n",
      "\u001b[1m87/87\u001b[0m \u001b[32m━━━━━━━━━━━━━━━━━━━━\u001b[0m\u001b[37m\u001b[0m \u001b[1m1s\u001b[0m 7ms/step - loss: 0.0195 - mean_absolute_error: 0.0195 - val_loss: 0.0539 - val_mean_absolute_error: 0.0539\n",
      "Epoch 47/100\n",
      "\u001b[1m82/87\u001b[0m \u001b[32m━━━━━━━━━━━━━━━━━━\u001b[0m\u001b[37m━━\u001b[0m \u001b[1m0s\u001b[0m 5ms/step - loss: 0.0209 - mean_absolute_error: 0.0209\n",
      "Epoch 47: val_mean_absolute_error did not improve from 0.03481\n",
      "\u001b[1m87/87\u001b[0m \u001b[32m━━━━━━━━━━━━━━━━━━━━\u001b[0m\u001b[37m\u001b[0m \u001b[1m1s\u001b[0m 7ms/step - loss: 0.0209 - mean_absolute_error: 0.0209 - val_loss: 0.0528 - val_mean_absolute_error: 0.0528\n",
      "Epoch 48/100\n",
      "\u001b[1m87/87\u001b[0m \u001b[32m━━━━━━━━━━━━━━━━━━━━\u001b[0m\u001b[37m\u001b[0m \u001b[1m0s\u001b[0m 6ms/step - loss: 0.0205 - mean_absolute_error: 0.0205\n",
      "Epoch 48: val_mean_absolute_error did not improve from 0.03481\n",
      "\u001b[1m87/87\u001b[0m \u001b[32m━━━━━━━━━━━━━━━━━━━━\u001b[0m\u001b[37m\u001b[0m \u001b[1m1s\u001b[0m 7ms/step - loss: 0.0205 - mean_absolute_error: 0.0205 - val_loss: 0.0454 - val_mean_absolute_error: 0.0454\n",
      "Epoch 49/100\n",
      "\u001b[1m84/87\u001b[0m \u001b[32m━━━━━━━━━━━━━━━━━━━\u001b[0m\u001b[37m━\u001b[0m \u001b[1m0s\u001b[0m 4ms/step - loss: 0.0209 - mean_absolute_error: 0.0209\n",
      "Epoch 49: val_mean_absolute_error did not improve from 0.03481\n",
      "\u001b[1m87/87\u001b[0m \u001b[32m━━━━━━━━━━━━━━━━━━━━\u001b[0m\u001b[37m\u001b[0m \u001b[1m1s\u001b[0m 6ms/step - loss: 0.0209 - mean_absolute_error: 0.0209 - val_loss: 0.0510 - val_mean_absolute_error: 0.0510\n",
      "Epoch 50/100\n",
      "\u001b[1m83/87\u001b[0m \u001b[32m━━━━━━━━━━━━━━━━━━━\u001b[0m\u001b[37m━\u001b[0m \u001b[1m0s\u001b[0m 5ms/step - loss: 0.0200 - mean_absolute_error: 0.0200\n",
      "Epoch 50: val_mean_absolute_error did not improve from 0.03481\n",
      "\u001b[1m87/87\u001b[0m \u001b[32m━━━━━━━━━━━━━━━━━━━━\u001b[0m\u001b[37m\u001b[0m \u001b[1m1s\u001b[0m 7ms/step - loss: 0.0200 - mean_absolute_error: 0.0200 - val_loss: 0.0579 - val_mean_absolute_error: 0.0579\n",
      "Epoch 51/100\n",
      "\u001b[1m81/87\u001b[0m \u001b[32m━━━━━━━━━━━━━━━━━━\u001b[0m\u001b[37m━━\u001b[0m \u001b[1m0s\u001b[0m 3ms/step - loss: 0.0213 - mean_absolute_error: 0.0213\n",
      "Epoch 51: val_mean_absolute_error did not improve from 0.03481\n",
      "\u001b[1m87/87\u001b[0m \u001b[32m━━━━━━━━━━━━━━━━━━━━\u001b[0m\u001b[37m\u001b[0m \u001b[1m0s\u001b[0m 3ms/step - loss: 0.0213 - mean_absolute_error: 0.0213 - val_loss: 0.0495 - val_mean_absolute_error: 0.0495\n",
      "Epoch 52/100\n",
      "\u001b[1m85/87\u001b[0m \u001b[32m━━━━━━━━━━━━━━━━━━━\u001b[0m\u001b[37m━\u001b[0m \u001b[1m0s\u001b[0m 3ms/step - loss: 0.0218 - mean_absolute_error: 0.0218\n",
      "Epoch 52: val_mean_absolute_error did not improve from 0.03481\n",
      "\u001b[1m87/87\u001b[0m \u001b[32m━━━━━━━━━━━━━━━━━━━━\u001b[0m\u001b[37m\u001b[0m \u001b[1m0s\u001b[0m 4ms/step - loss: 0.0217 - mean_absolute_error: 0.0217 - val_loss: 0.0522 - val_mean_absolute_error: 0.0522\n",
      "Epoch 53/100\n",
      "\u001b[1m79/87\u001b[0m \u001b[32m━━━━━━━━━━━━━━━━━━\u001b[0m\u001b[37m━━\u001b[0m \u001b[1m0s\u001b[0m 3ms/step - loss: 0.0196 - mean_absolute_error: 0.0196\n",
      "Epoch 53: val_mean_absolute_error did not improve from 0.03481\n",
      "\u001b[1m87/87\u001b[0m \u001b[32m━━━━━━━━━━━━━━━━━━━━\u001b[0m\u001b[37m\u001b[0m \u001b[1m1s\u001b[0m 5ms/step - loss: 0.0197 - mean_absolute_error: 0.0197 - val_loss: 0.0636 - val_mean_absolute_error: 0.0636\n",
      "Epoch 54/100\n",
      "\u001b[1m79/87\u001b[0m \u001b[32m━━━━━━━━━━━━━━━━━━\u001b[0m\u001b[37m━━\u001b[0m \u001b[1m0s\u001b[0m 5ms/step - loss: 0.0198 - mean_absolute_error: 0.0198\n",
      "Epoch 54: val_mean_absolute_error did not improve from 0.03481\n",
      "\u001b[1m87/87\u001b[0m \u001b[32m━━━━━━━━━━━━━━━━━━━━\u001b[0m\u001b[37m\u001b[0m \u001b[1m1s\u001b[0m 7ms/step - loss: 0.0198 - mean_absolute_error: 0.0198 - val_loss: 0.0568 - val_mean_absolute_error: 0.0568\n",
      "Epoch 55/100\n",
      "\u001b[1m77/87\u001b[0m \u001b[32m━━━━━━━━━━━━━━━━━\u001b[0m\u001b[37m━━━\u001b[0m \u001b[1m0s\u001b[0m 5ms/step - loss: 0.0202 - mean_absolute_error: 0.0202\n",
      "Epoch 55: val_mean_absolute_error did not improve from 0.03481\n",
      "\u001b[1m87/87\u001b[0m \u001b[32m━━━━━━━━━━━━━━━━━━━━\u001b[0m\u001b[37m\u001b[0m \u001b[1m1s\u001b[0m 6ms/step - loss: 0.0202 - mean_absolute_error: 0.0202 - val_loss: 0.0392 - val_mean_absolute_error: 0.0392\n",
      "Epoch 56/100\n",
      "\u001b[1m70/87\u001b[0m \u001b[32m━━━━━━━━━━━━━━━━\u001b[0m\u001b[37m━━━━\u001b[0m \u001b[1m0s\u001b[0m 5ms/step - loss: 0.0210 - mean_absolute_error: 0.0210\n",
      "Epoch 56: val_mean_absolute_error did not improve from 0.03481\n",
      "\u001b[1m87/87\u001b[0m \u001b[32m━━━━━━━━━━━━━━━━━━━━\u001b[0m\u001b[37m\u001b[0m \u001b[1m1s\u001b[0m 5ms/step - loss: 0.0210 - mean_absolute_error: 0.0210 - val_loss: 0.0468 - val_mean_absolute_error: 0.0468\n",
      "Epoch 57/100\n",
      "\u001b[1m87/87\u001b[0m \u001b[32m━━━━━━━━━━━━━━━━━━━━\u001b[0m\u001b[37m\u001b[0m \u001b[1m0s\u001b[0m 5ms/step - loss: 0.0200 - mean_absolute_error: 0.0200\n",
      "Epoch 57: val_mean_absolute_error did not improve from 0.03481\n",
      "\u001b[1m87/87\u001b[0m \u001b[32m━━━━━━━━━━━━━━━━━━━━\u001b[0m\u001b[37m\u001b[0m \u001b[1m1s\u001b[0m 7ms/step - loss: 0.0200 - mean_absolute_error: 0.0200 - val_loss: 0.0460 - val_mean_absolute_error: 0.0460\n",
      "Epoch 58/100\n",
      "\u001b[1m84/87\u001b[0m \u001b[32m━━━━━━━━━━━━━━━━━━━\u001b[0m\u001b[37m━\u001b[0m \u001b[1m0s\u001b[0m 5ms/step - loss: 0.0227 - mean_absolute_error: 0.0227\n",
      "Epoch 58: val_mean_absolute_error did not improve from 0.03481\n",
      "\u001b[1m87/87\u001b[0m \u001b[32m━━━━━━━━━━━━━━━━━━━━\u001b[0m\u001b[37m\u001b[0m \u001b[1m1s\u001b[0m 6ms/step - loss: 0.0227 - mean_absolute_error: 0.0227 - val_loss: 0.0388 - val_mean_absolute_error: 0.0388\n",
      "Epoch 59/100\n",
      "\u001b[1m80/87\u001b[0m \u001b[32m━━━━━━━━━━━━━━━━━━\u001b[0m\u001b[37m━━\u001b[0m \u001b[1m0s\u001b[0m 5ms/step - loss: 0.0202 - mean_absolute_error: 0.0202\n",
      "Epoch 59: val_mean_absolute_error did not improve from 0.03481\n",
      "\u001b[1m87/87\u001b[0m \u001b[32m━━━━━━━━━━━━━━━━━━━━\u001b[0m\u001b[37m\u001b[0m \u001b[1m1s\u001b[0m 7ms/step - loss: 0.0201 - mean_absolute_error: 0.0201 - val_loss: 0.0630 - val_mean_absolute_error: 0.0630\n",
      "Epoch 60/100\n",
      "\u001b[1m87/87\u001b[0m \u001b[32m━━━━━━━━━━━━━━━━━━━━\u001b[0m\u001b[37m\u001b[0m \u001b[1m0s\u001b[0m 6ms/step - loss: 0.0202 - mean_absolute_error: 0.0202\n",
      "Epoch 60: val_mean_absolute_error did not improve from 0.03481\n",
      "\u001b[1m87/87\u001b[0m \u001b[32m━━━━━━━━━━━━━━━━━━━━\u001b[0m\u001b[37m\u001b[0m \u001b[1m1s\u001b[0m 7ms/step - loss: 0.0202 - mean_absolute_error: 0.0202 - val_loss: 0.0527 - val_mean_absolute_error: 0.0527\n",
      "Epoch 61/100\n",
      "\u001b[1m83/87\u001b[0m \u001b[32m━━━━━━━━━━━━━━━━━━━\u001b[0m\u001b[37m━\u001b[0m \u001b[1m0s\u001b[0m 4ms/step - loss: 0.0176 - mean_absolute_error: 0.0176\n",
      "Epoch 61: val_mean_absolute_error did not improve from 0.03481\n",
      "\u001b[1m87/87\u001b[0m \u001b[32m━━━━━━━━━━━━━━━━━━━━\u001b[0m\u001b[37m\u001b[0m \u001b[1m0s\u001b[0m 5ms/step - loss: 0.0176 - mean_absolute_error: 0.0176 - val_loss: 0.0668 - val_mean_absolute_error: 0.0668\n",
      "Epoch 62/100\n",
      "\u001b[1m83/87\u001b[0m \u001b[32m━━━━━━━━━━━━━━━━━━━\u001b[0m\u001b[37m━\u001b[0m \u001b[1m0s\u001b[0m 5ms/step - loss: 0.0185 - mean_absolute_error: 0.0185\n",
      "Epoch 62: val_mean_absolute_error did not improve from 0.03481\n",
      "\u001b[1m87/87\u001b[0m \u001b[32m━━━━━━━━━━━━━━━━━━━━\u001b[0m\u001b[37m\u001b[0m \u001b[1m1s\u001b[0m 6ms/step - loss: 0.0184 - mean_absolute_error: 0.0184 - val_loss: 0.0507 - val_mean_absolute_error: 0.0507\n",
      "Epoch 63/100\n",
      "\u001b[1m66/87\u001b[0m \u001b[32m━━━━━━━━━━━━━━━\u001b[0m\u001b[37m━━━━━\u001b[0m \u001b[1m0s\u001b[0m 3ms/step - loss: 0.0170 - mean_absolute_error: 0.0170\n",
      "Epoch 63: val_mean_absolute_error did not improve from 0.03481\n",
      "\u001b[1m87/87\u001b[0m \u001b[32m━━━━━━━━━━━━━━━━━━━━\u001b[0m\u001b[37m\u001b[0m \u001b[1m0s\u001b[0m 4ms/step - loss: 0.0173 - mean_absolute_error: 0.0173 - val_loss: 0.0459 - val_mean_absolute_error: 0.0459\n",
      "Epoch 64/100\n",
      "\u001b[1m82/87\u001b[0m \u001b[32m━━━━━━━━━━━━━━━━━━\u001b[0m\u001b[37m━━\u001b[0m \u001b[1m0s\u001b[0m 5ms/step - loss: 0.0188 - mean_absolute_error: 0.0188\n",
      "Epoch 64: val_mean_absolute_error did not improve from 0.03481\n",
      "\u001b[1m87/87\u001b[0m \u001b[32m━━━━━━━━━━━━━━━━━━━━\u001b[0m\u001b[37m\u001b[0m \u001b[1m1s\u001b[0m 6ms/step - loss: 0.0188 - mean_absolute_error: 0.0188 - val_loss: 0.0431 - val_mean_absolute_error: 0.0431\n",
      "Epoch 65/100\n",
      "\u001b[1m73/87\u001b[0m \u001b[32m━━━━━━━━━━━━━━━━\u001b[0m\u001b[37m━━━━\u001b[0m \u001b[1m0s\u001b[0m 5ms/step - loss: 0.0191 - mean_absolute_error: 0.0191\n",
      "Epoch 65: val_mean_absolute_error did not improve from 0.03481\n",
      "\u001b[1m87/87\u001b[0m \u001b[32m━━━━━━━━━━━━━━━━━━━━\u001b[0m\u001b[37m\u001b[0m \u001b[1m1s\u001b[0m 6ms/step - loss: 0.0191 - mean_absolute_error: 0.0191 - val_loss: 0.0449 - val_mean_absolute_error: 0.0449\n",
      "Epoch 66/100\n",
      "\u001b[1m82/87\u001b[0m \u001b[32m━━━━━━━━━━━━━━━━━━\u001b[0m\u001b[37m━━\u001b[0m \u001b[1m0s\u001b[0m 5ms/step - loss: 0.0184 - mean_absolute_error: 0.0184\n",
      "Epoch 66: val_mean_absolute_error did not improve from 0.03481\n",
      "\u001b[1m87/87\u001b[0m \u001b[32m━━━━━━━━━━━━━━━━━━━━\u001b[0m\u001b[37m\u001b[0m \u001b[1m1s\u001b[0m 7ms/step - loss: 0.0184 - mean_absolute_error: 0.0184 - val_loss: 0.0442 - val_mean_absolute_error: 0.0442\n",
      "Epoch 67/100\n",
      "\u001b[1m79/87\u001b[0m \u001b[32m━━━━━━━━━━━━━━━━━━\u001b[0m\u001b[37m━━\u001b[0m \u001b[1m0s\u001b[0m 5ms/step - loss: 0.0173 - mean_absolute_error: 0.0173\n",
      "Epoch 67: val_mean_absolute_error did not improve from 0.03481\n",
      "\u001b[1m87/87\u001b[0m \u001b[32m━━━━━━━━━━━━━━━━━━━━\u001b[0m\u001b[37m\u001b[0m \u001b[1m1s\u001b[0m 7ms/step - loss: 0.0173 - mean_absolute_error: 0.0173 - val_loss: 0.0625 - val_mean_absolute_error: 0.0625\n",
      "Epoch 68/100\n",
      "\u001b[1m69/87\u001b[0m \u001b[32m━━━━━━━━━━━━━━━\u001b[0m\u001b[37m━━━━━\u001b[0m \u001b[1m0s\u001b[0m 4ms/step - loss: 0.0174 - mean_absolute_error: 0.0174\n",
      "Epoch 68: val_mean_absolute_error did not improve from 0.03481\n",
      "\u001b[1m87/87\u001b[0m \u001b[32m━━━━━━━━━━━━━━━━━━━━\u001b[0m\u001b[37m\u001b[0m \u001b[1m0s\u001b[0m 4ms/step - loss: 0.0173 - mean_absolute_error: 0.0173 - val_loss: 0.0542 - val_mean_absolute_error: 0.0542\n",
      "Epoch 69/100\n",
      "\u001b[1m81/87\u001b[0m \u001b[32m━━━━━━━━━━━━━━━━━━\u001b[0m\u001b[37m━━\u001b[0m \u001b[1m0s\u001b[0m 5ms/step - loss: 0.0174 - mean_absolute_error: 0.0174\n",
      "Epoch 69: val_mean_absolute_error did not improve from 0.03481\n",
      "\u001b[1m87/87\u001b[0m \u001b[32m━━━━━━━━━━━━━━━━━━━━\u001b[0m\u001b[37m\u001b[0m \u001b[1m1s\u001b[0m 6ms/step - loss: 0.0174 - mean_absolute_error: 0.0174 - val_loss: 0.0375 - val_mean_absolute_error: 0.0375\n",
      "Epoch 70/100\n",
      "\u001b[1m87/87\u001b[0m \u001b[32m━━━━━━━━━━━━━━━━━━━━\u001b[0m\u001b[37m\u001b[0m \u001b[1m0s\u001b[0m 3ms/step - loss: 0.0176 - mean_absolute_error: 0.0176\n",
      "Epoch 70: val_mean_absolute_error did not improve from 0.03481\n",
      "\u001b[1m87/87\u001b[0m \u001b[32m━━━━━━━━━━━━━━━━━━━━\u001b[0m\u001b[37m\u001b[0m \u001b[1m0s\u001b[0m 4ms/step - loss: 0.0176 - mean_absolute_error: 0.0176 - val_loss: 0.0561 - val_mean_absolute_error: 0.0561\n",
      "Epoch 71/100\n",
      "\u001b[1m79/87\u001b[0m \u001b[32m━━━━━━━━━━━━━━━━━━\u001b[0m\u001b[37m━━\u001b[0m \u001b[1m0s\u001b[0m 5ms/step - loss: 0.0185 - mean_absolute_error: 0.0185\n",
      "Epoch 71: val_mean_absolute_error did not improve from 0.03481\n",
      "\u001b[1m87/87\u001b[0m \u001b[32m━━━━━━━━━━━━━━━━━━━━\u001b[0m\u001b[37m\u001b[0m \u001b[1m1s\u001b[0m 7ms/step - loss: 0.0183 - mean_absolute_error: 0.0183 - val_loss: 0.0536 - val_mean_absolute_error: 0.0536\n",
      "Epoch 72/100\n",
      "\u001b[1m71/87\u001b[0m \u001b[32m━━━━━━━━━━━━━━━━\u001b[0m\u001b[37m━━━━\u001b[0m \u001b[1m0s\u001b[0m 2ms/step - loss: 0.0162 - mean_absolute_error: 0.0162\n",
      "Epoch 72: val_mean_absolute_error did not improve from 0.03481\n",
      "\u001b[1m87/87\u001b[0m \u001b[32m━━━━━━━━━━━━━━━━━━━━\u001b[0m\u001b[37m\u001b[0m \u001b[1m0s\u001b[0m 3ms/step - loss: 0.0163 - mean_absolute_error: 0.0163 - val_loss: 0.0526 - val_mean_absolute_error: 0.0526\n",
      "Epoch 73/100\n",
      "\u001b[1m83/87\u001b[0m \u001b[32m━━━━━━━━━━━━━━━━━━━\u001b[0m\u001b[37m━\u001b[0m \u001b[1m0s\u001b[0m 5ms/step - loss: 0.0172 - mean_absolute_error: 0.0172\n",
      "Epoch 73: val_mean_absolute_error did not improve from 0.03481\n",
      "\u001b[1m87/87\u001b[0m \u001b[32m━━━━━━━━━━━━━━━━━━━━\u001b[0m\u001b[37m\u001b[0m \u001b[1m1s\u001b[0m 7ms/step - loss: 0.0172 - mean_absolute_error: 0.0172 - val_loss: 0.0518 - val_mean_absolute_error: 0.0518\n",
      "Epoch 74/100\n",
      "\u001b[1m84/87\u001b[0m \u001b[32m━━━━━━━━━━━━━━━━━━━\u001b[0m\u001b[37m━\u001b[0m \u001b[1m0s\u001b[0m 4ms/step - loss: 0.0175 - mean_absolute_error: 0.0175\n",
      "Epoch 74: val_mean_absolute_error did not improve from 0.03481\n",
      "\u001b[1m87/87\u001b[0m \u001b[32m━━━━━━━━━━━━━━━━━━━━\u001b[0m\u001b[37m\u001b[0m \u001b[1m0s\u001b[0m 5ms/step - loss: 0.0175 - mean_absolute_error: 0.0175 - val_loss: 0.0522 - val_mean_absolute_error: 0.0522\n",
      "Epoch 75/100\n",
      "\u001b[1m66/87\u001b[0m \u001b[32m━━━━━━━━━━━━━━━\u001b[0m\u001b[37m━━━━━\u001b[0m \u001b[1m0s\u001b[0m 5ms/step - loss: 0.0161 - mean_absolute_error: 0.0161\n",
      "Epoch 75: val_mean_absolute_error did not improve from 0.03481\n",
      "\u001b[1m87/87\u001b[0m \u001b[32m━━━━━━━━━━━━━━━━━━━━\u001b[0m\u001b[37m\u001b[0m \u001b[1m0s\u001b[0m 5ms/step - loss: 0.0162 - mean_absolute_error: 0.0162 - val_loss: 0.0522 - val_mean_absolute_error: 0.0522\n",
      "Epoch 76/100\n",
      "\u001b[1m77/87\u001b[0m \u001b[32m━━━━━━━━━━━━━━━━━\u001b[0m\u001b[37m━━━\u001b[0m \u001b[1m0s\u001b[0m 6ms/step - loss: 0.0174 - mean_absolute_error: 0.0174\n",
      "Epoch 76: val_mean_absolute_error did not improve from 0.03481\n",
      "\u001b[1m87/87\u001b[0m \u001b[32m━━━━━━━━━━━━━━━━━━━━\u001b[0m\u001b[37m\u001b[0m \u001b[1m1s\u001b[0m 7ms/step - loss: 0.0174 - mean_absolute_error: 0.0174 - val_loss: 0.0529 - val_mean_absolute_error: 0.0529\n",
      "Epoch 77/100\n",
      "\u001b[1m76/87\u001b[0m \u001b[32m━━━━━━━━━━━━━━━━━\u001b[0m\u001b[37m━━━\u001b[0m \u001b[1m0s\u001b[0m 4ms/step - loss: 0.0200 - mean_absolute_error: 0.0200\n",
      "Epoch 77: val_mean_absolute_error did not improve from 0.03481\n",
      "\u001b[1m87/87\u001b[0m \u001b[32m━━━━━━━━━━━━━━━━━━━━\u001b[0m\u001b[37m\u001b[0m \u001b[1m0s\u001b[0m 5ms/step - loss: 0.0202 - mean_absolute_error: 0.0202 - val_loss: 0.0527 - val_mean_absolute_error: 0.0527\n",
      "Epoch 78/100\n",
      "\u001b[1m81/87\u001b[0m \u001b[32m━━━━━━━━━━━━━━━━━━\u001b[0m\u001b[37m━━\u001b[0m \u001b[1m0s\u001b[0m 6ms/step - loss: 0.0164 - mean_absolute_error: 0.0164\n",
      "Epoch 78: val_mean_absolute_error did not improve from 0.03481\n",
      "\u001b[1m87/87\u001b[0m \u001b[32m━━━━━━━━━━━━━━━━━━━━\u001b[0m\u001b[37m\u001b[0m \u001b[1m1s\u001b[0m 7ms/step - loss: 0.0164 - mean_absolute_error: 0.0164 - val_loss: 0.0596 - val_mean_absolute_error: 0.0596\n",
      "Epoch 79/100\n",
      "\u001b[1m73/87\u001b[0m \u001b[32m━━━━━━━━━━━━━━━━\u001b[0m\u001b[37m━━━━\u001b[0m \u001b[1m0s\u001b[0m 3ms/step - loss: 0.0164 - mean_absolute_error: 0.0164\n",
      "Epoch 79: val_mean_absolute_error did not improve from 0.03481\n",
      "\u001b[1m87/87\u001b[0m \u001b[32m━━━━━━━━━━━━━━━━━━━━\u001b[0m\u001b[37m\u001b[0m \u001b[1m0s\u001b[0m 4ms/step - loss: 0.0164 - mean_absolute_error: 0.0164 - val_loss: 0.0432 - val_mean_absolute_error: 0.0432\n",
      "Epoch 80/100\n",
      "\u001b[1m80/87\u001b[0m \u001b[32m━━━━━━━━━━━━━━━━━━\u001b[0m\u001b[37m━━\u001b[0m \u001b[1m0s\u001b[0m 5ms/step - loss: 0.0165 - mean_absolute_error: 0.0165\n",
      "Epoch 80: val_mean_absolute_error did not improve from 0.03481\n",
      "\u001b[1m87/87\u001b[0m \u001b[32m━━━━━━━━━━━━━━━━━━━━\u001b[0m\u001b[37m\u001b[0m \u001b[1m1s\u001b[0m 6ms/step - loss: 0.0165 - mean_absolute_error: 0.0165 - val_loss: 0.0507 - val_mean_absolute_error: 0.0507\n",
      "Epoch 81/100\n",
      "\u001b[1m81/87\u001b[0m \u001b[32m━━━━━━━━━━━━━━━━━━\u001b[0m\u001b[37m━━\u001b[0m \u001b[1m0s\u001b[0m 5ms/step - loss: 0.0161 - mean_absolute_error: 0.0161\n",
      "Epoch 81: val_mean_absolute_error did not improve from 0.03481\n",
      "\u001b[1m87/87\u001b[0m \u001b[32m━━━━━━━━━━━━━━━━━━━━\u001b[0m\u001b[37m\u001b[0m \u001b[1m1s\u001b[0m 6ms/step - loss: 0.0162 - mean_absolute_error: 0.0162 - val_loss: 0.0521 - val_mean_absolute_error: 0.0521\n",
      "Epoch 82/100\n",
      "\u001b[1m78/87\u001b[0m \u001b[32m━━━━━━━━━━━━━━━━━\u001b[0m\u001b[37m━━━\u001b[0m \u001b[1m0s\u001b[0m 5ms/step - loss: 0.0164 - mean_absolute_error: 0.0164\n",
      "Epoch 82: val_mean_absolute_error improved from 0.03481 to 0.03447, saving model to best_model_manual_tuning.keras\n",
      "\u001b[1m87/87\u001b[0m \u001b[32m━━━━━━━━━━━━━━━━━━━━\u001b[0m\u001b[37m\u001b[0m \u001b[1m1s\u001b[0m 7ms/step - loss: 0.0166 - mean_absolute_error: 0.0166 - val_loss: 0.0345 - val_mean_absolute_error: 0.0345\n",
      "Epoch 83/100\n",
      "\u001b[1m80/87\u001b[0m \u001b[32m━━━━━━━━━━━━━━━━━━\u001b[0m\u001b[37m━━\u001b[0m \u001b[1m0s\u001b[0m 5ms/step - loss: 0.0183 - mean_absolute_error: 0.0183\n",
      "Epoch 83: val_mean_absolute_error did not improve from 0.03447\n",
      "\u001b[1m87/87\u001b[0m \u001b[32m━━━━━━━━━━━━━━━━━━━━\u001b[0m\u001b[37m\u001b[0m \u001b[1m1s\u001b[0m 6ms/step - loss: 0.0183 - mean_absolute_error: 0.0183 - val_loss: 0.0554 - val_mean_absolute_error: 0.0554\n",
      "Epoch 84/100\n",
      "\u001b[1m75/87\u001b[0m \u001b[32m━━━━━━━━━━━━━━━━━\u001b[0m\u001b[37m━━━\u001b[0m \u001b[1m0s\u001b[0m 3ms/step - loss: 0.0163 - mean_absolute_error: 0.0163\n",
      "Epoch 84: val_mean_absolute_error did not improve from 0.03447\n",
      "\u001b[1m87/87\u001b[0m \u001b[32m━━━━━━━━━━━━━━━━━━━━\u001b[0m\u001b[37m\u001b[0m \u001b[1m0s\u001b[0m 4ms/step - loss: 0.0164 - mean_absolute_error: 0.0164 - val_loss: 0.0550 - val_mean_absolute_error: 0.0550\n",
      "Epoch 85/100\n",
      "\u001b[1m80/87\u001b[0m \u001b[32m━━━━━━━━━━━━━━━━━━\u001b[0m\u001b[37m━━\u001b[0m \u001b[1m0s\u001b[0m 3ms/step - loss: 0.0175 - mean_absolute_error: 0.0175\n",
      "Epoch 85: val_mean_absolute_error did not improve from 0.03447\n",
      "\u001b[1m87/87\u001b[0m \u001b[32m━━━━━━━━━━━━━━━━━━━━\u001b[0m\u001b[37m\u001b[0m \u001b[1m0s\u001b[0m 4ms/step - loss: 0.0175 - mean_absolute_error: 0.0175 - val_loss: 0.0460 - val_mean_absolute_error: 0.0460\n",
      "Epoch 86/100\n",
      "\u001b[1m66/87\u001b[0m \u001b[32m━━━━━━━━━━━━━━━\u001b[0m\u001b[37m━━━━━\u001b[0m \u001b[1m0s\u001b[0m 8ms/step - loss: 0.0173 - mean_absolute_error: 0.0173\n",
      "Epoch 86: val_mean_absolute_error did not improve from 0.03447\n",
      "\u001b[1m87/87\u001b[0m \u001b[32m━━━━━━━━━━━━━━━━━━━━\u001b[0m\u001b[37m\u001b[0m \u001b[1m1s\u001b[0m 7ms/step - loss: 0.0173 - mean_absolute_error: 0.0173 - val_loss: 0.0400 - val_mean_absolute_error: 0.0400\n",
      "Epoch 87/100\n",
      "\u001b[1m78/87\u001b[0m \u001b[32m━━━━━━━━━━━━━━━━━\u001b[0m\u001b[37m━━━\u001b[0m \u001b[1m0s\u001b[0m 5ms/step - loss: 0.0157 - mean_absolute_error: 0.0157\n",
      "Epoch 87: val_mean_absolute_error did not improve from 0.03447\n",
      "\u001b[1m87/87\u001b[0m \u001b[32m━━━━━━━━━━━━━━━━━━━━\u001b[0m\u001b[37m\u001b[0m \u001b[1m1s\u001b[0m 6ms/step - loss: 0.0158 - mean_absolute_error: 0.0158 - val_loss: 0.0498 - val_mean_absolute_error: 0.0498\n",
      "Epoch 88/100\n",
      "\u001b[1m83/87\u001b[0m \u001b[32m━━━━━━━━━━━━━━━━━━━\u001b[0m\u001b[37m━\u001b[0m \u001b[1m0s\u001b[0m 3ms/step - loss: 0.0159 - mean_absolute_error: 0.0159\n",
      "Epoch 88: val_mean_absolute_error did not improve from 0.03447\n",
      "\u001b[1m87/87\u001b[0m \u001b[32m━━━━━━━━━━━━━━━━━━━━\u001b[0m\u001b[37m\u001b[0m \u001b[1m0s\u001b[0m 5ms/step - loss: 0.0159 - mean_absolute_error: 0.0159 - val_loss: 0.0369 - val_mean_absolute_error: 0.0369\n",
      "Epoch 89/100\n",
      "\u001b[1m73/87\u001b[0m \u001b[32m━━━━━━━━━━━━━━━━\u001b[0m\u001b[37m━━━━\u001b[0m \u001b[1m0s\u001b[0m 5ms/step - loss: 0.0190 - mean_absolute_error: 0.0190\n",
      "Epoch 89: val_mean_absolute_error did not improve from 0.03447\n",
      "\u001b[1m87/87\u001b[0m \u001b[32m━━━━━━━━━━━━━━━━━━━━\u001b[0m\u001b[37m\u001b[0m \u001b[1m1s\u001b[0m 6ms/step - loss: 0.0186 - mean_absolute_error: 0.0186 - val_loss: 0.0445 - val_mean_absolute_error: 0.0445\n",
      "Epoch 90/100\n",
      "\u001b[1m79/87\u001b[0m \u001b[32m━━━━━━━━━━━━━━━━━━\u001b[0m\u001b[37m━━\u001b[0m \u001b[1m0s\u001b[0m 5ms/step - loss: 0.0156 - mean_absolute_error: 0.0156\n",
      "Epoch 90: val_mean_absolute_error did not improve from 0.03447\n",
      "\u001b[1m87/87\u001b[0m \u001b[32m━━━━━━━━━━━━━━━━━━━━\u001b[0m\u001b[37m\u001b[0m \u001b[1m1s\u001b[0m 7ms/step - loss: 0.0158 - mean_absolute_error: 0.0158 - val_loss: 0.0486 - val_mean_absolute_error: 0.0486\n",
      "Epoch 91/100\n",
      "\u001b[1m83/87\u001b[0m \u001b[32m━━━━━━━━━━━━━━━━━━━\u001b[0m\u001b[37m━\u001b[0m \u001b[1m0s\u001b[0m 4ms/step - loss: 0.0181 - mean_absolute_error: 0.0181\n",
      "Epoch 91: val_mean_absolute_error did not improve from 0.03447\n",
      "\u001b[1m87/87\u001b[0m \u001b[32m━━━━━━━━━━━━━━━━━━━━\u001b[0m\u001b[37m\u001b[0m \u001b[1m1s\u001b[0m 5ms/step - loss: 0.0182 - mean_absolute_error: 0.0182 - val_loss: 0.0467 - val_mean_absolute_error: 0.0467\n",
      "Epoch 92/100\n",
      "\u001b[1m78/87\u001b[0m \u001b[32m━━━━━━━━━━━━━━━━━\u001b[0m\u001b[37m━━━\u001b[0m \u001b[1m0s\u001b[0m 4ms/step - loss: 0.0183 - mean_absolute_error: 0.0183\n",
      "Epoch 92: val_mean_absolute_error did not improve from 0.03447\n",
      "\u001b[1m87/87\u001b[0m \u001b[32m━━━━━━━━━━━━━━━━━━━━\u001b[0m\u001b[37m\u001b[0m \u001b[1m0s\u001b[0m 5ms/step - loss: 0.0181 - mean_absolute_error: 0.0181 - val_loss: 0.0427 - val_mean_absolute_error: 0.0427\n",
      "Epoch 93/100\n",
      "\u001b[1m78/87\u001b[0m \u001b[32m━━━━━━━━━━━━━━━━━\u001b[0m\u001b[37m━━━\u001b[0m \u001b[1m0s\u001b[0m 3ms/step - loss: 0.0218 - mean_absolute_error: 0.0218\n",
      "Epoch 93: val_mean_absolute_error did not improve from 0.03447\n",
      "\u001b[1m87/87\u001b[0m \u001b[32m━━━━━━━━━━━━━━━━━━━━\u001b[0m\u001b[37m\u001b[0m \u001b[1m0s\u001b[0m 4ms/step - loss: 0.0215 - mean_absolute_error: 0.0215 - val_loss: 0.0555 - val_mean_absolute_error: 0.0555\n",
      "Epoch 94/100\n",
      "\u001b[1m82/87\u001b[0m \u001b[32m━━━━━━━━━━━━━━━━━━\u001b[0m\u001b[37m━━\u001b[0m \u001b[1m0s\u001b[0m 5ms/step - loss: 0.0156 - mean_absolute_error: 0.0156\n",
      "Epoch 94: val_mean_absolute_error did not improve from 0.03447\n",
      "\u001b[1m87/87\u001b[0m \u001b[32m━━━━━━━━━━━━━━━━━━━━\u001b[0m\u001b[37m\u001b[0m \u001b[1m1s\u001b[0m 5ms/step - loss: 0.0156 - mean_absolute_error: 0.0156 - val_loss: 0.0426 - val_mean_absolute_error: 0.0426\n",
      "Epoch 95/100\n",
      "\u001b[1m84/87\u001b[0m \u001b[32m━━━━━━━━━━━━━━━━━━━\u001b[0m\u001b[37m━\u001b[0m \u001b[1m0s\u001b[0m 5ms/step - loss: 0.0158 - mean_absolute_error: 0.0158\n",
      "Epoch 95: val_mean_absolute_error did not improve from 0.03447\n",
      "\u001b[1m87/87\u001b[0m \u001b[32m━━━━━━━━━━━━━━━━━━━━\u001b[0m\u001b[37m\u001b[0m \u001b[1m1s\u001b[0m 6ms/step - loss: 0.0158 - mean_absolute_error: 0.0158 - val_loss: 0.0474 - val_mean_absolute_error: 0.0474\n",
      "Epoch 96/100\n",
      "\u001b[1m77/87\u001b[0m \u001b[32m━━━━━━━━━━━━━━━━━\u001b[0m\u001b[37m━━━\u001b[0m \u001b[1m0s\u001b[0m 6ms/step - loss: 0.0150 - mean_absolute_error: 0.0150\n",
      "Epoch 96: val_mean_absolute_error did not improve from 0.03447\n",
      "\u001b[1m87/87\u001b[0m \u001b[32m━━━━━━━━━━━━━━━━━━━━\u001b[0m\u001b[37m\u001b[0m \u001b[1m1s\u001b[0m 6ms/step - loss: 0.0152 - mean_absolute_error: 0.0152 - val_loss: 0.0441 - val_mean_absolute_error: 0.0441\n",
      "Epoch 97/100\n",
      "\u001b[1m78/87\u001b[0m \u001b[32m━━━━━━━━━━━━━━━━━\u001b[0m\u001b[37m━━━\u001b[0m \u001b[1m0s\u001b[0m 5ms/step - loss: 0.0158 - mean_absolute_error: 0.0158\n",
      "Epoch 97: val_mean_absolute_error did not improve from 0.03447\n",
      "\u001b[1m87/87\u001b[0m \u001b[32m━━━━━━━━━━━━━━━━━━━━\u001b[0m\u001b[37m\u001b[0m \u001b[1m1s\u001b[0m 7ms/step - loss: 0.0159 - mean_absolute_error: 0.0159 - val_loss: 0.0538 - val_mean_absolute_error: 0.0538\n",
      "Epoch 98/100\n",
      "\u001b[1m85/87\u001b[0m \u001b[32m━━━━━━━━━━━━━━━━━━━\u001b[0m\u001b[37m━\u001b[0m \u001b[1m0s\u001b[0m 6ms/step - loss: 0.0153 - mean_absolute_error: 0.0153\n",
      "Epoch 98: val_mean_absolute_error did not improve from 0.03447\n",
      "\u001b[1m87/87\u001b[0m \u001b[32m━━━━━━━━━━━━━━━━━━━━\u001b[0m\u001b[37m\u001b[0m \u001b[1m1s\u001b[0m 7ms/step - loss: 0.0154 - mean_absolute_error: 0.0154 - val_loss: 0.0511 - val_mean_absolute_error: 0.0511\n",
      "Epoch 99/100\n",
      "\u001b[1m83/87\u001b[0m \u001b[32m━━━━━━━━━━━━━━━━━━━\u001b[0m\u001b[37m━\u001b[0m \u001b[1m0s\u001b[0m 6ms/step - loss: 0.0178 - mean_absolute_error: 0.0178\n",
      "Epoch 99: val_mean_absolute_error did not improve from 0.03447\n",
      "\u001b[1m87/87\u001b[0m \u001b[32m━━━━━━━━━━━━━━━━━━━━\u001b[0m\u001b[37m\u001b[0m \u001b[1m1s\u001b[0m 7ms/step - loss: 0.0177 - mean_absolute_error: 0.0177 - val_loss: 0.0613 - val_mean_absolute_error: 0.0613\n",
      "Epoch 100/100\n",
      "\u001b[1m70/87\u001b[0m \u001b[32m━━━━━━━━━━━━━━━━\u001b[0m\u001b[37m━━━━\u001b[0m \u001b[1m0s\u001b[0m 4ms/step - loss: 0.0169 - mean_absolute_error: 0.0169\n",
      "Epoch 100: val_mean_absolute_error did not improve from 0.03447\n",
      "\u001b[1m87/87\u001b[0m \u001b[32m━━━━━━━━━━━━━━━━━━━━\u001b[0m\u001b[37m\u001b[0m \u001b[1m0s\u001b[0m 5ms/step - loss: 0.0167 - mean_absolute_error: 0.0167 - val_loss: 0.0510 - val_mean_absolute_error: 0.0510\n"
     ]
    }
   ],
   "source": [
    "import numpy as np\n",
    "import pandas as pd\n",
    "import matplotlib.pyplot as plt\n",
    "#Sklearn tools\n",
    "from sklearn.metrics import mean_absolute_error\n",
    "from sklearn.preprocessing import MinMaxScaler\n",
    "from sklearn.model_selection import train_test_split\n",
    "#Keras specials\n",
    "from tensorflow.keras.models import Sequential, load_model\n",
    "from tensorflow.keras.layers import Dense, Dropout, Input\n",
    "from tensorflow.keras.optimizers import Adam\n",
    "from tensorflow.keras.callbacks import ModelCheckpoint\n",
    "\n",
    "#load the input and output dataframes from github\n",
    "xdf=pd.read_csv('https://raw.githubusercontent.com/aims-umich/ners590data/main/teds_x.csv')\n",
    "ydf=pd.read_csv('https://raw.githubusercontent.com/aims-umich/ners590data/main/teds_y.csv')\n",
    "xtrain, xtest, ytrain, ytest = train_test_split(xdf.values, ydf.values, random_state=42, test_size=0.2)\n",
    "xscaler = MinMaxScaler()\n",
    "yscaler = MinMaxScaler()\n",
    "Xtrain = xscaler.fit_transform(xtrain)\n",
    "Xtest = xscaler.transform(xtest)\n",
    "Ytrain = yscaler.fit_transform(ytrain)\n",
    "Ytest = yscaler.transform(ytest)\n",
    "\n",
    "num_dens_layers = 5                     #including the input/first layer\n",
    "n_nodes=[50, 200, 200, 200, 200]  #node per layer\n",
    "model = Sequential()\n",
    "model.add(Input(shape=(Xtrain.shape[1],)))\n",
    "model.add(Dense(n_nodes[0], kernel_initializer='normal', activation='relu'))\n",
    "model.add(Dropout(0.1))\n",
    "for i in range(1,num_dens_layers):\n",
    "    model.add(Dense(n_nodes[i], kernel_initializer='normal',activation='relu')) #Last layer (use linear activation and set nodes to number of Y columns/labels/outputs\n",
    "model.add(Dense(Ytrain.shape[1], kernel_initializer='normal',activation='linear'))\n",
    "\n",
    "model.compile(loss='mean_absolute_error', optimizer=Adam(6e-4), metrics=['mean_absolute_error'])\n",
    "model.summary()\n",
    "cp = ModelCheckpoint('best_model_manual_tuning.keras', monitor='val_mean_absolute_error', save_best_only=True, mode='min', verbose=1)\n",
    "history = model.fit(Xtrain, Ytrain, epochs=100, batch_size=8, validation_split = 0.15, callbacks=cp, verbose=True)"
   ]
  },
  {
   "cell_type": "code",
   "execution_count": 2,
   "id": "49a9d06d",
   "metadata": {},
   "outputs": [
    {
     "data": {
      "text/plain": [
       "<matplotlib.legend.Legend at 0x7f3828531910>"
      ]
     },
     "execution_count": 2,
     "metadata": {},
     "output_type": "execute_result"
    },
    {
     "data": {
      "image/png": "[encoded data removed]",
      "text/plain": [
       "<Figure size 640x480 with 1 Axes>"
      ]
     },
     "metadata": {},
     "output_type": "display_data"
    }
   ],
   "source": [
    "train_err=history.history['mean_absolute_error']\n",
    "val_err=history.history['val_mean_absolute_error']\n",
    "plt.figure()\n",
    "plt.plot(train_err, label='Training')\n",
    "plt.plot(val_err, label='Validation')\n",
    "plt.xlabel('Epoch')\n",
    "plt.ylabel('Loss')\n",
    "plt.legend()"
   ]
  },
  {
   "cell_type": "code",
   "execution_count": 3,
   "id": "c4e3f8ac",
   "metadata": {},
   "outputs": [
    {
     "name": "stdout",
     "output_type": "stream",
     "text": [
      "\u001b[1m7/7\u001b[0m \u001b[32m━━━━━━━━━━━━━━━━━━━━\u001b[0m\u001b[37m\u001b[0m \u001b[1m0s\u001b[0m 19ms/step\n",
      "\u001b[1m7/7\u001b[0m \u001b[32m━━━━━━━━━━━━━━━━━━━━\u001b[0m\u001b[37m\u001b[0m \u001b[1m0s\u001b[0m 2ms/step \n",
      "\u001b[1m7/7\u001b[0m \u001b[32m━━━━━━━━━━━━━━━━━━━━\u001b[0m\u001b[37m\u001b[0m \u001b[1m0s\u001b[0m 2ms/step \n",
      "\u001b[1m7/7\u001b[0m \u001b[32m━━━━━━━━━━━━━━━━━━━━\u001b[0m\u001b[37m\u001b[0m \u001b[1m0s\u001b[0m 2ms/step \n",
      "\u001b[1m7/7\u001b[0m \u001b[32m━━━━━━━━━━━━━━━━━━━━\u001b[0m\u001b[37m\u001b[0m \u001b[1m0s\u001b[0m 3ms/step \n",
      "\u001b[1m7/7\u001b[0m \u001b[32m━━━━━━━━━━━━━━━━━━━━\u001b[0m\u001b[37m\u001b[0m \u001b[1m0s\u001b[0m 3ms/step \n",
      "\u001b[1m7/7\u001b[0m \u001b[32m━━━━━━━━━━━━━━━━━━━━\u001b[0m\u001b[37m\u001b[0m \u001b[1m0s\u001b[0m 3ms/step \n",
      "\u001b[1m7/7\u001b[0m \u001b[32m━━━━━━━━━━━━━━━━━━━━\u001b[0m\u001b[37m\u001b[0m \u001b[1m0s\u001b[0m 3ms/step \n",
      "\u001b[1m7/7\u001b[0m \u001b[32m━━━━━━━━━━━━━━━━━━━━\u001b[0m\u001b[37m\u001b[0m \u001b[1m0s\u001b[0m 3ms/step \n",
      "\u001b[1m7/7\u001b[0m \u001b[32m━━━━━━━━━━━━━━━━━━━━\u001b[0m\u001b[37m\u001b[0m \u001b[1m0s\u001b[0m 3ms/step \n",
      "\u001b[1m7/7\u001b[0m \u001b[32m━━━━━━━━━━━━━━━━━━━━\u001b[0m\u001b[37m\u001b[0m \u001b[1m0s\u001b[0m 3ms/step \n",
      "\u001b[1m7/7\u001b[0m \u001b[32m━━━━━━━━━━━━━━━━━━━━\u001b[0m\u001b[37m\u001b[0m \u001b[1m0s\u001b[0m 3ms/step \n",
      "\u001b[1m7/7\u001b[0m \u001b[32m━━━━━━━━━━━━━━━━━━━━\u001b[0m\u001b[37m\u001b[0m \u001b[1m0s\u001b[0m 2ms/step \n",
      "\u001b[1m7/7\u001b[0m \u001b[32m━━━━━━━━━━━━━━━━━━━━\u001b[0m\u001b[37m\u001b[0m \u001b[1m0s\u001b[0m 3ms/step \n",
      "\u001b[1m7/7\u001b[0m \u001b[32m━━━━━━━━━━━━━━━━━━━━\u001b[0m\u001b[37m\u001b[0m \u001b[1m0s\u001b[0m 4ms/step \n",
      "\u001b[1m7/7\u001b[0m \u001b[32m━━━━━━━━━━━━━━━━━━━━\u001b[0m\u001b[37m\u001b[0m \u001b[1m0s\u001b[0m 3ms/step \n",
      "\u001b[1m7/7\u001b[0m \u001b[32m━━━━━━━━━━━━━━━━━━━━\u001b[0m\u001b[37m\u001b[0m \u001b[1m0s\u001b[0m 2ms/step \n",
      "\u001b[1m7/7\u001b[0m \u001b[32m━━━━━━━━━━━━━━━━━━━━\u001b[0m\u001b[37m\u001b[0m \u001b[1m0s\u001b[0m 2ms/step \n",
      "\u001b[1m7/7\u001b[0m \u001b[32m━━━━━━━━━━━━━━━━━━━━\u001b[0m\u001b[37m\u001b[0m \u001b[1m0s\u001b[0m 2ms/step \n",
      "\u001b[1m7/7\u001b[0m \u001b[32m━━━━━━━━━━━━━━━━━━━━\u001b[0m\u001b[37m\u001b[0m \u001b[1m0s\u001b[0m 3ms/step \n",
      "\u001b[1m7/7\u001b[0m \u001b[32m━━━━━━━━━━━━━━━━━━━━\u001b[0m\u001b[37m\u001b[0m \u001b[1m0s\u001b[0m 2ms/step \n"
     ]
    }
   ],
   "source": [
    "# Baseline predictions using XTest\n",
    "model = load_model('best_model_manual_tuning.keras')\n",
    "pred_0 = model.predict(Xtest)\n",
    "preds = []\n",
    "# Get predictions with a feature randomized\n",
    "for i in range(20):\n",
    "    Xtest_rand = Xtest\n",
    "    Xtest_rand[:,i] = np.random.uniform(0, 1, size=Xtest_rand.shape[0])\n",
    "    preds.append(model.predict(Xtest_rand))"
   ]
  },
  {
   "cell_type": "code",
   "execution_count": 4,
   "id": "4770d639",
   "metadata": {},
   "outputs": [],
   "source": [
    "# Array is shape (20, 819, 30) (feature randomized, sim #, output)\n",
    "maes = []\n",
    "preds_array = np.stack(preds)\n",
    "reference_mae = mean_absolute_error(Ytest[:,0], pred_0[:,0])\n",
    "\n",
    "# TE_4_t4000 Feature Importances correspond to (:,:,0)\n",
    "for i in range(preds_array.shape[0]):\n",
    "    # Find MAE with randomized feature - MAE with no feature randomized\n",
    "    maes.append(mean_absolute_error(Ytest[:,0], preds_array[i,:,0]) - reference_mae) \n",
    "# Add change in MAE due to randomizations (aka feature importances) to DF and sort\n",
    "out1_df = pd.DataFrame(np.stack(maes), columns=['Feature Importance'], index=xdf.columns, dtype=float)\n",
    "out1_df_sorted = out1_df.sort_values(by='Feature Importance', key=abs, ascending=False)\n",
    "\n",
    "maes = []\n",
    "reference_mae = mean_absolute_error(Ytest[:,14], pred_0[:,14])\n",
    "# TW_1_t8000 Feature Importances correspond to (:,:,14)\n",
    "for i in range(preds_array.shape[0]):\n",
    "    maes.append(mean_absolute_error(Ytest[:,14], preds_array[i,:,14]) - reference_mae) \n",
    "out2_df = pd.DataFrame(np.stack(maes), columns=['Feature Importance'], index=xdf.columns, dtype=float)\n",
    "out2_df_sorted = out2_df.sort_values(by='Feature Importance', key=abs, ascending=False)\n",
    "\n",
    "maes = []\n",
    "reference_mae = mean_absolute_error(Ytest[:,24], pred_0[:,24])\n",
    "# TN_1_1_t4000 Feature Importances correspond to (:,:,24)\n",
    "for i in range(preds_array.shape[0]):\n",
    "    maes.append(mean_absolute_error(Ytest[:,24], preds_array[i,:,24]) - reference_mae) \n",
    "out3_df = pd.DataFrame(np.stack(maes), columns=['Feature Importance'], index=xdf.columns, dtype=float)\n",
    "out3_df_sorted = out3_df.sort_values(by='Feature Importance', key=abs, ascending=False)\n"
   ]
  },
  {
   "cell_type": "code",
   "execution_count": 5,
   "id": "1bef3721",
   "metadata": {},
   "outputs": [
    {
     "data": {
      "text/plain": [
       "Text(0.5, 1.0, 'Feature Importance on TN_1_1_t4000')"
      ]
     },
     "execution_count": 5,
     "metadata": {},
     "output_type": "execute_result"
    },
    {
     "data": {
      "image/png": "[encoded data removed]",
      "text/plain": [
       "<Figure size 600x1800 with 3 Axes>"
      ]
     },
     "metadata": {},
     "output_type": "display_data"
    }
   ],
   "source": [
    "fig, ax = plt.subplots(3, 1)\n",
    "fig.set_size_inches(6,18)\n",
    "ax[0].barh(out1_df_sorted.index.array, out1_df_sorted['Feature Importance'].values, color='maroon')\n",
    "ax[0].set_title('Feature Importance on TE_4_t4000')\n",
    "ax[1].barh(out2_df_sorted.index.array, out2_df_sorted['Feature Importance'].values, color='maroon')\n",
    "ax[1].set_title('Feature Importance on TW_1_t8000')\n",
    "ax[2].barh(out3_df_sorted.index.array, out3_df_sorted['Feature Importance'].values, color='maroon')\n",
    "ax[2].set_title('Feature Importance on TN_1_1_t4000')"
   ]
  },
  {
   "cell_type": "markdown",
   "id": "619328d0",
   "metadata": {},
   "source": [
    "Here, feature importance represents the change in MAE due to the randomization of a paticular input. For all 3 outputs, sf was the least important feature. msf_20 through msf_23 were always important features for all outputs. And overall, TN_1_1_t4000 was the most robust to randomizations of features, although this is likely because its MAE was high to begin with."
   ]
  }
 ],
 "metadata": {
  "kernelspec": {
   "display_name": "ners590",
   "language": "python",
   "name": "python3"
  },
  "language_info": {
   "codemirror_mode": {
    "name": "ipython",
    "version": 3
   },
   "file_extension": ".py",
   "mimetype": "text/x-python",
   "name": "python",
   "nbconvert_exporter": "python",
   "pygments_lexer": "ipython3",
   "version": "3.12.4"
  },
  "papermill": {
   "default_parameters": {},
   "duration": 303.212948,
   "end_time": "2024-10-23T14:38:01.775708",
   "environment_variables": {},
   "exception": null,
   "input_path": "abedel_lab8.ipynb",
   "output_path": "abedel_lab8_out.ipynb",
   "parameters": {},
   "start_time": "2024-10-23T14:32:58.562760",
   "version": "2.6.0"
  }
 },
 "nbformat": 4,
 "nbformat_minor": 5
}
