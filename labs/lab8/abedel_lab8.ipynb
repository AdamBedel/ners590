{
 "cells": [
  {
   "cell_type": "markdown",
   "id": "f9cac638",
   "metadata": {
    "papermill": {
     "duration": 0.005627,
     "end_time": "2024-10-23T14:33:11.626935",
     "exception": false,
     "start_time": "2024-10-23T14:33:11.621308",
     "status": "completed"
    },
    "tags": []
   },
   "source": [
    "<h2> Lab 8"
   ]
  },
  {
   "cell_type": "markdown",
   "id": "44d468ce",
   "metadata": {
    "papermill": {
     "duration": 0.004002,
     "end_time": "2024-10-23T14:33:11.635240",
     "exception": false,
     "start_time": "2024-10-23T14:33:11.631238",
     "status": "completed"
    },
    "tags": []
   },
   "source": [
    "<h3> Exercise Set 1"
   ]
  },
  {
   "cell_type": "markdown",
   "id": "b2e59a3c",
   "metadata": {
    "papermill": {
     "duration": 0.004042,
     "end_time": "2024-10-23T14:33:11.643270",
     "exception": false,
     "start_time": "2024-10-23T14:33:11.639228",
     "status": "completed"
    },
    "tags": []
   },
   "source": [
    "(a) Scenario 1: You have a dataset of 300 documents containing numerical and text records of different nuclear units. Your task is to develop a model that can process similar documents and classify the data based on reactor design (PWR or BWR) and the length of the reactor life (< 40 years, > 40 years but < 60 years, > 60 years).\n",
    "\n",
    "Needs to handle binary and continuous classification, small sample size, loss could be categorical crossentropy, how to rectify the two outputs?\n"
   ]
  },
  {
   "cell_type": "markdown",
   "id": "73aad806",
   "metadata": {
    "papermill": {
     "duration": 0.004097,
     "end_time": "2024-10-23T14:33:11.651285",
     "exception": false,
     "start_time": "2024-10-23T14:33:11.647188",
     "status": "completed"
    },
    "tags": []
   },
   "source": [
    "(b) Scenario 2: You have a dataset of 5000 images of different pipes in a nuclear power plant unit. Your task is to develop a model that can predict the health of similar pipes and classify them into different grades: High, medium, low, or about to break.\n",
    "\n",
    "Handles image classification, loss could be categorical crossentropy"
   ]
  },
  {
   "cell_type": "markdown",
   "id": "7122ec10",
   "metadata": {
    "papermill": {
     "duration": 0.004017,
     "end_time": "2024-10-23T14:33:11.659216",
     "exception": false,
     "start_time": "2024-10-23T14:33:11.655199",
     "status": "completed"
    },
    "tags": []
   },
   "source": [
    "(c) Scenario 3: You have a dataset of 100,000 time-dependent measurements of reactor pressure (MPa), fuel temperature (Kelvin), and mass flow rate of coolant (kg/s). Your task is to develop a model that predicts the coolant (water) level in the core in meters as a function of time\n",
    "\n",
    "large dataset of time-dependent measurements, loss could be absolute squared error"
   ]
  },
  {
   "cell_type": "markdown",
   "id": "b580f317",
   "metadata": {
    "papermill": {
     "duration": 0.003865,
     "end_time": "2024-10-23T14:33:11.666878",
     "exception": false,
     "start_time": "2024-10-23T14:33:11.663013",
     "status": "completed"
    },
    "tags": []
   },
   "source": [
    "(d) Scenario 4: You have a dataset of static nuclear data (cross-section) measurements taken from a nuclear laboratory for isotopes like U-235, U-238, Pu-239, Pu-240, and other actinides (Am, Cm) and fission products (Cs, Sm). Your task is to develop a model that can predict the value of $ k_{eff} $ based on these cross-section data.\n",
    "\n",
    "\n"
   ]
  },
  {
   "cell_type": "markdown",
   "id": "638a6365",
   "metadata": {
    "papermill": {
     "duration": 0.003816,
     "end_time": "2024-10-23T14:33:11.674520",
     "exception": false,
     "start_time": "2024-10-23T14:33:11.670704",
     "status": "completed"
    },
    "tags": []
   },
   "source": [
    "<h3> Exercise Set 2"
   ]
  },
  {
   "cell_type": "markdown",
   "id": "f780d88a",
   "metadata": {
    "papermill": {
     "duration": 0.00373,
     "end_time": "2024-10-23T14:33:11.682166",
     "exception": false,
     "start_time": "2024-10-23T14:33:11.678436",
     "status": "completed"
    },
    "tags": []
   },
   "source": [
    "<h4>----------- Cut File -----------"
   ]
  },
  {
   "cell_type": "markdown",
   "id": "d1cfb2b4",
   "metadata": {
    "papermill": {
     "duration": 0.003851,
     "end_time": "2024-10-23T14:33:11.690024",
     "exception": false,
     "start_time": "2024-10-23T14:33:11.686173",
     "status": "completed"
    },
    "tags": []
   },
   "source": [
    "(a) The correlation matrices of the input data (between the input themselves) and output data\n",
    "(between the output themselves).\n",
    "(b) The datafarme that shows the model ranking after tuning.\n",
    "(c) The diagonal validation plot for an output of your choice (first output by default).\n",
    "(d) The percent error plot for five outputs of your choice.\n",
    "(e) The convergence of the Bayesian optimizer for the neural network.\n",
    "(f) The neural network loss curve for the best neural network model.\n",
    "(g) Discuss your observations of the performance of the methods and the results you\n",
    "found.\n"
   ]
  },
  {
   "cell_type": "code",
   "execution_count": 3,
   "id": "4c53294b",
   "metadata": {
    "execution": {
     "iopub.execute_input": "2024-10-23T14:33:11.698450Z",
     "iopub.status.busy": "2024-10-23T14:33:11.698303Z",
     "iopub.status.idle": "2024-10-23T14:33:51.560775Z",
     "shell.execute_reply": "2024-10-23T14:33:51.560184Z"
    },
    "papermill": {
     "duration": 39.868005,
     "end_time": "2024-10-23T14:33:51.561923",
     "exception": false,
     "start_time": "2024-10-23T14:33:11.693918",
     "status": "completed"
    },
    "tags": []
   },
   "outputs": [
    {
     "ename": "ModuleNotFoundError",
     "evalue": "No module named 'xarray'",
     "output_type": "error",
     "traceback": [
      "\u001b[0;31m---------------------------------------------------------------------------\u001b[0m",
      "\u001b[0;31mModuleNotFoundError\u001b[0m                       Traceback (most recent call last)",
      "Cell \u001b[0;32mIn[3], line 1\u001b[0m\n\u001b[0;32m----> 1\u001b[0m \u001b[38;5;28;01mimport\u001b[39;00m \u001b[38;5;21;01mxarray\u001b[39;00m \u001b[38;5;28;01mas\u001b[39;00m \u001b[38;5;21;01mxr\u001b[39;00m\n\u001b[1;32m      2\u001b[0m \u001b[38;5;28;01mimport\u001b[39;00m \u001b[38;5;21;01mnumpy\u001b[39;00m \u001b[38;5;28;01mas\u001b[39;00m \u001b[38;5;21;01mnp\u001b[39;00m\n\u001b[1;32m      3\u001b[0m \u001b[38;5;28;01mimport\u001b[39;00m \u001b[38;5;21;01mpandas\u001b[39;00m \u001b[38;5;28;01mas\u001b[39;00m \u001b[38;5;21;01mpd\u001b[39;00m\n",
      "\u001b[0;31mModuleNotFoundError\u001b[0m: No module named 'xarray'"
     ]
    }
   ],
   "source": [
    "import xarray as xr\n",
    "import numpy as np\n",
    "import pandas as pd\n",
    "import matplotlib.pyplot as plt\n",
    "from datetime import datetime\n",
    "from scipy.stats import uniform, randint\n",
    "from sklearn.preprocessing import MinMaxScaler\n",
    "\n",
    "# Plot settings\n",
    "matplotlib_settings = {\n",
    "    \"font.size\": 12,\n",
    "    \"legend.fontsize\": 11,\n",
    "    \"figure.figsize\": (8, 8)\n",
    "}\n",
    "plt.rcParams.update(**matplotlib_settings)"
   ]
  },
  {
   "cell_type": "code",
   "execution_count": 2,
   "id": "b09476da",
   "metadata": {
    "execution": {
     "iopub.execute_input": "2024-10-23T14:33:51.571621Z",
     "iopub.status.busy": "2024-10-23T14:33:51.570909Z",
     "iopub.status.idle": "2024-10-23T14:35:58.374617Z",
     "shell.execute_reply": "2024-10-23T14:35:58.374191Z"
    },
    "papermill": {
     "duration": 126.809717,
     "end_time": "2024-10-23T14:35:58.375583",
     "exception": false,
     "start_time": "2024-10-23T14:33:51.565866",
     "status": "completed"
    },
    "tags": []
   },
   "outputs": [
    {
     "ename": "ModuleNotFoundError",
     "evalue": "No module named 'pyMAISE'",
     "output_type": "error",
     "traceback": [
      "\u001b[0;31m---------------------------------------------------------------------------\u001b[0m",
      "\u001b[0;31mModuleNotFoundError\u001b[0m                       Traceback (most recent call last)",
      "Cell \u001b[0;32mIn[2], line 1\u001b[0m\n\u001b[0;32m----> 1\u001b[0m \u001b[38;5;28;01mfrom\u001b[39;00m \u001b[38;5;21;01mpyMAISE\u001b[39;00m\u001b[38;5;21;01m.\u001b[39;00m\u001b[38;5;21;01mpreprocessing\u001b[39;00m \u001b[38;5;28;01mimport\u001b[39;00m correlation_matrix, train_test_split, scale_data\n\u001b[1;32m      2\u001b[0m \u001b[38;5;28;01mimport\u001b[39;00m \u001b[38;5;21;01mpyMAISE\u001b[39;00m \u001b[38;5;28;01mas\u001b[39;00m \u001b[38;5;21;01mmai\u001b[39;00m\n",
      "\u001b[0;31mModuleNotFoundError\u001b[0m: No module named 'pyMAISE'"
     ]
    }
   ],
   "source": [
    "from pyMAISE.preprocessing import correlation_matrix, train_test_split, scale_data\n",
    "import pyMAISE as mai"
   ]
  },
  {
   "cell_type": "code",
   "execution_count": 3,
   "id": "61fda767",
   "metadata": {
    "execution": {
     "iopub.execute_input": "2024-10-23T14:35:58.385797Z",
     "iopub.status.busy": "2024-10-23T14:35:58.385036Z",
     "iopub.status.idle": "2024-10-23T14:35:58.388166Z",
     "shell.execute_reply": "2024-10-23T14:35:58.387817Z"
    },
    "papermill": {
     "duration": 0.008623,
     "end_time": "2024-10-23T14:35:58.388951",
     "exception": false,
     "start_time": "2024-10-23T14:35:58.380328",
     "status": "completed"
    },
    "tags": []
   },
   "outputs": [],
   "source": [
    "global_settings = mai.init(\n",
    "    problem_type=mai.ProblemType.REGRESSION,   # Define a regression problem\n",
    "    cuda_visible_devices=\"-1\"                  # Use CPU only\n",
    ")"
   ]
  },
  {
   "cell_type": "code",
   "execution_count": 4,
   "id": "3a3f4aee",
   "metadata": {
    "execution": {
     "iopub.execute_input": "2024-10-23T14:35:58.398081Z",
     "iopub.status.busy": "2024-10-23T14:35:58.397516Z",
     "iopub.status.idle": "2024-10-23T14:35:59.074668Z",
     "shell.execute_reply": "2024-10-23T14:35:59.074249Z"
    },
    "papermill": {
     "duration": 0.682782,
     "end_time": "2024-10-23T14:35:59.075717",
     "exception": false,
     "start_time": "2024-10-23T14:35:58.392935",
     "status": "completed"
    },
    "tags": []
   },
   "outputs": [
    {
     "ename": "NameError",
     "evalue": "name 'pd' is not defined",
     "output_type": "error",
     "traceback": [
      "\u001b[0;31m---------------------------------------------------------------------------\u001b[0m",
      "\u001b[0;31mNameError\u001b[0m                                 Traceback (most recent call last)",
      "Cell \u001b[0;32mIn[4], line 2\u001b[0m\n\u001b[1;32m      1\u001b[0m \u001b[38;5;66;03m#load the input and output dataframes from github\u001b[39;00m\n\u001b[0;32m----> 2\u001b[0m xdf\u001b[38;5;241m=\u001b[39m\u001b[43mpd\u001b[49m\u001b[38;5;241m.\u001b[39mread_csv(\u001b[38;5;124m'\u001b[39m\u001b[38;5;124mhttps://raw.githubusercontent.com/aims-umich/ners590data/main/teds_x.csv\u001b[39m\u001b[38;5;124m'\u001b[39m)\n\u001b[1;32m      3\u001b[0m ydf\u001b[38;5;241m=\u001b[39mpd\u001b[38;5;241m.\u001b[39mread_csv(\u001b[38;5;124m'\u001b[39m\u001b[38;5;124mhttps://raw.githubusercontent.com/aims-umich/ners590data/main/teds_y.csv\u001b[39m\u001b[38;5;124m'\u001b[39m)\n\u001b[1;32m      5\u001b[0m xnames\u001b[38;5;241m=\u001b[39mxdf\u001b[38;5;241m.\u001b[39mcolumns\n",
      "\u001b[0;31mNameError\u001b[0m: name 'pd' is not defined"
     ]
    }
   ],
   "source": [
    "#load the input and output dataframes from github\n",
    "xdf=pd.read_csv('https://raw.githubusercontent.com/aims-umich/ners590data/main/teds_x.csv')\n",
    "ydf=pd.read_csv('https://raw.githubusercontent.com/aims-umich/ners590data/main/teds_y.csv')\n",
    "\n",
    "xnames=xdf.columns\n",
    "ynames=ydf.columns\n",
    "\n",
    "# Convert np arrays into xarrays\n",
    "x = xr.DataArray(xdf, name=\"Input data\", dims=[\"Samples\", \"Features\"], coords={\"Features\":xnames})\n",
    "y = xr.DataArray(ydf, name=\"Target data\",dims=[\"Samples\", \"Features\"], coords={\"Features\":ynames})"
   ]
  },
  {
   "cell_type": "markdown",
   "id": "164d500f",
   "metadata": {
    "papermill": {
     "duration": 0.004224,
     "end_time": "2024-10-23T14:35:59.084529",
     "exception": false,
     "start_time": "2024-10-23T14:35:59.080305",
     "status": "completed"
    },
    "tags": []
   },
   "source": [
    "<h3>----------- Cut File -----------"
   ]
  },
  {
   "cell_type": "code",
   "execution_count": null,
   "id": "82267593",
   "metadata": {
    "execution": {
     "iopub.execute_input": "2024-10-23T14:35:59.093835Z",
     "iopub.status.busy": "2024-10-23T14:35:59.093215Z",
     "iopub.status.idle": "2024-10-23T14:36:00.734628Z",
     "shell.execute_reply": "2024-10-23T14:36:00.734228Z"
    },
    "papermill": {
     "duration": 1.647129,
     "end_time": "2024-10-23T14:36:00.735657",
     "exception": false,
     "start_time": "2024-10-23T14:35:59.088528",
     "status": "completed"
    },
    "tags": []
   },
   "outputs": [],
   "source": [
    "fig, ax = plt.subplots(1,2)\n",
    "ax[0].set_title(\"Input Data Correlation\")\n",
    "ax[1].set_title(\"Output Data Correlation\")\n",
    "correlation_matrix(x, ax=ax[0], fig=fig)\n",
    "correlation_matrix(y, ax=ax[1], fig=fig)\n",
    "fig.set_figwidth(20)"
   ]
  },
  {
   "cell_type": "code",
   "execution_count": 6,
   "id": "6d1c8b64",
   "metadata": {
    "execution": {
     "iopub.execute_input": "2024-10-23T14:36:00.752691Z",
     "iopub.status.busy": "2024-10-23T14:36:00.752527Z",
     "iopub.status.idle": "2024-10-23T14:36:00.763404Z",
     "shell.execute_reply": "2024-10-23T14:36:00.763047Z"
    },
    "papermill": {
     "duration": 0.021121,
     "end_time": "2024-10-23T14:36:00.764319",
     "exception": false,
     "start_time": "2024-10-23T14:36:00.743198",
     "status": "completed"
    },
    "tags": []
   },
   "outputs": [],
   "source": [
    "xtrain, xtest, ytrain, ytest = train_test_split(data=[x, y], test_size=0.3)\n",
    "xtrain, xtest, xscaler = scale_data(xtrain, xtest, scaler=MinMaxScaler())\n",
    "ytrain, ytest, yscaler = scale_data(ytrain, ytest, scaler=MinMaxScaler())\n",
    "\n",
    "model_settings = {\n",
    "    \"models\": [\"Linear\", \"Lasso\", \"DT\", \"RF\", \"KN\", \"FNN\"],\n",
    "    \"FNN\": {\n",
    "        \"structural_params\": {\n",
    "            \"Dense_input\": {\n",
    "                \"units\": mai.Int(min_value=50, max_value=400),\n",
    "                \"input_dim\": xtrain.shape[-1],\n",
    "                \"activation\": \"relu\",\n",
    "                \"kernel_initializer\": \"normal\",\n",
    "                \"sublayer\": mai.Choice([\"Dropout\", \"None\"]),\n",
    "                \"Dropout\": {\n",
    "                    \"rate\": mai.Float(min_value=0.4, max_value=0.6),\n",
    "                },\n",
    "            },\n",
    "            \"Dense_hidden\": {\n",
    "                \"num_layers\": mai.Int(min_value=0, max_value=3),\n",
    "                \"units\": mai.Int(min_value=25, max_value=250),\n",
    "                \"activation\": \"relu\",\n",
    "                \"kernel_initializer\": \"normal\",\n",
    "                \"sublayer\": mai.Choice([\"Dropout_hidden\", \"None\"]),\n",
    "                \"Dropout_hidden\": {\n",
    "                    \"rate\": mai.Float(min_value=0.4, max_value=0.6),\n",
    "                },\n",
    "            },\n",
    "            \"Dense_output\": {\n",
    "                \"units\": ytrain.shape[-1],\n",
    "                \"activation\": \"linear\",\n",
    "                \"kernel_initializer\": \"normal\",\n",
    "            },\n",
    "        },\n",
    "        \"optimizer\": \"Adam\",\n",
    "        \"Adam\": {\n",
    "            \"learning_rate\": mai.Float(min_value=1e-5, max_value=0.001),\n",
    "        },\n",
    "        \"compile_params\": {\n",
    "            \"loss\": \"mean_absolute_error\",\n",
    "            \"metrics\": [\"mean_absolute_error\"],\n",
    "        },\n",
    "        \"fitting_params\": {\n",
    "            \"batch_size\": mai.Choice([8, 16, 32]),\n",
    "            \"epochs\": 50,\n",
    "            \"validation_split\": 0.15,\n",
    "        },\n",
    "    },\n",
    "}\n",
    "tuner = mai.Tuner(xtrain, ytrain, model_settings=model_settings)"
   ]
  },
  {
   "cell_type": "code",
   "execution_count": null,
   "id": "be35dc10",
   "metadata": {
    "execution": {
     "iopub.execute_input": "2024-10-23T14:36:00.816659Z",
     "iopub.status.busy": "2024-10-23T14:36:00.816355Z",
     "iopub.status.idle": "2024-10-23T14:37:59.037614Z",
     "shell.execute_reply": "2024-10-23T14:37:59.037080Z"
    },
    "papermill": {
     "duration": 118.231303,
     "end_time": "2024-10-23T14:37:59.038490",
     "exception": false,
     "start_time": "2024-10-23T14:36:00.807187",
     "status": "completed"
    },
    "tags": []
   },
   "outputs": [],
   "source": [
    "random_search_spaces = {\n",
    "    \"Lasso\": {\n",
    "        \"alpha\": uniform(loc=0.0001, scale=0.0099), # 0.0001 - 0.01\n",
    "    },\n",
    "    \"DT\": {\n",
    "        \"max_depth\": randint(low=5, high=50), # 5 - 50\n",
    "        \"max_features\": [None, \"sqrt\", \"log2\", 2, 4, 6],\n",
    "        \"min_samples_split\": randint(low=2, high=20), # 2 - 20\n",
    "        \"min_samples_leaf\": randint(low=1, high=20), # 1 - 20\n",
    "    },\n",
    "    \"RF\": {\n",
    "        \"n_estimators\": randint(low=50, high=200), # 50 - 200\n",
    "        \"criterion\": [\"squared_error\", \"absolute_error\", \"poisson\"],\n",
    "        \"min_samples_split\": randint(low=2, high=20), # 2 - 20\n",
    "        \"min_samples_leaf\": randint(low=1, high=20), # 1 - 20\n",
    "        \"max_features\": [None, \"sqrt\", \"log2\", 2, 4, 6],\n",
    "    },\n",
    "    \"KN\": {\n",
    "        \"n_neighbors\": randint(low=1, high=20), # 1 - 20\n",
    "        \"weights\": [\"uniform\", \"distance\"],\n",
    "        \"leaf_size\": randint(low=1, high=30), # 1 - 30\n",
    "        \"p\": randint(low=1, high=10), # 1 - 10\n",
    "    },\n",
    "}\n",
    "\n",
    "random_search_configs = tuner.random_search(\n",
    "    param_spaces=random_search_spaces, \n",
    "    n_iter=200, \n",
    "    #n_iter=3, \n",
    "    cv=5,\n",
    ")\n",
    "bayesian_search_configs = tuner.nn_bayesian_search(\n",
    "    objective=\"r2_score\",\n",
    "    max_trials=50,\n",
    "    #max_trials=3,\n",
    "    cv=5,\n",
    ")"
   ]
  },
  {
   "cell_type": "code",
   "execution_count": null,
   "id": "bb31bb62",
   "metadata": {
    "execution": {
     "iopub.execute_input": "2024-10-23T14:37:59.056197Z",
     "iopub.status.busy": "2024-10-23T14:37:59.055585Z",
     "iopub.status.idle": "2024-10-23T14:37:59.198143Z",
     "shell.execute_reply": "2024-10-23T14:37:59.197711Z"
    },
    "papermill": {
     "duration": 0.15334,
     "end_time": "2024-10-23T14:37:59.199093",
     "exception": false,
     "start_time": "2024-10-23T14:37:59.045753",
     "status": "completed"
    },
    "tags": []
   },
   "outputs": [],
   "source": [
    "ax = tuner.convergence_plot(model_types=\"FNN\")\n",
    "ax.set_ylim([0, 1])\n",
    "plt.show()"
   ]
  },
  {
   "cell_type": "code",
   "execution_count": null,
   "id": "2f97fe12",
   "metadata": {},
   "outputs": [],
   "source": [
    "postprocessor = mai.PostProcessor(\n",
    "    data=(xtrain, xtest, ytrain, ytest),\n",
    "    model_configs=[random_search_configs, bayesian_search_configs],\n",
    "    new_model_settings={\n",
    "        \"FNN\": {\"fitting_params\": {\"epochs\": 300}},\n",
    "    },\n",
    "    yscaler=yscaler,\n",
    ")\n",
    "\n",
    "postprocessor.metrics().drop(\"Parameter Configurations\", axis=1)"
   ]
  },
  {
   "cell_type": "code",
   "execution_count": null,
   "id": "599ed671",
   "metadata": {},
   "outputs": [],
   "source": [
    "ax = postprocessor.diagonal_validation_plot(model_type='Linear')\n",
    "plt.show()"
   ]
  },
  {
   "cell_type": "code",
   "execution_count": null,
   "id": "e2c31fc0",
   "metadata": {},
   "outputs": [],
   "source": [
    "models = [\"Linear\", \"Lasso\", \"DT\", \"RF\", \"KN\"]\n",
    "i = 0\n",
    "ax = postprocessor.validation_plot(model_type=models[i])\n",
    "ax.set_title(models[i])\n",
    "plt.show()"
   ]
  },
  {
   "cell_type": "code",
   "execution_count": null,
   "id": "1b204f4e",
   "metadata": {},
   "outputs": [],
   "source": [
    "i += 1\n",
    "ax = postprocessor.validation_plot(model_type=models[i])\n",
    "ax.set_title(models[i])\n",
    "plt.show()"
   ]
  },
  {
   "cell_type": "code",
   "execution_count": null,
   "id": "0c960b94",
   "metadata": {},
   "outputs": [],
   "source": [
    "i += 1\n",
    "ax = postprocessor.validation_plot(model_type=models[i])\n",
    "ax.set_title(models[i])\n",
    "plt.show()"
   ]
  },
  {
   "cell_type": "code",
   "execution_count": null,
   "id": "a0d55fbd",
   "metadata": {},
   "outputs": [],
   "source": [
    "i += 1\n",
    "ax = postprocessor.validation_plot(model_type=models[i])\n",
    "ax.set_title(models[i])\n",
    "plt.show()"
   ]
  },
  {
   "cell_type": "code",
   "execution_count": null,
   "id": "2dae2842",
   "metadata": {},
   "outputs": [],
   "source": [
    "i += 1\n",
    "ax = postprocessor.validation_plot(model_type=models[i])\n",
    "ax.set_title(models[i])\n",
    "plt.show()"
   ]
  },
  {
   "cell_type": "code",
   "execution_count": null,
   "id": "f5ec3520",
   "metadata": {},
   "outputs": [],
   "source": [
    "postprocessor.nn_learning_plot()\n",
    "plt.show()"
   ]
  },
  {
   "cell_type": "code",
   "execution_count": null,
   "id": "8e38833d",
   "metadata": {},
   "outputs": [],
   "source": [
    "for model in [\"Lasso\", \"DT\", \"RF\", \"KN\", \"FNN\"]:\n",
    "    for key, value in postprocessor.get_params(model_type=model).to_dict().items():\n",
    "        print(f\"{key}: {value[0]}\")\n",
    "    print()"
   ]
  },
  {
   "cell_type": "markdown",
   "id": "7a0f4764",
   "metadata": {
    "papermill": {
     "duration": 0.009787,
     "end_time": "2024-10-23T14:37:59.228955",
     "exception": false,
     "start_time": "2024-10-23T14:37:59.219168",
     "status": "completed"
    },
    "tags": []
   },
   "source": [
    "<h3> Exercise Set 3"
   ]
  },
  {
   "cell_type": "code",
   "execution_count": 18,
   "id": "f55ab2c4",
   "metadata": {},
   "outputs": [
    {
     "data": {
      "text/html": [
       "<pre style=\"white-space:pre;overflow-x:auto;line-height:normal;font-family:Menlo,'DejaVu Sans Mono',consolas,'Courier New',monospace\"><span style=\"font-weight: bold\">Model: \"sequential_4\"</span>\n",
       "</pre>\n"
      ],
      "text/plain": [
       "\u001b[1mModel: \"sequential_4\"\u001b[0m\n"
      ]
     },
     "metadata": {},
     "output_type": "display_data"
    },
    {
     "data": {
      "text/html": [
       "<pre style=\"white-space:pre;overflow-x:auto;line-height:normal;font-family:Menlo,'DejaVu Sans Mono',consolas,'Courier New',monospace\">┏━━━━━━━━━━━━━━━━━━━━━━━━━━━━━━━━━┳━━━━━━━━━━━━━━━━━━━━━━━━┳━━━━━━━━━━━━━━━┓\n",
       "┃<span style=\"font-weight: bold\"> Layer (type)                    </span>┃<span style=\"font-weight: bold\"> Output Shape           </span>┃<span style=\"font-weight: bold\">       Param # </span>┃\n",
       "┡━━━━━━━━━━━━━━━━━━━━━━━━━━━━━━━━━╇━━━━━━━━━━━━━━━━━━━━━━━━╇━━━━━━━━━━━━━━━┩\n",
       "│ dense_18 (<span style=\"color: #0087ff; text-decoration-color: #0087ff\">Dense</span>)                │ (<span style=\"color: #00d7ff; text-decoration-color: #00d7ff\">None</span>, <span style=\"color: #00af00; text-decoration-color: #00af00\">50</span>)             │         <span style=\"color: #00af00; text-decoration-color: #00af00\">1,050</span> │\n",
       "├─────────────────────────────────┼────────────────────────┼───────────────┤\n",
       "│ dropout_4 (<span style=\"color: #0087ff; text-decoration-color: #0087ff\">Dropout</span>)             │ (<span style=\"color: #00d7ff; text-decoration-color: #00d7ff\">None</span>, <span style=\"color: #00af00; text-decoration-color: #00af00\">50</span>)             │             <span style=\"color: #00af00; text-decoration-color: #00af00\">0</span> │\n",
       "├─────────────────────────────────┼────────────────────────┼───────────────┤\n",
       "│ dense_19 (<span style=\"color: #0087ff; text-decoration-color: #0087ff\">Dense</span>)                │ (<span style=\"color: #00d7ff; text-decoration-color: #00d7ff\">None</span>, <span style=\"color: #00af00; text-decoration-color: #00af00\">200</span>)            │        <span style=\"color: #00af00; text-decoration-color: #00af00\">10,200</span> │\n",
       "├─────────────────────────────────┼────────────────────────┼───────────────┤\n",
       "│ dense_20 (<span style=\"color: #0087ff; text-decoration-color: #0087ff\">Dense</span>)                │ (<span style=\"color: #00d7ff; text-decoration-color: #00d7ff\">None</span>, <span style=\"color: #00af00; text-decoration-color: #00af00\">200</span>)            │        <span style=\"color: #00af00; text-decoration-color: #00af00\">40,200</span> │\n",
       "├─────────────────────────────────┼────────────────────────┼───────────────┤\n",
       "│ dense_21 (<span style=\"color: #0087ff; text-decoration-color: #0087ff\">Dense</span>)                │ (<span style=\"color: #00d7ff; text-decoration-color: #00d7ff\">None</span>, <span style=\"color: #00af00; text-decoration-color: #00af00\">200</span>)            │        <span style=\"color: #00af00; text-decoration-color: #00af00\">40,200</span> │\n",
       "├─────────────────────────────────┼────────────────────────┼───────────────┤\n",
       "│ dense_22 (<span style=\"color: #0087ff; text-decoration-color: #0087ff\">Dense</span>)                │ (<span style=\"color: #00d7ff; text-decoration-color: #00d7ff\">None</span>, <span style=\"color: #00af00; text-decoration-color: #00af00\">200</span>)            │        <span style=\"color: #00af00; text-decoration-color: #00af00\">40,200</span> │\n",
       "├─────────────────────────────────┼────────────────────────┼───────────────┤\n",
       "│ dense_23 (<span style=\"color: #0087ff; text-decoration-color: #0087ff\">Dense</span>)                │ (<span style=\"color: #00d7ff; text-decoration-color: #00d7ff\">None</span>, <span style=\"color: #00af00; text-decoration-color: #00af00\">30</span>)             │         <span style=\"color: #00af00; text-decoration-color: #00af00\">6,030</span> │\n",
       "└─────────────────────────────────┴────────────────────────┴───────────────┘\n",
       "</pre>\n"
      ],
      "text/plain": [
       "┏━━━━━━━━━━━━━━━━━━━━━━━━━━━━━━━━━┳━━━━━━━━━━━━━━━━━━━━━━━━┳━━━━━━━━━━━━━━━┓\n",
       "┃\u001b[1m \u001b[0m\u001b[1mLayer (type)                   \u001b[0m\u001b[1m \u001b[0m┃\u001b[1m \u001b[0m\u001b[1mOutput Shape          \u001b[0m\u001b[1m \u001b[0m┃\u001b[1m \u001b[0m\u001b[1m      Param #\u001b[0m\u001b[1m \u001b[0m┃\n",
       "┡━━━━━━━━━━━━━━━━━━━━━━━━━━━━━━━━━╇━━━━━━━━━━━━━━━━━━━━━━━━╇━━━━━━━━━━━━━━━┩\n",
       "│ dense_18 (\u001b[38;5;33mDense\u001b[0m)                │ (\u001b[38;5;45mNone\u001b[0m, \u001b[38;5;34m50\u001b[0m)             │         \u001b[38;5;34m1,050\u001b[0m │\n",
       "├─────────────────────────────────┼────────────────────────┼───────────────┤\n",
       "│ dropout_4 (\u001b[38;5;33mDropout\u001b[0m)             │ (\u001b[38;5;45mNone\u001b[0m, \u001b[38;5;34m50\u001b[0m)             │             \u001b[38;5;34m0\u001b[0m │\n",
       "├─────────────────────────────────┼────────────────────────┼───────────────┤\n",
       "│ dense_19 (\u001b[38;5;33mDense\u001b[0m)                │ (\u001b[38;5;45mNone\u001b[0m, \u001b[38;5;34m200\u001b[0m)            │        \u001b[38;5;34m10,200\u001b[0m │\n",
       "├─────────────────────────────────┼────────────────────────┼───────────────┤\n",
       "│ dense_20 (\u001b[38;5;33mDense\u001b[0m)                │ (\u001b[38;5;45mNone\u001b[0m, \u001b[38;5;34m200\u001b[0m)            │        \u001b[38;5;34m40,200\u001b[0m │\n",
       "├─────────────────────────────────┼────────────────────────┼───────────────┤\n",
       "│ dense_21 (\u001b[38;5;33mDense\u001b[0m)                │ (\u001b[38;5;45mNone\u001b[0m, \u001b[38;5;34m200\u001b[0m)            │        \u001b[38;5;34m40,200\u001b[0m │\n",
       "├─────────────────────────────────┼────────────────────────┼───────────────┤\n",
       "│ dense_22 (\u001b[38;5;33mDense\u001b[0m)                │ (\u001b[38;5;45mNone\u001b[0m, \u001b[38;5;34m200\u001b[0m)            │        \u001b[38;5;34m40,200\u001b[0m │\n",
       "├─────────────────────────────────┼────────────────────────┼───────────────┤\n",
       "│ dense_23 (\u001b[38;5;33mDense\u001b[0m)                │ (\u001b[38;5;45mNone\u001b[0m, \u001b[38;5;34m30\u001b[0m)             │         \u001b[38;5;34m6,030\u001b[0m │\n",
       "└─────────────────────────────────┴────────────────────────┴───────────────┘\n"
      ]
     },
     "metadata": {},
     "output_type": "display_data"
    },
    {
     "data": {
      "text/html": [
       "<pre style=\"white-space:pre;overflow-x:auto;line-height:normal;font-family:Menlo,'DejaVu Sans Mono',consolas,'Courier New',monospace\"><span style=\"font-weight: bold\"> Total params: </span><span style=\"color: #00af00; text-decoration-color: #00af00\">137,880</span> (538.59 KB)\n",
       "</pre>\n"
      ],
      "text/plain": [
       "\u001b[1m Total params: \u001b[0m\u001b[38;5;34m137,880\u001b[0m (538.59 KB)\n"
      ]
     },
     "metadata": {},
     "output_type": "display_data"
    },
    {
     "data": {
      "text/html": [
       "<pre style=\"white-space:pre;overflow-x:auto;line-height:normal;font-family:Menlo,'DejaVu Sans Mono',consolas,'Courier New',monospace\"><span style=\"font-weight: bold\"> Trainable params: </span><span style=\"color: #00af00; text-decoration-color: #00af00\">137,880</span> (538.59 KB)\n",
       "</pre>\n"
      ],
      "text/plain": [
       "\u001b[1m Trainable params: \u001b[0m\u001b[38;5;34m137,880\u001b[0m (538.59 KB)\n"
      ]
     },
     "metadata": {},
     "output_type": "display_data"
    },
    {
     "data": {
      "text/html": [
       "<pre style=\"white-space:pre;overflow-x:auto;line-height:normal;font-family:Menlo,'DejaVu Sans Mono',consolas,'Courier New',monospace\"><span style=\"font-weight: bold\"> Non-trainable params: </span><span style=\"color: #00af00; text-decoration-color: #00af00\">0</span> (0.00 B)\n",
       "</pre>\n"
      ],
      "text/plain": [
       "\u001b[1m Non-trainable params: \u001b[0m\u001b[38;5;34m0\u001b[0m (0.00 B)\n"
      ]
     },
     "metadata": {},
     "output_type": "display_data"
    },
    {
     "name": "stdout",
     "output_type": "stream",
     "text": [
      "Epoch 1/100\n",
      "\u001b[1m78/87\u001b[0m \u001b[32m━━━━━━━━━━━━━━━━━\u001b[0m\u001b[37m━━━\u001b[0m \u001b[1m0s\u001b[0m 2ms/step - loss: 0.3729 - mean_absolute_error: 0.3729\n",
      "Epoch 1: val_mean_absolute_error improved from inf to 0.10739, saving model to best_model_manual_tuning.keras\n",
      "\u001b[1m87/87\u001b[0m \u001b[32m━━━━━━━━━━━━━━━━━━━━\u001b[0m\u001b[37m\u001b[0m \u001b[1m2s\u001b[0m 4ms/step - loss: 0.3557 - mean_absolute_error: 0.3557 - val_loss: 0.1074 - val_mean_absolute_error: 0.1074\n",
      "Epoch 2/100\n",
      "\u001b[1m65/87\u001b[0m \u001b[32m━━━━━━━━━━━━━━\u001b[0m\u001b[37m━━━━━━\u001b[0m \u001b[1m0s\u001b[0m 2ms/step - loss: 0.1133 - mean_absolute_error: 0.1133\n",
      "Epoch 2: val_mean_absolute_error did not improve from 0.10739\n",
      "\u001b[1m87/87\u001b[0m \u001b[32m━━━━━━━━━━━━━━━━━━━━\u001b[0m\u001b[37m\u001b[0m \u001b[1m0s\u001b[0m 2ms/step - loss: 0.1127 - mean_absolute_error: 0.1127 - val_loss: 0.1074 - val_mean_absolute_error: 0.1074\n",
      "Epoch 3/100\n",
      "\u001b[1m70/87\u001b[0m \u001b[32m━━━━━━━━━━━━━━━━\u001b[0m\u001b[37m━━━━\u001b[0m \u001b[1m0s\u001b[0m 2ms/step - loss: 0.1077 - mean_absolute_error: 0.1077\n",
      "Epoch 3: val_mean_absolute_error improved from 0.10739 to 0.10410, saving model to best_model_manual_tuning.keras\n",
      "\u001b[1m87/87\u001b[0m \u001b[32m━━━━━━━━━━━━━━━━━━━━\u001b[0m\u001b[37m\u001b[0m \u001b[1m0s\u001b[0m 3ms/step - loss: 0.1076 - mean_absolute_error: 0.1076 - val_loss: 0.1041 - val_mean_absolute_error: 0.1041\n",
      "Epoch 4/100\n",
      "\u001b[1m66/87\u001b[0m \u001b[32m━━━━━━━━━━━━━━━\u001b[0m\u001b[37m━━━━━\u001b[0m \u001b[1m0s\u001b[0m 2ms/step - loss: 0.1076 - mean_absolute_error: 0.1076\n",
      "Epoch 4: val_mean_absolute_error did not improve from 0.10410\n",
      "\u001b[1m87/87\u001b[0m \u001b[32m━━━━━━━━━━━━━━━━━━━━\u001b[0m\u001b[37m\u001b[0m \u001b[1m0s\u001b[0m 3ms/step - loss: 0.1067 - mean_absolute_error: 0.1067 - val_loss: 0.1181 - val_mean_absolute_error: 0.1181\n",
      "Epoch 5/100\n",
      "\u001b[1m75/87\u001b[0m \u001b[32m━━━━━━━━━━━━━━━━━\u001b[0m\u001b[37m━━━\u001b[0m \u001b[1m0s\u001b[0m 2ms/step - loss: 0.1079 - mean_absolute_error: 0.1079\n",
      "Epoch 5: val_mean_absolute_error did not improve from 0.10410\n",
      "\u001b[1m87/87\u001b[0m \u001b[32m━━━━━━━━━━━━━━━━━━━━\u001b[0m\u001b[37m\u001b[0m \u001b[1m0s\u001b[0m 3ms/step - loss: 0.1070 - mean_absolute_error: 0.1070 - val_loss: 0.1059 - val_mean_absolute_error: 0.1059\n",
      "Epoch 6/100\n",
      "\u001b[1m72/87\u001b[0m \u001b[32m━━━━━━━━━━━━━━━━\u001b[0m\u001b[37m━━━━\u001b[0m \u001b[1m0s\u001b[0m 2ms/step - loss: 0.0886 - mean_absolute_error: 0.0886\n",
      "Epoch 6: val_mean_absolute_error improved from 0.10410 to 0.06490, saving model to best_model_manual_tuning.keras\n",
      "\u001b[1m87/87\u001b[0m \u001b[32m━━━━━━━━━━━━━━━━━━━━\u001b[0m\u001b[37m\u001b[0m \u001b[1m0s\u001b[0m 3ms/step - loss: 0.0877 - mean_absolute_error: 0.0877 - val_loss: 0.0649 - val_mean_absolute_error: 0.0649\n",
      "Epoch 7/100\n",
      "\u001b[1m71/87\u001b[0m \u001b[32m━━━━━━━━━━━━━━━━\u001b[0m\u001b[37m━━━━\u001b[0m \u001b[1m0s\u001b[0m 2ms/step - loss: 0.0695 - mean_absolute_error: 0.0695\n",
      "Epoch 7: val_mean_absolute_error improved from 0.06490 to 0.05401, saving model to best_model_manual_tuning.keras\n",
      "\u001b[1m87/87\u001b[0m \u001b[32m━━━━━━━━━━━━━━━━━━━━\u001b[0m\u001b[37m\u001b[0m \u001b[1m0s\u001b[0m 3ms/step - loss: 0.0690 - mean_absolute_error: 0.0690 - val_loss: 0.0540 - val_mean_absolute_error: 0.0540\n",
      "Epoch 8/100\n",
      "\u001b[1m70/87\u001b[0m \u001b[32m━━━━━━━━━━━━━━━━\u001b[0m\u001b[37m━━━━\u001b[0m \u001b[1m0s\u001b[0m 2ms/step - loss: 0.0601 - mean_absolute_error: 0.0601\n",
      "Epoch 8: val_mean_absolute_error did not improve from 0.05401\n",
      "\u001b[1m87/87\u001b[0m \u001b[32m━━━━━━━━━━━━━━━━━━━━\u001b[0m\u001b[37m\u001b[0m \u001b[1m0s\u001b[0m 3ms/step - loss: 0.0599 - mean_absolute_error: 0.0599 - val_loss: 0.0573 - val_mean_absolute_error: 0.0573\n",
      "Epoch 9/100\n",
      "\u001b[1m68/87\u001b[0m \u001b[32m━━━━━━━━━━━━━━━\u001b[0m\u001b[37m━━━━━\u001b[0m \u001b[1m0s\u001b[0m 2ms/step - loss: 0.0548 - mean_absolute_error: 0.0548\n",
      "Epoch 9: val_mean_absolute_error did not improve from 0.05401\n",
      "\u001b[1m87/87\u001b[0m \u001b[32m━━━━━━━━━━━━━━━━━━━━\u001b[0m\u001b[37m\u001b[0m \u001b[1m0s\u001b[0m 3ms/step - loss: 0.0555 - mean_absolute_error: 0.0555 - val_loss: 0.0637 - val_mean_absolute_error: 0.0637\n",
      "Epoch 10/100\n",
      "\u001b[1m70/87\u001b[0m \u001b[32m━━━━━━━━━━━━━━━━\u001b[0m\u001b[37m━━━━\u001b[0m \u001b[1m0s\u001b[0m 2ms/step - loss: 0.0525 - mean_absolute_error: 0.0525\n",
      "Epoch 10: val_mean_absolute_error improved from 0.05401 to 0.04693, saving model to best_model_manual_tuning.keras\n",
      "\u001b[1m87/87\u001b[0m \u001b[32m━━━━━━━━━━━━━━━━━━━━\u001b[0m\u001b[37m\u001b[0m \u001b[1m0s\u001b[0m 3ms/step - loss: 0.0525 - mean_absolute_error: 0.0525 - val_loss: 0.0469 - val_mean_absolute_error: 0.0469\n",
      "Epoch 11/100\n",
      "\u001b[1m71/87\u001b[0m \u001b[32m━━━━━━━━━━━━━━━━\u001b[0m\u001b[37m━━━━\u001b[0m \u001b[1m0s\u001b[0m 2ms/step - loss: 0.0479 - mean_absolute_error: 0.0479\n",
      "Epoch 11: val_mean_absolute_error did not improve from 0.04693\n",
      "\u001b[1m87/87\u001b[0m \u001b[32m━━━━━━━━━━━━━━━━━━━━\u001b[0m\u001b[37m\u001b[0m \u001b[1m0s\u001b[0m 3ms/step - loss: 0.0478 - mean_absolute_error: 0.0478 - val_loss: 0.0499 - val_mean_absolute_error: 0.0499\n",
      "Epoch 12/100\n",
      "\u001b[1m72/87\u001b[0m \u001b[32m━━━━━━━━━━━━━━━━\u001b[0m\u001b[37m━━━━\u001b[0m \u001b[1m0s\u001b[0m 2ms/step - loss: 0.0449 - mean_absolute_error: 0.0449\n",
      "Epoch 12: val_mean_absolute_error improved from 0.04693 to 0.04289, saving model to best_model_manual_tuning.keras\n",
      "\u001b[1m87/87\u001b[0m \u001b[32m━━━━━━━━━━━━━━━━━━━━\u001b[0m\u001b[37m\u001b[0m \u001b[1m0s\u001b[0m 3ms/step - loss: 0.0453 - mean_absolute_error: 0.0453 - val_loss: 0.0429 - val_mean_absolute_error: 0.0429\n",
      "Epoch 13/100\n",
      "\u001b[1m84/87\u001b[0m \u001b[32m━━━━━━━━━━━━━━━━━━━\u001b[0m\u001b[37m━\u001b[0m \u001b[1m0s\u001b[0m 2ms/step - loss: 0.0458 - mean_absolute_error: 0.0458\n",
      "Epoch 13: val_mean_absolute_error improved from 0.04289 to 0.03791, saving model to best_model_manual_tuning.keras\n",
      "\u001b[1m87/87\u001b[0m \u001b[32m━━━━━━━━━━━━━━━━━━━━\u001b[0m\u001b[37m\u001b[0m \u001b[1m0s\u001b[0m 3ms/step - loss: 0.0457 - mean_absolute_error: 0.0457 - val_loss: 0.0379 - val_mean_absolute_error: 0.0379\n",
      "Epoch 14/100\n",
      "\u001b[1m62/87\u001b[0m \u001b[32m━━━━━━━━━━━━━━\u001b[0m\u001b[37m━━━━━━\u001b[0m \u001b[1m0s\u001b[0m 2ms/step - loss: 0.0445 - mean_absolute_error: 0.0445\n",
      "Epoch 14: val_mean_absolute_error improved from 0.03791 to 0.03559, saving model to best_model_manual_tuning.keras\n",
      "\u001b[1m87/87\u001b[0m \u001b[32m━━━━━━━━━━━━━━━━━━━━\u001b[0m\u001b[37m\u001b[0m \u001b[1m0s\u001b[0m 2ms/step - loss: 0.0438 - mean_absolute_error: 0.0438 - val_loss: 0.0356 - val_mean_absolute_error: 0.0356\n",
      "Epoch 15/100\n",
      "\u001b[1m59/87\u001b[0m \u001b[32m━━━━━━━━━━━━━\u001b[0m\u001b[37m━━━━━━━\u001b[0m \u001b[1m0s\u001b[0m 2ms/step - loss: 0.0387 - mean_absolute_error: 0.0387\n",
      "Epoch 15: val_mean_absolute_error did not improve from 0.03559\n",
      "\u001b[1m87/87\u001b[0m \u001b[32m━━━━━━━━━━━━━━━━━━━━\u001b[0m\u001b[37m\u001b[0m \u001b[1m0s\u001b[0m 2ms/step - loss: 0.0390 - mean_absolute_error: 0.0390 - val_loss: 0.0572 - val_mean_absolute_error: 0.0572\n",
      "Epoch 16/100\n",
      "\u001b[1m62/87\u001b[0m \u001b[32m━━━━━━━━━━━━━━\u001b[0m\u001b[37m━━━━━━\u001b[0m \u001b[1m0s\u001b[0m 2ms/step - loss: 0.0377 - mean_absolute_error: 0.0377\n",
      "Epoch 16: val_mean_absolute_error did not improve from 0.03559\n",
      "\u001b[1m87/87\u001b[0m \u001b[32m━━━━━━━━━━━━━━━━━━━━\u001b[0m\u001b[37m\u001b[0m \u001b[1m0s\u001b[0m 2ms/step - loss: 0.0377 - mean_absolute_error: 0.0377 - val_loss: 0.0608 - val_mean_absolute_error: 0.0608\n",
      "Epoch 17/100\n",
      "\u001b[1m59/87\u001b[0m \u001b[32m━━━━━━━━━━━━━\u001b[0m\u001b[37m━━━━━━━\u001b[0m \u001b[1m0s\u001b[0m 2ms/step - loss: 0.0360 - mean_absolute_error: 0.0360\n",
      "Epoch 17: val_mean_absolute_error improved from 0.03559 to 0.03001, saving model to best_model_manual_tuning.keras\n",
      "\u001b[1m87/87\u001b[0m \u001b[32m━━━━━━━━━━━━━━━━━━━━\u001b[0m\u001b[37m\u001b[0m \u001b[1m0s\u001b[0m 2ms/step - loss: 0.0363 - mean_absolute_error: 0.0363 - val_loss: 0.0300 - val_mean_absolute_error: 0.0300\n",
      "Epoch 18/100\n",
      "\u001b[1m61/87\u001b[0m \u001b[32m━━━━━━━━━━━━━━\u001b[0m\u001b[37m━━━━━━\u001b[0m \u001b[1m0s\u001b[0m 2ms/step - loss: 0.0347 - mean_absolute_error: 0.0347\n",
      "Epoch 18: val_mean_absolute_error did not improve from 0.03001\n",
      "\u001b[1m87/87\u001b[0m \u001b[32m━━━━━━━━━━━━━━━━━━━━\u001b[0m\u001b[37m\u001b[0m \u001b[1m0s\u001b[0m 2ms/step - loss: 0.0344 - mean_absolute_error: 0.0344 - val_loss: 0.0412 - val_mean_absolute_error: 0.0412\n",
      "Epoch 19/100\n",
      "\u001b[1m61/87\u001b[0m \u001b[32m━━━━━━━━━━━━━━\u001b[0m\u001b[37m━━━━━━\u001b[0m \u001b[1m0s\u001b[0m 2ms/step - loss: 0.0354 - mean_absolute_error: 0.0354\n",
      "Epoch 19: val_mean_absolute_error did not improve from 0.03001\n",
      "\u001b[1m87/87\u001b[0m \u001b[32m━━━━━━━━━━━━━━━━━━━━\u001b[0m\u001b[37m\u001b[0m \u001b[1m0s\u001b[0m 2ms/step - loss: 0.0352 - mean_absolute_error: 0.0352 - val_loss: 0.0372 - val_mean_absolute_error: 0.0372\n",
      "Epoch 20/100\n",
      "\u001b[1m60/87\u001b[0m \u001b[32m━━━━━━━━━━━━━\u001b[0m\u001b[37m━━━━━━━\u001b[0m \u001b[1m0s\u001b[0m 2ms/step - loss: 0.0329 - mean_absolute_error: 0.0329\n",
      "Epoch 20: val_mean_absolute_error did not improve from 0.03001\n",
      "\u001b[1m87/87\u001b[0m \u001b[32m━━━━━━━━━━━━━━━━━━━━\u001b[0m\u001b[37m\u001b[0m \u001b[1m0s\u001b[0m 2ms/step - loss: 0.0328 - mean_absolute_error: 0.0328 - val_loss: 0.0388 - val_mean_absolute_error: 0.0388\n",
      "Epoch 21/100\n",
      "\u001b[1m55/87\u001b[0m \u001b[32m━━━━━━━━━━━━\u001b[0m\u001b[37m━━━━━━━━\u001b[0m \u001b[1m0s\u001b[0m 2ms/step - loss: 0.0324 - mean_absolute_error: 0.0324\n",
      "Epoch 21: val_mean_absolute_error did not improve from 0.03001\n",
      "\u001b[1m87/87\u001b[0m \u001b[32m━━━━━━━━━━━━━━━━━━━━\u001b[0m\u001b[37m\u001b[0m \u001b[1m0s\u001b[0m 2ms/step - loss: 0.0323 - mean_absolute_error: 0.0323 - val_loss: 0.0456 - val_mean_absolute_error: 0.0456\n",
      "Epoch 22/100\n",
      "\u001b[1m59/87\u001b[0m \u001b[32m━━━━━━━━━━━━━\u001b[0m\u001b[37m━━━━━━━\u001b[0m \u001b[1m0s\u001b[0m 2ms/step - loss: 0.0316 - mean_absolute_error: 0.0316\n",
      "Epoch 22: val_mean_absolute_error did not improve from 0.03001\n",
      "\u001b[1m87/87\u001b[0m \u001b[32m━━━━━━━━━━━━━━━━━━━━\u001b[0m\u001b[37m\u001b[0m \u001b[1m0s\u001b[0m 2ms/step - loss: 0.0314 - mean_absolute_error: 0.0314 - val_loss: 0.0418 - val_mean_absolute_error: 0.0418\n",
      "Epoch 23/100\n",
      "\u001b[1m87/87\u001b[0m \u001b[32m━━━━━━━━━━━━━━━━━━━━\u001b[0m\u001b[37m\u001b[0m \u001b[1m0s\u001b[0m 2ms/step - loss: 0.0314 - mean_absolute_error: 0.0314\n",
      "Epoch 23: val_mean_absolute_error did not improve from 0.03001\n",
      "\u001b[1m87/87\u001b[0m \u001b[32m━━━━━━━━━━━━━━━━━━━━\u001b[0m\u001b[37m\u001b[0m \u001b[1m0s\u001b[0m 2ms/step - loss: 0.0314 - mean_absolute_error: 0.0314 - val_loss: 0.0434 - val_mean_absolute_error: 0.0434\n",
      "Epoch 24/100\n",
      "\u001b[1m68/87\u001b[0m \u001b[32m━━━━━━━━━━━━━━━\u001b[0m\u001b[37m━━━━━\u001b[0m \u001b[1m0s\u001b[0m 1ms/step - loss: 0.0308 - mean_absolute_error: 0.0308\n",
      "Epoch 24: val_mean_absolute_error did not improve from 0.03001\n",
      "\u001b[1m87/87\u001b[0m \u001b[32m━━━━━━━━━━━━━━━━━━━━\u001b[0m\u001b[37m\u001b[0m \u001b[1m0s\u001b[0m 2ms/step - loss: 0.0309 - mean_absolute_error: 0.0309 - val_loss: 0.0383 - val_mean_absolute_error: 0.0383\n",
      "Epoch 25/100\n",
      "\u001b[1m72/87\u001b[0m \u001b[32m━━━━━━━━━━━━━━━━\u001b[0m\u001b[37m━━━━\u001b[0m \u001b[1m0s\u001b[0m 2ms/step - loss: 0.0300 - mean_absolute_error: 0.0300\n",
      "Epoch 25: val_mean_absolute_error did not improve from 0.03001\n",
      "\u001b[1m87/87\u001b[0m \u001b[32m━━━━━━━━━━━━━━━━━━━━\u001b[0m\u001b[37m\u001b[0m \u001b[1m0s\u001b[0m 3ms/step - loss: 0.0299 - mean_absolute_error: 0.0299 - val_loss: 0.0374 - val_mean_absolute_error: 0.0374\n",
      "Epoch 26/100\n",
      "\u001b[1m67/87\u001b[0m \u001b[32m━━━━━━━━━━━━━━━\u001b[0m\u001b[37m━━━━━\u001b[0m \u001b[1m0s\u001b[0m 2ms/step - loss: 0.0276 - mean_absolute_error: 0.0276\n",
      "Epoch 26: val_mean_absolute_error did not improve from 0.03001\n",
      "\u001b[1m87/87\u001b[0m \u001b[32m━━━━━━━━━━━━━━━━━━━━\u001b[0m\u001b[37m\u001b[0m \u001b[1m0s\u001b[0m 2ms/step - loss: 0.0278 - mean_absolute_error: 0.0278 - val_loss: 0.0361 - val_mean_absolute_error: 0.0361\n",
      "Epoch 27/100\n",
      "\u001b[1m58/87\u001b[0m \u001b[32m━━━━━━━━━━━━━\u001b[0m\u001b[37m━━━━━━━\u001b[0m \u001b[1m0s\u001b[0m 2ms/step - loss: 0.0282 - mean_absolute_error: 0.0282\n",
      "Epoch 27: val_mean_absolute_error did not improve from 0.03001\n",
      "\u001b[1m87/87\u001b[0m \u001b[32m━━━━━━━━━━━━━━━━━━━━\u001b[0m\u001b[37m\u001b[0m \u001b[1m0s\u001b[0m 2ms/step - loss: 0.0280 - mean_absolute_error: 0.0280 - val_loss: 0.0531 - val_mean_absolute_error: 0.0531\n",
      "Epoch 28/100\n",
      "\u001b[1m61/87\u001b[0m \u001b[32m━━━━━━━━━━━━━━\u001b[0m\u001b[37m━━━━━━\u001b[0m \u001b[1m0s\u001b[0m 2ms/step - loss: 0.0279 - mean_absolute_error: 0.0279\n",
      "Epoch 28: val_mean_absolute_error did not improve from 0.03001\n",
      "\u001b[1m87/87\u001b[0m \u001b[32m━━━━━━━━━━━━━━━━━━━━\u001b[0m\u001b[37m\u001b[0m \u001b[1m0s\u001b[0m 2ms/step - loss: 0.0279 - mean_absolute_error: 0.0279 - val_loss: 0.0444 - val_mean_absolute_error: 0.0444\n",
      "Epoch 29/100\n",
      "\u001b[1m62/87\u001b[0m \u001b[32m━━━━━━━━━━━━━━\u001b[0m\u001b[37m━━━━━━\u001b[0m \u001b[1m0s\u001b[0m 2ms/step - loss: 0.0304 - mean_absolute_error: 0.0304\n",
      "Epoch 29: val_mean_absolute_error did not improve from 0.03001\n",
      "\u001b[1m87/87\u001b[0m \u001b[32m━━━━━━━━━━━━━━━━━━━━\u001b[0m\u001b[37m\u001b[0m \u001b[1m0s\u001b[0m 2ms/step - loss: 0.0302 - mean_absolute_error: 0.0302 - val_loss: 0.0426 - val_mean_absolute_error: 0.0426\n",
      "Epoch 30/100\n",
      "\u001b[1m79/87\u001b[0m \u001b[32m━━━━━━━━━━━━━━━━━━\u001b[0m\u001b[37m━━\u001b[0m \u001b[1m0s\u001b[0m 2ms/step - loss: 0.0255 - mean_absolute_error: 0.0255\n",
      "Epoch 30: val_mean_absolute_error did not improve from 0.03001\n",
      "\u001b[1m87/87\u001b[0m \u001b[32m━━━━━━━━━━━━━━━━━━━━\u001b[0m\u001b[37m\u001b[0m \u001b[1m0s\u001b[0m 2ms/step - loss: 0.0256 - mean_absolute_error: 0.0256 - val_loss: 0.0409 - val_mean_absolute_error: 0.0409\n",
      "Epoch 31/100\n",
      "\u001b[1m58/87\u001b[0m \u001b[32m━━━━━━━━━━━━━\u001b[0m\u001b[37m━━━━━━━\u001b[0m \u001b[1m0s\u001b[0m 2ms/step - loss: 0.0274 - mean_absolute_error: 0.0274\n",
      "Epoch 31: val_mean_absolute_error did not improve from 0.03001\n",
      "\u001b[1m87/87\u001b[0m \u001b[32m━━━━━━━━━━━━━━━━━━━━\u001b[0m\u001b[37m\u001b[0m \u001b[1m0s\u001b[0m 2ms/step - loss: 0.0276 - mean_absolute_error: 0.0276 - val_loss: 0.0346 - val_mean_absolute_error: 0.0346\n",
      "Epoch 32/100\n",
      "\u001b[1m55/87\u001b[0m \u001b[32m━━━━━━━━━━━━\u001b[0m\u001b[37m━━━━━━━━\u001b[0m \u001b[1m0s\u001b[0m 2ms/step - loss: 0.0280 - mean_absolute_error: 0.0280\n",
      "Epoch 32: val_mean_absolute_error did not improve from 0.03001\n",
      "\u001b[1m87/87\u001b[0m \u001b[32m━━━━━━━━━━━━━━━━━━━━\u001b[0m\u001b[37m\u001b[0m \u001b[1m0s\u001b[0m 2ms/step - loss: 0.0278 - mean_absolute_error: 0.0278 - val_loss: 0.0422 - val_mean_absolute_error: 0.0422\n",
      "Epoch 33/100\n",
      "\u001b[1m60/87\u001b[0m \u001b[32m━━━━━━━━━━━━━\u001b[0m\u001b[37m━━━━━━━\u001b[0m \u001b[1m0s\u001b[0m 2ms/step - loss: 0.0301 - mean_absolute_error: 0.0301\n",
      "Epoch 33: val_mean_absolute_error did not improve from 0.03001\n",
      "\u001b[1m87/87\u001b[0m \u001b[32m━━━━━━━━━━━━━━━━━━━━\u001b[0m\u001b[37m\u001b[0m \u001b[1m0s\u001b[0m 2ms/step - loss: 0.0296 - mean_absolute_error: 0.0296 - val_loss: 0.0507 - val_mean_absolute_error: 0.0507\n",
      "Epoch 34/100\n",
      "\u001b[1m58/87\u001b[0m \u001b[32m━━━━━━━━━━━━━\u001b[0m\u001b[37m━━━━━━━\u001b[0m \u001b[1m0s\u001b[0m 2ms/step - loss: 0.0250 - mean_absolute_error: 0.0250\n",
      "Epoch 34: val_mean_absolute_error did not improve from 0.03001\n",
      "\u001b[1m87/87\u001b[0m \u001b[32m━━━━━━━━━━━━━━━━━━━━\u001b[0m\u001b[37m\u001b[0m \u001b[1m0s\u001b[0m 2ms/step - loss: 0.0252 - mean_absolute_error: 0.0252 - val_loss: 0.0338 - val_mean_absolute_error: 0.0338\n",
      "Epoch 35/100\n",
      "\u001b[1m62/87\u001b[0m \u001b[32m━━━━━━━━━━━━━━\u001b[0m\u001b[37m━━━━━━\u001b[0m \u001b[1m0s\u001b[0m 2ms/step - loss: 0.0255 - mean_absolute_error: 0.0255\n",
      "Epoch 35: val_mean_absolute_error did not improve from 0.03001\n",
      "\u001b[1m87/87\u001b[0m \u001b[32m━━━━━━━━━━━━━━━━━━━━\u001b[0m\u001b[37m\u001b[0m \u001b[1m0s\u001b[0m 2ms/step - loss: 0.0257 - mean_absolute_error: 0.0257 - val_loss: 0.0450 - val_mean_absolute_error: 0.0450\n",
      "Epoch 36/100\n",
      "\u001b[1m63/87\u001b[0m \u001b[32m━━━━━━━━━━━━━━\u001b[0m\u001b[37m━━━━━━\u001b[0m \u001b[1m0s\u001b[0m 2ms/step - loss: 0.0261 - mean_absolute_error: 0.0261\n",
      "Epoch 36: val_mean_absolute_error did not improve from 0.03001\n",
      "\u001b[1m87/87\u001b[0m \u001b[32m━━━━━━━━━━━━━━━━━━━━\u001b[0m\u001b[37m\u001b[0m \u001b[1m0s\u001b[0m 2ms/step - loss: 0.0260 - mean_absolute_error: 0.0260 - val_loss: 0.0387 - val_mean_absolute_error: 0.0387\n",
      "Epoch 37/100\n",
      "\u001b[1m83/87\u001b[0m \u001b[32m━━━━━━━━━━━━━━━━━━━\u001b[0m\u001b[37m━\u001b[0m \u001b[1m0s\u001b[0m 2ms/step - loss: 0.0236 - mean_absolute_error: 0.0236\n",
      "Epoch 37: val_mean_absolute_error did not improve from 0.03001\n",
      "\u001b[1m87/87\u001b[0m \u001b[32m━━━━━━━━━━━━━━━━━━━━\u001b[0m\u001b[37m\u001b[0m \u001b[1m0s\u001b[0m 2ms/step - loss: 0.0236 - mean_absolute_error: 0.0236 - val_loss: 0.0467 - val_mean_absolute_error: 0.0467\n",
      "Epoch 38/100\n",
      "\u001b[1m61/87\u001b[0m \u001b[32m━━━━━━━━━━━━━━\u001b[0m\u001b[37m━━━━━━\u001b[0m \u001b[1m0s\u001b[0m 2ms/step - loss: 0.0223 - mean_absolute_error: 0.0223\n",
      "Epoch 38: val_mean_absolute_error did not improve from 0.03001\n",
      "\u001b[1m87/87\u001b[0m \u001b[32m━━━━━━━━━━━━━━━━━━━━\u001b[0m\u001b[37m\u001b[0m \u001b[1m0s\u001b[0m 2ms/step - loss: 0.0227 - mean_absolute_error: 0.0227 - val_loss: 0.0782 - val_mean_absolute_error: 0.0782\n",
      "Epoch 39/100\n",
      "\u001b[1m86/87\u001b[0m \u001b[32m━━━━━━━━━━━━━━━━━━━\u001b[0m\u001b[37m━\u001b[0m \u001b[1m0s\u001b[0m 2ms/step - loss: 0.0262 - mean_absolute_error: 0.0262\n",
      "Epoch 39: val_mean_absolute_error did not improve from 0.03001\n",
      "\u001b[1m87/87\u001b[0m \u001b[32m━━━━━━━━━━━━━━━━━━━━\u001b[0m\u001b[37m\u001b[0m \u001b[1m0s\u001b[0m 2ms/step - loss: 0.0261 - mean_absolute_error: 0.0261 - val_loss: 0.0380 - val_mean_absolute_error: 0.0380\n",
      "Epoch 40/100\n",
      "\u001b[1m59/87\u001b[0m \u001b[32m━━━━━━━━━━━━━\u001b[0m\u001b[37m━━━━━━━\u001b[0m \u001b[1m0s\u001b[0m 2ms/step - loss: 0.0254 - mean_absolute_error: 0.0254\n",
      "Epoch 40: val_mean_absolute_error did not improve from 0.03001\n",
      "\u001b[1m87/87\u001b[0m \u001b[32m━━━━━━━━━━━━━━━━━━━━\u001b[0m\u001b[37m\u001b[0m \u001b[1m0s\u001b[0m 2ms/step - loss: 0.0249 - mean_absolute_error: 0.0249 - val_loss: 0.0559 - val_mean_absolute_error: 0.0559\n",
      "Epoch 41/100\n",
      "\u001b[1m63/87\u001b[0m \u001b[32m━━━━━━━━━━━━━━\u001b[0m\u001b[37m━━━━━━\u001b[0m \u001b[1m0s\u001b[0m 2ms/step - loss: 0.0248 - mean_absolute_error: 0.0248\n",
      "Epoch 41: val_mean_absolute_error did not improve from 0.03001\n",
      "\u001b[1m87/87\u001b[0m \u001b[32m━━━━━━━━━━━━━━━━━━━━\u001b[0m\u001b[37m\u001b[0m \u001b[1m0s\u001b[0m 2ms/step - loss: 0.0246 - mean_absolute_error: 0.0246 - val_loss: 0.0479 - val_mean_absolute_error: 0.0479\n",
      "Epoch 42/100\n",
      "\u001b[1m56/87\u001b[0m \u001b[32m━━━━━━━━━━━━\u001b[0m\u001b[37m━━━━━━━━\u001b[0m \u001b[1m0s\u001b[0m 2ms/step - loss: 0.0231 - mean_absolute_error: 0.0231\n",
      "Epoch 42: val_mean_absolute_error did not improve from 0.03001\n",
      "\u001b[1m87/87\u001b[0m \u001b[32m━━━━━━━━━━━━━━━━━━━━\u001b[0m\u001b[37m\u001b[0m \u001b[1m0s\u001b[0m 2ms/step - loss: 0.0232 - mean_absolute_error: 0.0232 - val_loss: 0.0459 - val_mean_absolute_error: 0.0459\n",
      "Epoch 43/100\n",
      "\u001b[1m60/87\u001b[0m \u001b[32m━━━━━━━━━━━━━\u001b[0m\u001b[37m━━━━━━━\u001b[0m \u001b[1m0s\u001b[0m 2ms/step - loss: 0.0238 - mean_absolute_error: 0.0238\n",
      "Epoch 43: val_mean_absolute_error did not improve from 0.03001\n",
      "\u001b[1m87/87\u001b[0m \u001b[32m━━━━━━━━━━━━━━━━━━━━\u001b[0m\u001b[37m\u001b[0m \u001b[1m0s\u001b[0m 2ms/step - loss: 0.0239 - mean_absolute_error: 0.0239 - val_loss: 0.0466 - val_mean_absolute_error: 0.0466\n",
      "Epoch 44/100\n",
      "\u001b[1m59/87\u001b[0m \u001b[32m━━━━━━━━━━━━━\u001b[0m\u001b[37m━━━━━━━\u001b[0m \u001b[1m0s\u001b[0m 2ms/step - loss: 0.0208 - mean_absolute_error: 0.0208\n",
      "Epoch 44: val_mean_absolute_error did not improve from 0.03001\n",
      "\u001b[1m87/87\u001b[0m \u001b[32m━━━━━━━━━━━━━━━━━━━━\u001b[0m\u001b[37m\u001b[0m \u001b[1m0s\u001b[0m 2ms/step - loss: 0.0208 - mean_absolute_error: 0.0208 - val_loss: 0.0395 - val_mean_absolute_error: 0.0395\n",
      "Epoch 45/100\n",
      "\u001b[1m54/87\u001b[0m \u001b[32m━━━━━━━━━━━━\u001b[0m\u001b[37m━━━━━━━━\u001b[0m \u001b[1m0s\u001b[0m 2ms/step - loss: 0.0208 - mean_absolute_error: 0.0208\n",
      "Epoch 45: val_mean_absolute_error did not improve from 0.03001\n",
      "\u001b[1m87/87\u001b[0m \u001b[32m━━━━━━━━━━━━━━━━━━━━\u001b[0m\u001b[37m\u001b[0m \u001b[1m0s\u001b[0m 2ms/step - loss: 0.0212 - mean_absolute_error: 0.0212 - val_loss: 0.0454 - val_mean_absolute_error: 0.0454\n",
      "Epoch 46/100\n",
      "\u001b[1m80/87\u001b[0m \u001b[32m━━━━━━━━━━━━━━━━━━\u001b[0m\u001b[37m━━\u001b[0m \u001b[1m0s\u001b[0m 2ms/step - loss: 0.0233 - mean_absolute_error: 0.0233\n",
      "Epoch 46: val_mean_absolute_error did not improve from 0.03001\n",
      "\u001b[1m87/87\u001b[0m \u001b[32m━━━━━━━━━━━━━━━━━━━━\u001b[0m\u001b[37m\u001b[0m \u001b[1m0s\u001b[0m 2ms/step - loss: 0.0233 - mean_absolute_error: 0.0233 - val_loss: 0.0538 - val_mean_absolute_error: 0.0538\n",
      "Epoch 47/100\n",
      "\u001b[1m60/87\u001b[0m \u001b[32m━━━━━━━━━━━━━\u001b[0m\u001b[37m━━━━━━━\u001b[0m \u001b[1m0s\u001b[0m 2ms/step - loss: 0.0230 - mean_absolute_error: 0.0230\n",
      "Epoch 47: val_mean_absolute_error did not improve from 0.03001\n",
      "\u001b[1m87/87\u001b[0m \u001b[32m━━━━━━━━━━━━━━━━━━━━\u001b[0m\u001b[37m\u001b[0m \u001b[1m0s\u001b[0m 2ms/step - loss: 0.0229 - mean_absolute_error: 0.0229 - val_loss: 0.0457 - val_mean_absolute_error: 0.0457\n",
      "Epoch 48/100\n",
      "\u001b[1m56/87\u001b[0m \u001b[32m━━━━━━━━━━━━\u001b[0m\u001b[37m━━━━━━━━\u001b[0m \u001b[1m0s\u001b[0m 2ms/step - loss: 0.0197 - mean_absolute_error: 0.0197\n",
      "Epoch 48: val_mean_absolute_error did not improve from 0.03001\n",
      "\u001b[1m87/87\u001b[0m \u001b[32m━━━━━━━━━━━━━━━━━━━━\u001b[0m\u001b[37m\u001b[0m \u001b[1m0s\u001b[0m 2ms/step - loss: 0.0201 - mean_absolute_error: 0.0201 - val_loss: 0.0359 - val_mean_absolute_error: 0.0359\n",
      "Epoch 49/100\n",
      "\u001b[1m58/87\u001b[0m \u001b[32m━━━━━━━━━━━━━\u001b[0m\u001b[37m━━━━━━━\u001b[0m \u001b[1m0s\u001b[0m 2ms/step - loss: 0.0249 - mean_absolute_error: 0.0249\n",
      "Epoch 49: val_mean_absolute_error did not improve from 0.03001\n",
      "\u001b[1m87/87\u001b[0m \u001b[32m━━━━━━━━━━━━━━━━━━━━\u001b[0m\u001b[37m\u001b[0m \u001b[1m0s\u001b[0m 2ms/step - loss: 0.0243 - mean_absolute_error: 0.0243 - val_loss: 0.0371 - val_mean_absolute_error: 0.0371\n",
      "Epoch 50/100\n",
      "\u001b[1m61/87\u001b[0m \u001b[32m━━━━━━━━━━━━━━\u001b[0m\u001b[37m━━━━━━\u001b[0m \u001b[1m0s\u001b[0m 2ms/step - loss: 0.0209 - mean_absolute_error: 0.0209\n",
      "Epoch 50: val_mean_absolute_error did not improve from 0.03001\n",
      "\u001b[1m87/87\u001b[0m \u001b[32m━━━━━━━━━━━━━━━━━━━━\u001b[0m\u001b[37m\u001b[0m \u001b[1m0s\u001b[0m 2ms/step - loss: 0.0211 - mean_absolute_error: 0.0211 - val_loss: 0.0417 - val_mean_absolute_error: 0.0417\n",
      "Epoch 51/100\n",
      "\u001b[1m61/87\u001b[0m \u001b[32m━━━━━━━━━━━━━━\u001b[0m\u001b[37m━━━━━━\u001b[0m \u001b[1m0s\u001b[0m 2ms/step - loss: 0.0214 - mean_absolute_error: 0.0214\n",
      "Epoch 51: val_mean_absolute_error did not improve from 0.03001\n",
      "\u001b[1m87/87\u001b[0m \u001b[32m━━━━━━━━━━━━━━━━━━━━\u001b[0m\u001b[37m\u001b[0m \u001b[1m0s\u001b[0m 2ms/step - loss: 0.0214 - mean_absolute_error: 0.0214 - val_loss: 0.0429 - val_mean_absolute_error: 0.0429\n",
      "Epoch 52/100\n",
      "\u001b[1m62/87\u001b[0m \u001b[32m━━━━━━━━━━━━━━\u001b[0m\u001b[37m━━━━━━\u001b[0m \u001b[1m0s\u001b[0m 2ms/step - loss: 0.0186 - mean_absolute_error: 0.0186\n",
      "Epoch 52: val_mean_absolute_error did not improve from 0.03001\n",
      "\u001b[1m87/87\u001b[0m \u001b[32m━━━━━━━━━━━━━━━━━━━━\u001b[0m\u001b[37m\u001b[0m \u001b[1m0s\u001b[0m 2ms/step - loss: 0.0189 - mean_absolute_error: 0.0189 - val_loss: 0.0569 - val_mean_absolute_error: 0.0569\n",
      "Epoch 53/100\n",
      "\u001b[1m58/87\u001b[0m \u001b[32m━━━━━━━━━━━━━\u001b[0m\u001b[37m━━━━━━━\u001b[0m \u001b[1m0s\u001b[0m 2ms/step - loss: 0.0215 - mean_absolute_error: 0.0215\n",
      "Epoch 53: val_mean_absolute_error did not improve from 0.03001\n",
      "\u001b[1m87/87\u001b[0m \u001b[32m━━━━━━━━━━━━━━━━━━━━\u001b[0m\u001b[37m\u001b[0m \u001b[1m0s\u001b[0m 2ms/step - loss: 0.0214 - mean_absolute_error: 0.0214 - val_loss: 0.0471 - val_mean_absolute_error: 0.0471\n",
      "Epoch 54/100\n",
      "\u001b[1m60/87\u001b[0m \u001b[32m━━━━━━━━━━━━━\u001b[0m\u001b[37m━━━━━━━\u001b[0m \u001b[1m0s\u001b[0m 2ms/step - loss: 0.0229 - mean_absolute_error: 0.0229\n",
      "Epoch 54: val_mean_absolute_error did not improve from 0.03001\n",
      "\u001b[1m87/87\u001b[0m \u001b[32m━━━━━━━━━━━━━━━━━━━━\u001b[0m\u001b[37m\u001b[0m \u001b[1m0s\u001b[0m 2ms/step - loss: 0.0226 - mean_absolute_error: 0.0226 - val_loss: 0.0524 - val_mean_absolute_error: 0.0524\n",
      "Epoch 55/100\n",
      "\u001b[1m60/87\u001b[0m \u001b[32m━━━━━━━━━━━━━\u001b[0m\u001b[37m━━━━━━━\u001b[0m \u001b[1m0s\u001b[0m 2ms/step - loss: 0.0192 - mean_absolute_error: 0.0192\n",
      "Epoch 55: val_mean_absolute_error did not improve from 0.03001\n",
      "\u001b[1m87/87\u001b[0m \u001b[32m━━━━━━━━━━━━━━━━━━━━\u001b[0m\u001b[37m\u001b[0m \u001b[1m0s\u001b[0m 2ms/step - loss: 0.0194 - mean_absolute_error: 0.0194 - val_loss: 0.0339 - val_mean_absolute_error: 0.0339\n",
      "Epoch 56/100\n",
      "\u001b[1m61/87\u001b[0m \u001b[32m━━━━━━━━━━━━━━\u001b[0m\u001b[37m━━━━━━\u001b[0m \u001b[1m0s\u001b[0m 2ms/step - loss: 0.0231 - mean_absolute_error: 0.0231\n",
      "Epoch 56: val_mean_absolute_error did not improve from 0.03001\n",
      "\u001b[1m87/87\u001b[0m \u001b[32m━━━━━━━━━━━━━━━━━━━━\u001b[0m\u001b[37m\u001b[0m \u001b[1m0s\u001b[0m 2ms/step - loss: 0.0227 - mean_absolute_error: 0.0227 - val_loss: 0.0324 - val_mean_absolute_error: 0.0324\n",
      "Epoch 57/100\n",
      "\u001b[1m86/87\u001b[0m \u001b[32m━━━━━━━━━━━━━━━━━━━\u001b[0m\u001b[37m━\u001b[0m \u001b[1m0s\u001b[0m 2ms/step - loss: 0.0205 - mean_absolute_error: 0.0205\n",
      "Epoch 57: val_mean_absolute_error did not improve from 0.03001\n",
      "\u001b[1m87/87\u001b[0m \u001b[32m━━━━━━━━━━━━━━━━━━━━\u001b[0m\u001b[37m\u001b[0m \u001b[1m0s\u001b[0m 2ms/step - loss: 0.0205 - mean_absolute_error: 0.0205 - val_loss: 0.0681 - val_mean_absolute_error: 0.0681\n",
      "Epoch 58/100\n",
      "\u001b[1m61/87\u001b[0m \u001b[32m━━━━━━━━━━━━━━\u001b[0m\u001b[37m━━━━━━\u001b[0m \u001b[1m0s\u001b[0m 2ms/step - loss: 0.0207 - mean_absolute_error: 0.0207\n",
      "Epoch 58: val_mean_absolute_error did not improve from 0.03001\n",
      "\u001b[1m87/87\u001b[0m \u001b[32m━━━━━━━━━━━━━━━━━━━━\u001b[0m\u001b[37m\u001b[0m \u001b[1m0s\u001b[0m 2ms/step - loss: 0.0205 - mean_absolute_error: 0.0205 - val_loss: 0.0698 - val_mean_absolute_error: 0.0698\n",
      "Epoch 59/100\n",
      "\u001b[1m60/87\u001b[0m \u001b[32m━━━━━━━━━━━━━\u001b[0m\u001b[37m━━━━━━━\u001b[0m \u001b[1m0s\u001b[0m 2ms/step - loss: 0.0240 - mean_absolute_error: 0.0240\n",
      "Epoch 59: val_mean_absolute_error did not improve from 0.03001\n",
      "\u001b[1m87/87\u001b[0m \u001b[32m━━━━━━━━━━━━━━━━━━━━\u001b[0m\u001b[37m\u001b[0m \u001b[1m0s\u001b[0m 2ms/step - loss: 0.0234 - mean_absolute_error: 0.0234 - val_loss: 0.0511 - val_mean_absolute_error: 0.0511\n",
      "Epoch 60/100\n",
      "\u001b[1m82/87\u001b[0m \u001b[32m━━━━━━━━━━━━━━━━━━\u001b[0m\u001b[37m━━\u001b[0m \u001b[1m0s\u001b[0m 2ms/step - loss: 0.0187 - mean_absolute_error: 0.0187\n",
      "Epoch 60: val_mean_absolute_error did not improve from 0.03001\n",
      "\u001b[1m87/87\u001b[0m \u001b[32m━━━━━━━━━━━━━━━━━━━━\u001b[0m\u001b[37m\u001b[0m \u001b[1m0s\u001b[0m 2ms/step - loss: 0.0187 - mean_absolute_error: 0.0187 - val_loss: 0.0501 - val_mean_absolute_error: 0.0501\n",
      "Epoch 61/100\n",
      "\u001b[1m61/87\u001b[0m \u001b[32m━━━━━━━━━━━━━━\u001b[0m\u001b[37m━━━━━━\u001b[0m \u001b[1m0s\u001b[0m 2ms/step - loss: 0.0182 - mean_absolute_error: 0.0182\n",
      "Epoch 61: val_mean_absolute_error did not improve from 0.03001\n",
      "\u001b[1m87/87\u001b[0m \u001b[32m━━━━━━━━━━━━━━━━━━━━\u001b[0m\u001b[37m\u001b[0m \u001b[1m0s\u001b[0m 2ms/step - loss: 0.0182 - mean_absolute_error: 0.0182 - val_loss: 0.0644 - val_mean_absolute_error: 0.0644\n",
      "Epoch 62/100\n",
      "\u001b[1m59/87\u001b[0m \u001b[32m━━━━━━━━━━━━━\u001b[0m\u001b[37m━━━━━━━\u001b[0m \u001b[1m0s\u001b[0m 2ms/step - loss: 0.0219 - mean_absolute_error: 0.0219\n",
      "Epoch 62: val_mean_absolute_error did not improve from 0.03001\n",
      "\u001b[1m87/87\u001b[0m \u001b[32m━━━━━━━━━━━━━━━━━━━━\u001b[0m\u001b[37m\u001b[0m \u001b[1m0s\u001b[0m 2ms/step - loss: 0.0216 - mean_absolute_error: 0.0216 - val_loss: 0.0353 - val_mean_absolute_error: 0.0353\n",
      "Epoch 63/100\n",
      "\u001b[1m60/87\u001b[0m \u001b[32m━━━━━━━━━━━━━\u001b[0m\u001b[37m━━━━━━━\u001b[0m \u001b[1m0s\u001b[0m 2ms/step - loss: 0.0206 - mean_absolute_error: 0.0206\n",
      "Epoch 63: val_mean_absolute_error did not improve from 0.03001\n",
      "\u001b[1m87/87\u001b[0m \u001b[32m━━━━━━━━━━━━━━━━━━━━\u001b[0m\u001b[37m\u001b[0m \u001b[1m0s\u001b[0m 2ms/step - loss: 0.0205 - mean_absolute_error: 0.0205 - val_loss: 0.0491 - val_mean_absolute_error: 0.0491\n",
      "Epoch 64/100\n",
      "\u001b[1m66/87\u001b[0m \u001b[32m━━━━━━━━━━━━━━━\u001b[0m\u001b[37m━━━━━\u001b[0m \u001b[1m0s\u001b[0m 2ms/step - loss: 0.0195 - mean_absolute_error: 0.0195\n",
      "Epoch 64: val_mean_absolute_error did not improve from 0.03001\n",
      "\u001b[1m87/87\u001b[0m \u001b[32m━━━━━━━━━━━━━━━━━━━━\u001b[0m\u001b[37m\u001b[0m \u001b[1m0s\u001b[0m 2ms/step - loss: 0.0193 - mean_absolute_error: 0.0193 - val_loss: 0.0402 - val_mean_absolute_error: 0.0402\n",
      "Epoch 65/100\n",
      "\u001b[1m67/87\u001b[0m \u001b[32m━━━━━━━━━━━━━━━\u001b[0m\u001b[37m━━━━━\u001b[0m \u001b[1m0s\u001b[0m 2ms/step - loss: 0.0174 - mean_absolute_error: 0.0174\n",
      "Epoch 65: val_mean_absolute_error did not improve from 0.03001\n",
      "\u001b[1m87/87\u001b[0m \u001b[32m━━━━━━━━━━━━━━━━━━━━\u001b[0m\u001b[37m\u001b[0m \u001b[1m0s\u001b[0m 2ms/step - loss: 0.0177 - mean_absolute_error: 0.0177 - val_loss: 0.0368 - val_mean_absolute_error: 0.0368\n",
      "Epoch 66/100\n",
      "\u001b[1m69/87\u001b[0m \u001b[32m━━━━━━━━━━━━━━━\u001b[0m\u001b[37m━━━━━\u001b[0m \u001b[1m0s\u001b[0m 1ms/step - loss: 0.0212 - mean_absolute_error: 0.0212\n",
      "Epoch 66: val_mean_absolute_error did not improve from 0.03001\n",
      "\u001b[1m87/87\u001b[0m \u001b[32m━━━━━━━━━━━━━━━━━━━━\u001b[0m\u001b[37m\u001b[0m \u001b[1m0s\u001b[0m 2ms/step - loss: 0.0210 - mean_absolute_error: 0.0210 - val_loss: 0.0467 - val_mean_absolute_error: 0.0467\n",
      "Epoch 67/100\n",
      "\u001b[1m68/87\u001b[0m \u001b[32m━━━━━━━━━━━━━━━\u001b[0m\u001b[37m━━━━━\u001b[0m \u001b[1m0s\u001b[0m 2ms/step - loss: 0.0181 - mean_absolute_error: 0.0181\n",
      "Epoch 67: val_mean_absolute_error did not improve from 0.03001\n",
      "\u001b[1m87/87\u001b[0m \u001b[32m━━━━━━━━━━━━━━━━━━━━\u001b[0m\u001b[37m\u001b[0m \u001b[1m0s\u001b[0m 2ms/step - loss: 0.0184 - mean_absolute_error: 0.0184 - val_loss: 0.0523 - val_mean_absolute_error: 0.0523\n",
      "Epoch 68/100\n",
      "\u001b[1m65/87\u001b[0m \u001b[32m━━━━━━━━━━━━━━\u001b[0m\u001b[37m━━━━━━\u001b[0m \u001b[1m0s\u001b[0m 2ms/step - loss: 0.0193 - mean_absolute_error: 0.0193\n",
      "Epoch 68: val_mean_absolute_error did not improve from 0.03001\n",
      "\u001b[1m87/87\u001b[0m \u001b[32m━━━━━━━━━━━━━━━━━━━━\u001b[0m\u001b[37m\u001b[0m \u001b[1m0s\u001b[0m 2ms/step - loss: 0.0193 - mean_absolute_error: 0.0193 - val_loss: 0.0479 - val_mean_absolute_error: 0.0479\n",
      "Epoch 69/100\n",
      "\u001b[1m66/87\u001b[0m \u001b[32m━━━━━━━━━━━━━━━\u001b[0m\u001b[37m━━━━━\u001b[0m \u001b[1m0s\u001b[0m 2ms/step - loss: 0.0181 - mean_absolute_error: 0.0181\n",
      "Epoch 69: val_mean_absolute_error did not improve from 0.03001\n",
      "\u001b[1m87/87\u001b[0m \u001b[32m━━━━━━━━━━━━━━━━━━━━\u001b[0m\u001b[37m\u001b[0m \u001b[1m0s\u001b[0m 2ms/step - loss: 0.0180 - mean_absolute_error: 0.0180 - val_loss: 0.0459 - val_mean_absolute_error: 0.0459\n",
      "Epoch 70/100\n",
      "\u001b[1m68/87\u001b[0m \u001b[32m━━━━━━━━━━━━━━━\u001b[0m\u001b[37m━━━━━\u001b[0m \u001b[1m0s\u001b[0m 2ms/step - loss: 0.0217 - mean_absolute_error: 0.0217\n",
      "Epoch 70: val_mean_absolute_error did not improve from 0.03001\n",
      "\u001b[1m87/87\u001b[0m \u001b[32m━━━━━━━━━━━━━━━━━━━━\u001b[0m\u001b[37m\u001b[0m \u001b[1m0s\u001b[0m 2ms/step - loss: 0.0215 - mean_absolute_error: 0.0215 - val_loss: 0.0600 - val_mean_absolute_error: 0.0600\n",
      "Epoch 71/100\n",
      "\u001b[1m68/87\u001b[0m \u001b[32m━━━━━━━━━━━━━━━\u001b[0m\u001b[37m━━━━━\u001b[0m \u001b[1m0s\u001b[0m 2ms/step - loss: 0.0188 - mean_absolute_error: 0.0188\n",
      "Epoch 71: val_mean_absolute_error did not improve from 0.03001\n",
      "\u001b[1m87/87\u001b[0m \u001b[32m━━━━━━━━━━━━━━━━━━━━\u001b[0m\u001b[37m\u001b[0m \u001b[1m0s\u001b[0m 2ms/step - loss: 0.0188 - mean_absolute_error: 0.0188 - val_loss: 0.0420 - val_mean_absolute_error: 0.0420\n",
      "Epoch 72/100\n",
      "\u001b[1m64/87\u001b[0m \u001b[32m━━━━━━━━━━━━━━\u001b[0m\u001b[37m━━━━━━\u001b[0m \u001b[1m0s\u001b[0m 2ms/step - loss: 0.0185 - mean_absolute_error: 0.0185\n",
      "Epoch 72: val_mean_absolute_error did not improve from 0.03001\n",
      "\u001b[1m87/87\u001b[0m \u001b[32m━━━━━━━━━━━━━━━━━━━━\u001b[0m\u001b[37m\u001b[0m \u001b[1m0s\u001b[0m 2ms/step - loss: 0.0182 - mean_absolute_error: 0.0182 - val_loss: 0.0542 - val_mean_absolute_error: 0.0542\n",
      "Epoch 73/100\n",
      "\u001b[1m61/87\u001b[0m \u001b[32m━━━━━━━━━━━━━━\u001b[0m\u001b[37m━━━━━━\u001b[0m \u001b[1m0s\u001b[0m 2ms/step - loss: 0.0190 - mean_absolute_error: 0.0190\n",
      "Epoch 73: val_mean_absolute_error did not improve from 0.03001\n",
      "\u001b[1m87/87\u001b[0m \u001b[32m━━━━━━━━━━━━━━━━━━━━\u001b[0m\u001b[37m\u001b[0m \u001b[1m0s\u001b[0m 2ms/step - loss: 0.0189 - mean_absolute_error: 0.0189 - val_loss: 0.0554 - val_mean_absolute_error: 0.0554\n",
      "Epoch 74/100\n",
      "\u001b[1m66/87\u001b[0m \u001b[32m━━━━━━━━━━━━━━━\u001b[0m\u001b[37m━━━━━\u001b[0m \u001b[1m0s\u001b[0m 2ms/step - loss: 0.0179 - mean_absolute_error: 0.0179\n",
      "Epoch 74: val_mean_absolute_error did not improve from 0.03001\n",
      "\u001b[1m87/87\u001b[0m \u001b[32m━━━━━━━━━━━━━━━━━━━━\u001b[0m\u001b[37m\u001b[0m \u001b[1m0s\u001b[0m 2ms/step - loss: 0.0178 - mean_absolute_error: 0.0178 - val_loss: 0.0471 - val_mean_absolute_error: 0.0471\n",
      "Epoch 75/100\n",
      "\u001b[1m56/87\u001b[0m \u001b[32m━━━━━━━━━━━━\u001b[0m\u001b[37m━━━━━━━━\u001b[0m \u001b[1m0s\u001b[0m 2ms/step - loss: 0.0168 - mean_absolute_error: 0.0168\n",
      "Epoch 75: val_mean_absolute_error did not improve from 0.03001\n",
      "\u001b[1m87/87\u001b[0m \u001b[32m━━━━━━━━━━━━━━━━━━━━\u001b[0m\u001b[37m\u001b[0m \u001b[1m0s\u001b[0m 2ms/step - loss: 0.0172 - mean_absolute_error: 0.0172 - val_loss: 0.0412 - val_mean_absolute_error: 0.0412\n",
      "Epoch 76/100\n",
      "\u001b[1m73/87\u001b[0m \u001b[32m━━━━━━━━━━━━━━━━\u001b[0m\u001b[37m━━━━\u001b[0m \u001b[1m0s\u001b[0m 2ms/step - loss: 0.0187 - mean_absolute_error: 0.0187\n",
      "Epoch 76: val_mean_absolute_error did not improve from 0.03001\n",
      "\u001b[1m87/87\u001b[0m \u001b[32m━━━━━━━━━━━━━━━━━━━━\u001b[0m\u001b[37m\u001b[0m \u001b[1m0s\u001b[0m 3ms/step - loss: 0.0186 - mean_absolute_error: 0.0186 - val_loss: 0.0426 - val_mean_absolute_error: 0.0426\n",
      "Epoch 77/100\n",
      "\u001b[1m71/87\u001b[0m \u001b[32m━━━━━━━━━━━━━━━━\u001b[0m\u001b[37m━━━━\u001b[0m \u001b[1m0s\u001b[0m 2ms/step - loss: 0.0183 - mean_absolute_error: 0.0183\n",
      "Epoch 77: val_mean_absolute_error did not improve from 0.03001\n",
      "\u001b[1m87/87\u001b[0m \u001b[32m━━━━━━━━━━━━━━━━━━━━\u001b[0m\u001b[37m\u001b[0m \u001b[1m0s\u001b[0m 3ms/step - loss: 0.0181 - mean_absolute_error: 0.0181 - val_loss: 0.0476 - val_mean_absolute_error: 0.0476\n",
      "Epoch 78/100\n",
      "\u001b[1m67/87\u001b[0m \u001b[32m━━━━━━━━━━━━━━━\u001b[0m\u001b[37m━━━━━\u001b[0m \u001b[1m0s\u001b[0m 2ms/step - loss: 0.0188 - mean_absolute_error: 0.0188\n",
      "Epoch 78: val_mean_absolute_error did not improve from 0.03001\n",
      "\u001b[1m87/87\u001b[0m \u001b[32m━━━━━━━━━━━━━━━━━━━━\u001b[0m\u001b[37m\u001b[0m \u001b[1m0s\u001b[0m 3ms/step - loss: 0.0188 - mean_absolute_error: 0.0188 - val_loss: 0.0445 - val_mean_absolute_error: 0.0445\n",
      "Epoch 79/100\n",
      "\u001b[1m70/87\u001b[0m \u001b[32m━━━━━━━━━━━━━━━━\u001b[0m\u001b[37m━━━━\u001b[0m \u001b[1m0s\u001b[0m 2ms/step - loss: 0.0176 - mean_absolute_error: 0.0176\n",
      "Epoch 79: val_mean_absolute_error did not improve from 0.03001\n",
      "\u001b[1m87/87\u001b[0m \u001b[32m━━━━━━━━━━━━━━━━━━━━\u001b[0m\u001b[37m\u001b[0m \u001b[1m0s\u001b[0m 3ms/step - loss: 0.0179 - mean_absolute_error: 0.0179 - val_loss: 0.0454 - val_mean_absolute_error: 0.0454\n",
      "Epoch 80/100\n",
      "\u001b[1m70/87\u001b[0m \u001b[32m━━━━━━━━━━━━━━━━\u001b[0m\u001b[37m━━━━\u001b[0m \u001b[1m0s\u001b[0m 2ms/step - loss: 0.0178 - mean_absolute_error: 0.0178\n",
      "Epoch 80: val_mean_absolute_error did not improve from 0.03001\n",
      "\u001b[1m87/87\u001b[0m \u001b[32m━━━━━━━━━━━━━━━━━━━━\u001b[0m\u001b[37m\u001b[0m \u001b[1m0s\u001b[0m 3ms/step - loss: 0.0177 - mean_absolute_error: 0.0177 - val_loss: 0.0397 - val_mean_absolute_error: 0.0397\n",
      "Epoch 81/100\n",
      "\u001b[1m68/87\u001b[0m \u001b[32m━━━━━━━━━━━━━━━\u001b[0m\u001b[37m━━━━━\u001b[0m \u001b[1m0s\u001b[0m 2ms/step - loss: 0.0182 - mean_absolute_error: 0.0182\n",
      "Epoch 81: val_mean_absolute_error did not improve from 0.03001\n",
      "\u001b[1m87/87\u001b[0m \u001b[32m━━━━━━━━━━━━━━━━━━━━\u001b[0m\u001b[37m\u001b[0m \u001b[1m0s\u001b[0m 3ms/step - loss: 0.0182 - mean_absolute_error: 0.0182 - val_loss: 0.0611 - val_mean_absolute_error: 0.0611\n",
      "Epoch 82/100\n",
      "\u001b[1m73/87\u001b[0m \u001b[32m━━━━━━━━━━━━━━━━\u001b[0m\u001b[37m━━━━\u001b[0m \u001b[1m0s\u001b[0m 2ms/step - loss: 0.0185 - mean_absolute_error: 0.0185\n",
      "Epoch 82: val_mean_absolute_error did not improve from 0.03001\n",
      "\u001b[1m87/87\u001b[0m \u001b[32m━━━━━━━━━━━━━━━━━━━━\u001b[0m\u001b[37m\u001b[0m \u001b[1m0s\u001b[0m 3ms/step - loss: 0.0184 - mean_absolute_error: 0.0184 - val_loss: 0.0475 - val_mean_absolute_error: 0.0475\n",
      "Epoch 83/100\n",
      "\u001b[1m67/87\u001b[0m \u001b[32m━━━━━━━━━━━━━━━\u001b[0m\u001b[37m━━━━━\u001b[0m \u001b[1m0s\u001b[0m 2ms/step - loss: 0.0158 - mean_absolute_error: 0.0158\n",
      "Epoch 83: val_mean_absolute_error did not improve from 0.03001\n",
      "\u001b[1m87/87\u001b[0m \u001b[32m━━━━━━━━━━━━━━━━━━━━\u001b[0m\u001b[37m\u001b[0m \u001b[1m0s\u001b[0m 3ms/step - loss: 0.0160 - mean_absolute_error: 0.0160 - val_loss: 0.0402 - val_mean_absolute_error: 0.0402\n",
      "Epoch 84/100\n",
      "\u001b[1m71/87\u001b[0m \u001b[32m━━━━━━━━━━━━━━━━\u001b[0m\u001b[37m━━━━\u001b[0m \u001b[1m0s\u001b[0m 2ms/step - loss: 0.0202 - mean_absolute_error: 0.0202\n",
      "Epoch 84: val_mean_absolute_error did not improve from 0.03001\n",
      "\u001b[1m87/87\u001b[0m \u001b[32m━━━━━━━━━━━━━━━━━━━━\u001b[0m\u001b[37m\u001b[0m \u001b[1m0s\u001b[0m 3ms/step - loss: 0.0200 - mean_absolute_error: 0.0200 - val_loss: 0.0475 - val_mean_absolute_error: 0.0475\n",
      "Epoch 85/100\n",
      "\u001b[1m81/87\u001b[0m \u001b[32m━━━━━━━━━━━━━━━━━━\u001b[0m\u001b[37m━━\u001b[0m \u001b[1m0s\u001b[0m 2ms/step - loss: 0.0167 - mean_absolute_error: 0.0167\n",
      "Epoch 85: val_mean_absolute_error did not improve from 0.03001\n",
      "\u001b[1m87/87\u001b[0m \u001b[32m━━━━━━━━━━━━━━━━━━━━\u001b[0m\u001b[37m\u001b[0m \u001b[1m0s\u001b[0m 2ms/step - loss: 0.0167 - mean_absolute_error: 0.0167 - val_loss: 0.0592 - val_mean_absolute_error: 0.0592\n",
      "Epoch 86/100\n",
      "\u001b[1m66/87\u001b[0m \u001b[32m━━━━━━━━━━━━━━━\u001b[0m\u001b[37m━━━━━\u001b[0m \u001b[1m0s\u001b[0m 2ms/step - loss: 0.0172 - mean_absolute_error: 0.0172\n",
      "Epoch 86: val_mean_absolute_error did not improve from 0.03001\n",
      "\u001b[1m87/87\u001b[0m \u001b[32m━━━━━━━━━━━━━━━━━━━━\u001b[0m\u001b[37m\u001b[0m \u001b[1m0s\u001b[0m 2ms/step - loss: 0.0172 - mean_absolute_error: 0.0172 - val_loss: 0.0486 - val_mean_absolute_error: 0.0486\n",
      "Epoch 87/100\n",
      "\u001b[1m66/87\u001b[0m \u001b[32m━━━━━━━━━━━━━━━\u001b[0m\u001b[37m━━━━━\u001b[0m \u001b[1m0s\u001b[0m 2ms/step - loss: 0.0174 - mean_absolute_error: 0.0174\n",
      "Epoch 87: val_mean_absolute_error did not improve from 0.03001\n",
      "\u001b[1m87/87\u001b[0m \u001b[32m━━━━━━━━━━━━━━━━━━━━\u001b[0m\u001b[37m\u001b[0m \u001b[1m0s\u001b[0m 2ms/step - loss: 0.0173 - mean_absolute_error: 0.0173 - val_loss: 0.0612 - val_mean_absolute_error: 0.0612\n",
      "Epoch 88/100\n",
      "\u001b[1m86/87\u001b[0m \u001b[32m━━━━━━━━━━━━━━━━━━━\u001b[0m\u001b[37m━\u001b[0m \u001b[1m0s\u001b[0m 2ms/step - loss: 0.0180 - mean_absolute_error: 0.0180\n",
      "Epoch 88: val_mean_absolute_error did not improve from 0.03001\n",
      "\u001b[1m87/87\u001b[0m \u001b[32m━━━━━━━━━━━━━━━━━━━━\u001b[0m\u001b[37m\u001b[0m \u001b[1m0s\u001b[0m 2ms/step - loss: 0.0180 - mean_absolute_error: 0.0180 - val_loss: 0.0463 - val_mean_absolute_error: 0.0463\n",
      "Epoch 89/100\n",
      "\u001b[1m65/87\u001b[0m \u001b[32m━━━━━━━━━━━━━━\u001b[0m\u001b[37m━━━━━━\u001b[0m \u001b[1m0s\u001b[0m 2ms/step - loss: 0.0210 - mean_absolute_error: 0.0210\n",
      "Epoch 89: val_mean_absolute_error did not improve from 0.03001\n",
      "\u001b[1m87/87\u001b[0m \u001b[32m━━━━━━━━━━━━━━━━━━━━\u001b[0m\u001b[37m\u001b[0m \u001b[1m0s\u001b[0m 2ms/step - loss: 0.0206 - mean_absolute_error: 0.0206 - val_loss: 0.0406 - val_mean_absolute_error: 0.0406\n",
      "Epoch 90/100\n",
      "\u001b[1m66/87\u001b[0m \u001b[32m━━━━━━━━━━━━━━━\u001b[0m\u001b[37m━━━━━\u001b[0m \u001b[1m0s\u001b[0m 2ms/step - loss: 0.0177 - mean_absolute_error: 0.0177\n",
      "Epoch 90: val_mean_absolute_error did not improve from 0.03001\n",
      "\u001b[1m87/87\u001b[0m \u001b[32m━━━━━━━━━━━━━━━━━━━━\u001b[0m\u001b[37m\u001b[0m \u001b[1m0s\u001b[0m 2ms/step - loss: 0.0176 - mean_absolute_error: 0.0176 - val_loss: 0.0577 - val_mean_absolute_error: 0.0577\n",
      "Epoch 91/100\n",
      "\u001b[1m67/87\u001b[0m \u001b[32m━━━━━━━━━━━━━━━\u001b[0m\u001b[37m━━━━━\u001b[0m \u001b[1m0s\u001b[0m 2ms/step - loss: 0.0164 - mean_absolute_error: 0.0164\n",
      "Epoch 91: val_mean_absolute_error did not improve from 0.03001\n",
      "\u001b[1m87/87\u001b[0m \u001b[32m━━━━━━━━━━━━━━━━━━━━\u001b[0m\u001b[37m\u001b[0m \u001b[1m0s\u001b[0m 2ms/step - loss: 0.0165 - mean_absolute_error: 0.0165 - val_loss: 0.0612 - val_mean_absolute_error: 0.0612\n",
      "Epoch 92/100\n",
      "\u001b[1m66/87\u001b[0m \u001b[32m━━━━━━━━━━━━━━━\u001b[0m\u001b[37m━━━━━\u001b[0m \u001b[1m0s\u001b[0m 2ms/step - loss: 0.0176 - mean_absolute_error: 0.0176\n",
      "Epoch 92: val_mean_absolute_error did not improve from 0.03001\n",
      "\u001b[1m87/87\u001b[0m \u001b[32m━━━━━━━━━━━━━━━━━━━━\u001b[0m\u001b[37m\u001b[0m \u001b[1m0s\u001b[0m 2ms/step - loss: 0.0174 - mean_absolute_error: 0.0174 - val_loss: 0.0454 - val_mean_absolute_error: 0.0454\n",
      "Epoch 93/100\n",
      "\u001b[1m67/87\u001b[0m \u001b[32m━━━━━━━━━━━━━━━\u001b[0m\u001b[37m━━━━━\u001b[0m \u001b[1m0s\u001b[0m 2ms/step - loss: 0.0172 - mean_absolute_error: 0.0172\n",
      "Epoch 93: val_mean_absolute_error did not improve from 0.03001\n",
      "\u001b[1m87/87\u001b[0m \u001b[32m━━━━━━━━━━━━━━━━━━━━\u001b[0m\u001b[37m\u001b[0m \u001b[1m0s\u001b[0m 2ms/step - loss: 0.0170 - mean_absolute_error: 0.0170 - val_loss: 0.0396 - val_mean_absolute_error: 0.0396\n",
      "Epoch 94/100\n",
      "\u001b[1m69/87\u001b[0m \u001b[32m━━━━━━━━━━━━━━━\u001b[0m\u001b[37m━━━━━\u001b[0m \u001b[1m0s\u001b[0m 1ms/step - loss: 0.0178 - mean_absolute_error: 0.0178\n",
      "Epoch 94: val_mean_absolute_error did not improve from 0.03001\n",
      "\u001b[1m87/87\u001b[0m \u001b[32m━━━━━━━━━━━━━━━━━━━━\u001b[0m\u001b[37m\u001b[0m \u001b[1m0s\u001b[0m 2ms/step - loss: 0.0177 - mean_absolute_error: 0.0177 - val_loss: 0.0606 - val_mean_absolute_error: 0.0606\n",
      "Epoch 95/100\n",
      "\u001b[1m84/87\u001b[0m \u001b[32m━━━━━━━━━━━━━━━━━━━\u001b[0m\u001b[37m━\u001b[0m \u001b[1m0s\u001b[0m 2ms/step - loss: 0.0164 - mean_absolute_error: 0.0164\n",
      "Epoch 95: val_mean_absolute_error did not improve from 0.03001\n",
      "\u001b[1m87/87\u001b[0m \u001b[32m━━━━━━━━━━━━━━━━━━━━\u001b[0m\u001b[37m\u001b[0m \u001b[1m0s\u001b[0m 2ms/step - loss: 0.0165 - mean_absolute_error: 0.0165 - val_loss: 0.0479 - val_mean_absolute_error: 0.0479\n",
      "Epoch 96/100\n",
      "\u001b[1m68/87\u001b[0m \u001b[32m━━━━━━━━━━━━━━━\u001b[0m\u001b[37m━━━━━\u001b[0m \u001b[1m0s\u001b[0m 2ms/step - loss: 0.0157 - mean_absolute_error: 0.0157\n",
      "Epoch 96: val_mean_absolute_error did not improve from 0.03001\n",
      "\u001b[1m87/87\u001b[0m \u001b[32m━━━━━━━━━━━━━━━━━━━━\u001b[0m\u001b[37m\u001b[0m \u001b[1m0s\u001b[0m 2ms/step - loss: 0.0158 - mean_absolute_error: 0.0158 - val_loss: 0.0537 - val_mean_absolute_error: 0.0537\n",
      "Epoch 97/100\n",
      "\u001b[1m66/87\u001b[0m \u001b[32m━━━━━━━━━━━━━━━\u001b[0m\u001b[37m━━━━━\u001b[0m \u001b[1m0s\u001b[0m 2ms/step - loss: 0.0144 - mean_absolute_error: 0.0144\n",
      "Epoch 97: val_mean_absolute_error did not improve from 0.03001\n",
      "\u001b[1m87/87\u001b[0m \u001b[32m━━━━━━━━━━━━━━━━━━━━\u001b[0m\u001b[37m\u001b[0m \u001b[1m0s\u001b[0m 2ms/step - loss: 0.0146 - mean_absolute_error: 0.0146 - val_loss: 0.0529 - val_mean_absolute_error: 0.0529\n",
      "Epoch 98/100\n",
      "\u001b[1m87/87\u001b[0m \u001b[32m━━━━━━━━━━━━━━━━━━━━\u001b[0m\u001b[37m\u001b[0m \u001b[1m0s\u001b[0m 2ms/step - loss: 0.0170 - mean_absolute_error: 0.0170\n",
      "Epoch 98: val_mean_absolute_error did not improve from 0.03001\n",
      "\u001b[1m87/87\u001b[0m \u001b[32m━━━━━━━━━━━━━━━━━━━━\u001b[0m\u001b[37m\u001b[0m \u001b[1m0s\u001b[0m 2ms/step - loss: 0.0170 - mean_absolute_error: 0.0170 - val_loss: 0.0470 - val_mean_absolute_error: 0.0470\n",
      "Epoch 99/100\n",
      "\u001b[1m64/87\u001b[0m \u001b[32m━━━━━━━━━━━━━━\u001b[0m\u001b[37m━━━━━━\u001b[0m \u001b[1m0s\u001b[0m 2ms/step - loss: 0.0164 - mean_absolute_error: 0.0164\n",
      "Epoch 99: val_mean_absolute_error did not improve from 0.03001\n",
      "\u001b[1m87/87\u001b[0m \u001b[32m━━━━━━━━━━━━━━━━━━━━\u001b[0m\u001b[37m\u001b[0m \u001b[1m0s\u001b[0m 2ms/step - loss: 0.0164 - mean_absolute_error: 0.0164 - val_loss: 0.0574 - val_mean_absolute_error: 0.0574\n",
      "Epoch 100/100\n",
      "\u001b[1m65/87\u001b[0m \u001b[32m━━━━━━━━━━━━━━\u001b[0m\u001b[37m━━━━━━\u001b[0m \u001b[1m0s\u001b[0m 2ms/step - loss: 0.0167 - mean_absolute_error: 0.0167\n",
      "Epoch 100: val_mean_absolute_error did not improve from 0.03001\n",
      "\u001b[1m87/87\u001b[0m \u001b[32m━━━━━━━━━━━━━━━━━━━━\u001b[0m\u001b[37m\u001b[0m \u001b[1m0s\u001b[0m 2ms/step - loss: 0.0165 - mean_absolute_error: 0.0165 - val_loss: 0.0378 - val_mean_absolute_error: 0.0378\n"
     ]
    }
   ],
   "source": [
    "import numpy as np\n",
    "import pandas as pd\n",
    "import matplotlib.pyplot as plt\n",
    "import cv2  #for plotting the MIT reactor core\n",
    "#Sklearn tools\n",
    "from sklearn.metrics import mean_absolute_error, mean_absolute_percentage_error\n",
    "from sklearn.metrics import root_mean_squared_error, r2_score\n",
    "from sklearn.preprocessing import MinMaxScaler\n",
    "from sklearn.model_selection import train_test_split\n",
    "#Keras specials\n",
    "from tensorflow.keras.models import Sequential, load_model\n",
    "from tensorflow.keras.layers import Dense, Dropout, Input\n",
    "from tensorflow.keras.optimizers import Adam\n",
    "from tensorflow.keras.callbacks import ReduceLROnPlateau, ModelCheckpoint\n",
    "\n",
    "#load the input and output dataframes from github\n",
    "xdf=pd.read_csv('https://raw.githubusercontent.com/aims-umich/ners590data/main/teds_x.csv')\n",
    "ydf=pd.read_csv('https://raw.githubusercontent.com/aims-umich/ners590data/main/teds_y.csv')\n",
    "xtrain, xtest, ytrain, ytest = train_test_split(xdf.values, ydf.values, random_state=42, test_size=0.2)\n",
    "xscaler = MinMaxScaler()\n",
    "yscaler = MinMaxScaler()\n",
    "Xtrain = xscaler.fit_transform(xtrain)\n",
    "Xtest = xscaler.transform(xtest)\n",
    "Ytrain = yscaler.fit_transform(ytrain)\n",
    "Ytest = yscaler.transform(ytest)\n",
    "\n",
    "num_dens_layers = 5                     #including the input/first layer\n",
    "n_nodes=[50, 200, 200, 200, 200]  #node per layer\n",
    "model = Sequential()\n",
    "model.add(Input(shape=(Xtrain.shape[1],)))\n",
    "model.add(Dense(n_nodes[0], kernel_initializer='normal', activation='relu'))\n",
    "model.add(Dropout(0.1))\n",
    "for i in range(1,num_dens_layers):\n",
    "    model.add(Dense(n_nodes[i], kernel_initializer='normal',activation='relu')) #Last layer (use linear activation and set nodes to number of Y columns/labels/outputs\n",
    "model.add(Dense(Ytrain.shape[1], kernel_initializer='normal',activation='linear'))\n",
    "\n",
    "model.compile(loss='mean_absolute_error', optimizer=Adam(6e-4), metrics=['mean_absolute_error'])\n",
    "model.summary()\n",
    "cp = ModelCheckpoint('best_model_manual_tuning.keras', monitor='val_mean_absolute_error', save_best_only=True, mode='min', verbose=1)\n",
    "history = model.fit(Xtrain, Ytrain, epochs=100, batch_size=8, validation_split = 0.15, callbacks=cp, verbose=True)"
   ]
  },
  {
   "cell_type": "code",
   "execution_count": 19,
   "id": "49a9d06d",
   "metadata": {},
   "outputs": [
    {
     "data": {
      "text/plain": [
       "<matplotlib.legend.Legend at 0x7fe49ccc5010>"
      ]
     },
     "execution_count": 19,
     "metadata": {},
     "output_type": "execute_result"
    },
    {
     "data": {
      "image/png": "[encoded data removed]",
      "text/plain": [
       "<Figure size 640x480 with 1 Axes>"
      ]
     },
     "metadata": {},
     "output_type": "display_data"
    }
   ],
   "source": [
    "train_err=history.history['mean_absolute_error']\n",
    "val_err=history.history['val_mean_absolute_error']\n",
    "plt.figure()\n",
    "plt.plot(train_err, label='Training')\n",
    "plt.plot(val_err, label='Validation')\n",
    "plt.xlabel('Epoch')\n",
    "plt.ylabel('Loss')\n",
    "plt.legend()"
   ]
  },
  {
   "cell_type": "code",
   "execution_count": 22,
   "id": "c4e3f8ac",
   "metadata": {},
   "outputs": [
    {
     "name": "stdout",
     "output_type": "stream",
     "text": [
      "Index(['sf', 'por', 'msf_6', 'msf_7', 'msf_8', 'msf_9', 'msf_10', 'msf_11',\n",
      "       'msf_12', 'msf_13', 'msf_14', 'msf_15', 'msf_16', 'msf_17', 'msf_18',\n",
      "       'msf_19', 'msf_20', 'msf_21', 'msf_22', 'msf_23'],\n",
      "      dtype='object')\n"
     ]
    },
    {
     "data": {
      "text/plain": [
       "453.5125427246094"
      ]
     },
     "execution_count": 22,
     "metadata": {},
     "output_type": "execute_result"
    }
   ],
   "source": [
    "print(xdf.columns)\n",
    "pred_0 = model.predict(Xtrain)\n",
    "#baseline = mean_absolute_error(Ytrain, Xtrain)\n",
    "for feature in xdf.columns:\n",
    "    xdf.loc[:,feature] = np.random.uniform(0, 1, xdf.loc[:,feature].size)\n",
    "ydf.loc[0,'TE_4_t4000']"
   ]
  }
 ],
 "metadata": {
  "kernelspec": {
   "display_name": "ners590",
   "language": "python",
   "name": "python3"
  },
  "language_info": {
   "codemirror_mode": {
    "name": "ipython",
    "version": 3
   },
   "file_extension": ".py",
   "mimetype": "text/x-python",
   "name": "python",
   "nbconvert_exporter": "python",
   "pygments_lexer": "ipython3",
   "version": "3.12.4"
  },
  "papermill": {
   "default_parameters": {},
   "duration": 303.212948,
   "end_time": "2024-10-23T14:38:01.775708",
   "environment_variables": {},
   "exception": null,
   "input_path": "abedel_lab8.ipynb",
   "output_path": "abedel_lab8_out.ipynb",
   "parameters": {},
   "start_time": "2024-10-23T14:32:58.562760",
   "version": "2.6.0"
  }
 },
 "nbformat": 4,
 "nbformat_minor": 5
}
